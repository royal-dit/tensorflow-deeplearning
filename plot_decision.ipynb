def plot_decision_boundary(model,X,y):
#     define the axix boundary of the plot and create a meshgrid
    x_min,x_max = X[:,0].min() - 0.1,X[:,0].max()+0.1
    y_min,y_max =X[:,1].min()-0.1,X[:,1].max()+0.1
    xx, yy = np.meshgrid(np.linspace(x_min,x_max,100),
                         np.linspace(y_min,y_max,100))
#     create X value (we are going to make predicition on these)
    x_in = np.c_[xx.ravel(),yy.ravel()] #stack 2d arrays together
    
    #make pred
    y_pred = model.predict(x_in)
    
#     check for multiclass
    if len(y_pred[0])>1:
        print("doing multiclass classification")
        # we have to reshpe our prediction to get them ready for plotting
        y_pred = np.argmax(y_pred,axis=1).reshape(xx.shape)
    else:
        print("doing binary classification")
        y_pred = np.round(y_pred).reshape(xx.shape)
    # plot the deciosion boundary
    plt.contourf(xx,yy,y_pred,cmap=plt.cm.RdYlBu,alpha=0.7)
    plt.scatter(X[:,0],X[:,1],c=y,s=40,cmap=plt.cm.RdYlBu)
    plt.xlim(xx.min(),xx.max())
    plt.ylim(yy.min(),yy.max())
