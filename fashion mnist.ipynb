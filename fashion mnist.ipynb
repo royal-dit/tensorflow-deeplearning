{
 "cells": [
  {
   "cell_type": "code",
   "execution_count": 8,
   "id": "95c2e293",
   "metadata": {},
   "outputs": [],
   "source": [
    "import tensorflow as tf\n",
    "from tensorflow.keras.datasets import fashion_mnist\n",
    "(train_data,train_labels),(test_data,test_labels)=fashion_mnist.load_data()\n",
    "\n"
   ]
  },
  {
   "cell_type": "code",
   "execution_count": 6,
   "id": "fad5191a",
   "metadata": {},
   "outputs": [
    {
     "data": {
      "text/plain": [
       "<matplotlib.image.AxesImage at 0x2739d85cb20>"
      ]
     },
     "execution_count": 6,
     "metadata": {},
     "output_type": "execute_result"
    },
    {
     "data": {
      "image/png": "[encoded data removed]",
      "text/plain": [
       "<Figure size 432x288 with 1 Axes>"
      ]
     },
     "metadata": {
      "needs_background": "light"
     },
     "output_type": "display_data"
    }
   ],
   "source": [
    "import matplotlib.pyplot as plt\n",
    "plt.imshow(train_data[0])"
   ]
  },
  {
   "cell_type": "code",
   "execution_count": 7,
   "id": "dd2f096e",
   "metadata": {},
   "outputs": [],
   "source": [
    "# creating a human readable\n",
    "class_names = [\"T-shirt/top\",\"Trouser\",\"Pullover\",\"Dress\",\"Coat\",\"Sandal\",\"Shirt\",\"Sneaker\",\"Bag\",\"Ankle boot\"]\n"
   ]
  },
  {
   "cell_type": "code",
   "execution_count": 15,
   "id": "be93b798",
   "metadata": {},
   "outputs": [
    {
     "data": {
      "text/plain": [
       "Text(0.5, 1.0, 'T-shirt/top')"
      ]
     },
     "execution_count": 15,
     "metadata": {},
     "output_type": "execute_result"
    },
    {
     "data": {
      "image/png": "[encoded data removed]",
      "text/plain": [
       "<Figure size 432x288 with 1 Axes>"
      ]
     },
     "metadata": {
      "needs_background": "light"
     },
     "output_type": "display_data"
    }
   ],
   "source": [
    "\n",
    "plt.imshow(train_data[17],cmap=plt.cm.binary)\n",
    "plt.title(class_names[train_labels[17]])"
   ]
  },
  {
   "cell_type": "code",
   "execution_count": null,
   "id": "3eb2b480",
   "metadata": {},
   "outputs": [],
   "source": [
    "\n",
    "    "
   ]
  },
  {
   "cell_type": "markdown",
   "id": "bd58797e",
   "metadata": {},
   "source": [
    " build a multiclasss classification model\n"
   ]
  },
  {
   "cell_type": "code",
   "execution_count": 53,
   "id": "61a19507",
   "metadata": {},
   "outputs": [
    {
     "data": {
      "text/plain": [
       "(28, 28)"
      ]
     },
     "execution_count": 53,
     "metadata": {},
     "output_type": "execute_result"
    }
   ],
   "source": [
    "#  shape of one image\n",
    "train_data[0].shape"
   ]
  },
  {
   "cell_type": "code",
   "execution_count": 54,
   "id": "83564a6f",
   "metadata": {},
   "outputs": [
    {
     "name": "stdout",
     "output_type": "stream",
     "text": [
      "Epoch 1/10\n",
      "1875/1875 [==============================] - 15s 7ms/step - loss: 1.0348 - accuracy: 0.6474 - val_loss: 99.9192 - val_accuracy: 0.7298\n",
      "Epoch 2/10\n",
      "1875/1875 [==============================] - 12s 7ms/step - loss: 0.6376 - accuracy: 0.7757 - val_loss: 108.3327 - val_accuracy: 0.7341\n",
      "Epoch 3/10\n",
      "1875/1875 [==============================] - 13s 7ms/step - loss: 0.5942 - accuracy: 0.7914 - val_loss: 102.6736 - val_accuracy: 0.7373\n",
      "Epoch 4/10\n",
      "1875/1875 [==============================] - 13s 7ms/step - loss: 0.5750 - accuracy: 0.7979 - val_loss: 132.9137 - val_accuracy: 0.7042\n",
      "Epoch 5/10\n",
      "1875/1875 [==============================] - 12s 7ms/step - loss: 0.5641 - accuracy: 0.8006 - val_loss: 150.7092 - val_accuracy: 0.7028\n",
      "Epoch 6/10\n",
      "1875/1875 [==============================] - 12s 6ms/step - loss: 0.5544 - accuracy: 0.8043 - val_loss: 126.4341 - val_accuracy: 0.7159\n",
      "Epoch 7/10\n",
      "1875/1875 [==============================] - 12s 6ms/step - loss: 0.5488 - accuracy: 0.8063 - val_loss: 118.1338 - val_accuracy: 0.7253\n",
      "Epoch 8/10\n",
      "1875/1875 [==============================] - 13s 7ms/step - loss: 0.5428 - accuracy: 0.8077 - val_loss: 128.4487 - val_accuracy: 0.7156\n",
      "Epoch 9/10\n",
      "1875/1875 [==============================] - 13s 7ms/step - loss: 0.5373 - accuracy: 0.8097 - val_loss: 142.0318 - val_accuracy: 0.7063\n",
      "Epoch 10/10\n",
      "1875/1875 [==============================] - 13s 7ms/step - loss: 0.5360 - accuracy: 0.8124 - val_loss: 143.8324 - val_accuracy: 0.7031\n"
     ]
    }
   ],
   "source": [
    "tf.random.set_seed(42)\n",
    "model = tf.keras.Sequential([\n",
    "    tf.keras.layers.Flatten(input_shape=(28,28)),\n",
    "    tf.keras.layers.Dense(4,activation=\"relu\"),\n",
    "    tf.keras.layers.Dense(4,activation=\"relu\"),\n",
    "    tf.keras.layers.Dense(10,activation=\"softmax\")\n",
    "])\n",
    "model.compile(loss=tf.keras.losses.SparseCategoricalCrossentropy(),\n",
    "             optimizer=tf.keras.optimizers.Adam(),\n",
    "             metrics=[\"accuracy\"])\n",
    "non_norm_history = model.fit(train_data,train_labels,epochs=10,validation_data=(test_data,test_labels))\n"
   ]
  },
  {
   "cell_type": "code",
   "execution_count": 55,
   "id": "51edd0b6",
   "metadata": {},
   "outputs": [
    {
     "name": "stdout",
     "output_type": "stream",
     "text": [
      "Model: \"sequential_6\"\n",
      "_________________________________________________________________\n",
      " Layer (type)                Output Shape              Param #   \n",
      "=================================================================\n",
      " flatten_5 (Flatten)         (None, 784)               0         \n",
      "                                                                 \n",
      " dense_17 (Dense)            (None, 4)                 3140      \n",
      "                                                                 \n",
      " dense_18 (Dense)            (None, 4)                 20        \n",
      "                                                                 \n",
      " dense_19 (Dense)            (None, 10)                50        \n",
      "                                                                 \n",
      "=================================================================\n",
      "Total params: 3,210\n",
      "Trainable params: 3,210\n",
      "Non-trainable params: 0\n",
      "_________________________________________________________________\n"
     ]
    }
   ],
   "source": [
    "model.summary()"
   ]
  },
  {
   "cell_type": "code",
   "execution_count": 57,
   "id": "a91f82fc",
   "metadata": {},
   "outputs": [
    {
     "data": {
      "text/plain": [
       "(0.0, 1.0)"
      ]
     },
     "execution_count": 57,
     "metadata": {},
     "output_type": "execute_result"
    }
   ],
   "source": [
    "train_data.min(),train_data.max()"
   ]
  },
  {
   "cell_type": "code",
   "execution_count": 59,
   "id": "0a3eb390",
   "metadata": {},
   "outputs": [],
   "source": [
    "train_data_norm = train_data/255.0\n",
    "test_data_norm = test_data/255.0    "
   ]
  },
  {
   "cell_type": "code",
   "execution_count": 60,
   "id": "8ac7bbc2",
   "metadata": {},
   "outputs": [
    {
     "data": {
      "text/plain": [
       "(0.0, 1.0)"
      ]
     },
     "execution_count": 60,
     "metadata": {},
     "output_type": "execute_result"
    }
   ],
   "source": [
    "train_data_norm.min(),test_data_norm.max()"
   ]
  },
  {
   "cell_type": "code",
   "execution_count": 62,
   "id": "5bb4fc10",
   "metadata": {},
   "outputs": [
    {
     "name": "stdout",
     "output_type": "stream",
     "text": [
      "Epoch 1/10\n",
      "1875/1875 [==============================] - 15s 7ms/step - loss: 1.8902 - accuracy: 0.2401 - val_loss: 31.4145 - val_accuracy: 0.1995\n",
      "Epoch 2/10\n",
      "1875/1875 [==============================] - 12s 7ms/step - loss: 1.4834 - accuracy: 0.3576 - val_loss: 87.3902 - val_accuracy: 0.1994\n",
      "Epoch 3/10\n",
      "1875/1875 [==============================] - 12s 6ms/step - loss: 1.3583 - accuracy: 0.4153 - val_loss: 137.2140 - val_accuracy: 0.1996\n",
      "Epoch 4/10\n",
      "1875/1875 [==============================] - 11s 6ms/step - loss: 1.2828 - accuracy: 0.4371 - val_loss: 159.2106 - val_accuracy: 0.2000\n",
      "Epoch 5/10\n",
      "1875/1875 [==============================] - 12s 6ms/step - loss: 1.2445 - accuracy: 0.4479 - val_loss: 159.5399 - val_accuracy: 0.2001\n",
      "Epoch 6/10\n",
      "1875/1875 [==============================] - 13s 7ms/step - loss: 1.2211 - accuracy: 0.4612 - val_loss: 165.3766 - val_accuracy: 0.2004\n",
      "Epoch 7/10\n",
      "1875/1875 [==============================] - 12s 7ms/step - loss: 1.2046 - accuracy: 0.4690 - val_loss: 163.1239 - val_accuracy: 0.2002\n",
      "Epoch 8/10\n",
      "1875/1875 [==============================] - 11s 6ms/step - loss: 1.1921 - accuracy: 0.4747 - val_loss: 162.1844 - val_accuracy: 0.2002\n",
      "Epoch 9/10\n",
      "1875/1875 [==============================] - 11s 6ms/step - loss: 1.1817 - accuracy: 0.4823 - val_loss: 164.3377 - val_accuracy: 0.2004\n",
      "Epoch 10/10\n",
      "1875/1875 [==============================] - 13s 7ms/step - loss: 1.1733 - accuracy: 0.4861 - val_loss: 159.7321 - val_accuracy: 0.2000\n"
     ]
    }
   ],
   "source": [
    "tf.random.set_seed(42)\n",
    "model = tf.keras.Sequential([\n",
    "    tf.keras.layers.Flatten(input_shape=(28,28)),\n",
    "    tf.keras.layers.Dense(4,activation=\"relu\"),\n",
    "    tf.keras.layers.Dense(4,activation=\"relu\"),\n",
    "    tf.keras.layers.Dense(10,activation=\"softmax\")\n",
    "])\n",
    "model.compile(loss=tf.keras.losses.SparseCategoricalCrossentropy(),\n",
    "             optimizer=tf.keras.optimizers.Adam(),\n",
    "             metrics=[\"accuracy\"])\n",
    "norm_history = model.fit(train_data_norm,train_labels,epochs=10,validation_data=(test_data_norm,test_labels))\n"
   ]
  },
  {
   "cell_type": "code",
   "execution_count": 69,
   "id": "44cb129f",
   "metadata": {},
   "outputs": [
    {
     "data": {
      "text/plain": [
       "<AxesSubplot:>"
      ]
     },
     "execution_count": 69,
     "metadata": {},
     "output_type": "execute_result"
    },
    {
     "data": {
      "image/png": "[encoded data removed]",
      "text/plain": [
       "<Figure size 432x288 with 1 Axes>"
      ]
     },
     "metadata": {
      "needs_background": "light"
     },
     "output_type": "display_data"
    },
    {
     "data": {
      "image/png": "[encoded data removed]",
      "text/plain": [
       "<Figure size 432x288 with 1 Axes>"
      ]
     },
     "metadata": {
      "needs_background": "light"
     },
     "output_type": "display_data"
    }
   ],
   "source": [
    "import pandas as pd\n",
    "pd.DataFrame(non_norm_history.history).plot()\n",
    "\n",
    "pd.DataFrame(norm_history.history).plot()"
   ]
  },
  {
   "cell_type": "code",
   "execution_count": 70,
   "id": "10011039",
   "metadata": {},
   "outputs": [
    {
     "name": "stdout",
     "output_type": "stream",
     "text": [
      "Epoch 1/40\n",
      "1875/1875 [==============================] - 15s 7ms/step - loss: 1.8902 - accuracy: 0.2401 - val_loss: 31.4145 - val_accuracy: 0.1995 - lr: 0.0010\n",
      "Epoch 2/40\n",
      "1875/1875 [==============================] - 12s 7ms/step - loss: 1.4749 - accuracy: 0.3622 - val_loss: 95.4945 - val_accuracy: 0.1998 - lr: 0.0011\n",
      "Epoch 3/40\n",
      "1875/1875 [==============================] - 11s 6ms/step - loss: 1.3348 - accuracy: 0.4223 - val_loss: 145.6936 - val_accuracy: 0.1996 - lr: 0.0013\n",
      "Epoch 4/40\n",
      "1875/1875 [==============================] - 16s 9ms/step - loss: 1.2577 - accuracy: 0.4466 - val_loss: 162.8013 - val_accuracy: 0.2001 - lr: 0.0014\n",
      "Epoch 5/40\n",
      "1875/1875 [==============================] - 13s 7ms/step - loss: 1.2197 - accuracy: 0.4595 - val_loss: 158.1636 - val_accuracy: 0.2003 - lr: 0.0016\n",
      "Epoch 6/40\n",
      "1875/1875 [==============================] - 13s 7ms/step - loss: 1.1952 - accuracy: 0.4744 - val_loss: 167.6752 - val_accuracy: 0.2011 - lr: 0.0018\n",
      "Epoch 7/40\n",
      "1875/1875 [==============================] - 13s 7ms/step - loss: 1.1772 - accuracy: 0.4847 - val_loss: 162.0858 - val_accuracy: 0.2004 - lr: 0.0020\n",
      "Epoch 8/40\n",
      "1875/1875 [==============================] - 14s 8ms/step - loss: 1.1641 - accuracy: 0.4891 - val_loss: 163.2911 - val_accuracy: 0.1997 - lr: 0.0022\n",
      "Epoch 9/40\n",
      "1875/1875 [==============================] - 13s 7ms/step - loss: 1.1529 - accuracy: 0.4978 - val_loss: 162.0144 - val_accuracy: 0.1999 - lr: 0.0025\n",
      "Epoch 10/40\n",
      "1875/1875 [==============================] - 14s 7ms/step - loss: 1.1445 - accuracy: 0.5039 - val_loss: 150.2474 - val_accuracy: 0.1998 - lr: 0.0028\n",
      "Epoch 11/40\n",
      "1875/1875 [==============================] - 12s 6ms/step - loss: 1.1386 - accuracy: 0.5087 - val_loss: 166.9151 - val_accuracy: 0.2001 - lr: 0.0032\n",
      "Epoch 12/40\n",
      "1875/1875 [==============================] - 12s 7ms/step - loss: 1.1341 - accuracy: 0.5096 - val_loss: 163.9623 - val_accuracy: 0.2002 - lr: 0.0035\n",
      "Epoch 13/40\n",
      "1875/1875 [==============================] - 12s 6ms/step - loss: 1.1295 - accuracy: 0.5124 - val_loss: 154.5549 - val_accuracy: 0.2006 - lr: 0.0040\n",
      "Epoch 14/40\n",
      "1875/1875 [==============================] - 12s 6ms/step - loss: 1.1271 - accuracy: 0.5164 - val_loss: 164.6200 - val_accuracy: 0.2001 - lr: 0.0045\n",
      "Epoch 15/40\n",
      "1875/1875 [==============================] - 13s 7ms/step - loss: 1.1245 - accuracy: 0.5161 - val_loss: 154.6689 - val_accuracy: 0.2001 - lr: 0.0050\n",
      "Epoch 16/40\n",
      "1875/1875 [==============================] - 12s 6ms/step - loss: 1.1240 - accuracy: 0.5165 - val_loss: 164.0849 - val_accuracy: 0.2001 - lr: 0.0056\n",
      "Epoch 17/40\n",
      "1875/1875 [==============================] - 11s 6ms/step - loss: 1.1225 - accuracy: 0.5199 - val_loss: 138.1903 - val_accuracy: 0.2002 - lr: 0.0063\n",
      "Epoch 18/40\n",
      "1875/1875 [==============================] - 12s 6ms/step - loss: 1.1229 - accuracy: 0.5177 - val_loss: 147.7789 - val_accuracy: 0.1999 - lr: 0.0071\n",
      "Epoch 19/40\n",
      "1875/1875 [==============================] - 12s 6ms/step - loss: 1.1215 - accuracy: 0.5208 - val_loss: 140.5250 - val_accuracy: 0.2003 - lr: 0.0079\n",
      "Epoch 20/40\n",
      "1875/1875 [==============================] - 12s 6ms/step - loss: 1.1228 - accuracy: 0.5196 - val_loss: 140.5537 - val_accuracy: 0.2002 - lr: 0.0089\n",
      "Epoch 21/40\n",
      "1875/1875 [==============================] - 12s 6ms/step - loss: 1.1238 - accuracy: 0.5188 - val_loss: 127.8825 - val_accuracy: 0.2003 - lr: 0.0100\n",
      "Epoch 22/40\n",
      "1875/1875 [==============================] - 12s 6ms/step - loss: 1.1235 - accuracy: 0.5210 - val_loss: 134.1222 - val_accuracy: 0.2002 - lr: 0.0112\n",
      "Epoch 23/40\n",
      "1875/1875 [==============================] - 12s 6ms/step - loss: 1.1271 - accuracy: 0.5180 - val_loss: 114.3844 - val_accuracy: 0.1999 - lr: 0.0126\n",
      "Epoch 24/40\n",
      "1875/1875 [==============================] - 12s 6ms/step - loss: 1.1287 - accuracy: 0.5157 - val_loss: 128.3755 - val_accuracy: 0.2003 - lr: 0.0141\n",
      "Epoch 25/40\n",
      "1875/1875 [==============================] - 12s 6ms/step - loss: 1.1292 - accuracy: 0.5186 - val_loss: 132.9223 - val_accuracy: 0.2000 - lr: 0.0158\n",
      "Epoch 26/40\n",
      "1875/1875 [==============================] - 11s 6ms/step - loss: 1.1305 - accuracy: 0.5172 - val_loss: 134.0666 - val_accuracy: 0.2001 - lr: 0.0178\n",
      "Epoch 27/40\n",
      "1875/1875 [==============================] - 12s 6ms/step - loss: 1.1292 - accuracy: 0.5199 - val_loss: 166.6720 - val_accuracy: 0.2003 - lr: 0.0200\n",
      "Epoch 28/40\n",
      "1875/1875 [==============================] - 12s 6ms/step - loss: 1.1312 - accuracy: 0.5186 - val_loss: 149.6333 - val_accuracy: 0.2006 - lr: 0.0224\n",
      "Epoch 29/40\n",
      "1875/1875 [==============================] - 12s 6ms/step - loss: 1.1309 - accuracy: 0.5125 - val_loss: 144.7767 - val_accuracy: 0.2002 - lr: 0.0251\n",
      "Epoch 30/40\n",
      "1875/1875 [==============================] - 12s 6ms/step - loss: 1.1326 - accuracy: 0.5173 - val_loss: 168.0438 - val_accuracy: 0.2000 - lr: 0.0282\n",
      "Epoch 31/40\n",
      "1875/1875 [==============================] - 12s 6ms/step - loss: 1.1331 - accuracy: 0.5198 - val_loss: 181.9718 - val_accuracy: 0.2000 - lr: 0.0316\n",
      "Epoch 32/40\n",
      "1875/1875 [==============================] - 12s 6ms/step - loss: 1.1372 - accuracy: 0.5184 - val_loss: 196.5078 - val_accuracy: 0.2002 - lr: 0.0355\n",
      "Epoch 33/40\n",
      "1875/1875 [==============================] - 12s 6ms/step - loss: 1.1396 - accuracy: 0.5144 - val_loss: 207.8034 - val_accuracy: 0.2003 - lr: 0.0398\n",
      "Epoch 34/40\n",
      "1875/1875 [==============================] - 12s 6ms/step - loss: 1.1483 - accuracy: 0.5135 - val_loss: 228.5570 - val_accuracy: 0.2005 - lr: 0.0447\n",
      "Epoch 35/40\n",
      "1875/1875 [==============================] - 12s 6ms/step - loss: 1.1422 - accuracy: 0.5152 - val_loss: 320.5337 - val_accuracy: 0.2002 - lr: 0.0501\n",
      "Epoch 36/40\n",
      "1875/1875 [==============================] - 12s 6ms/step - loss: 1.1496 - accuracy: 0.5131 - val_loss: 352.4275 - val_accuracy: 0.1998 - lr: 0.0562\n",
      "Epoch 37/40\n",
      "1875/1875 [==============================] - 12s 6ms/step - loss: 1.1560 - accuracy: 0.5113 - val_loss: 427.5739 - val_accuracy: 0.2002 - lr: 0.0631\n",
      "Epoch 38/40\n",
      "1875/1875 [==============================] - 12s 6ms/step - loss: 1.1610 - accuracy: 0.5009 - val_loss: 408.0824 - val_accuracy: 0.2002 - lr: 0.0708\n",
      "Epoch 39/40\n",
      "1875/1875 [==============================] - 12s 6ms/step - loss: 1.1578 - accuracy: 0.5009 - val_loss: 482.4180 - val_accuracy: 0.1997 - lr: 0.0794\n",
      "Epoch 40/40\n",
      "1875/1875 [==============================] - 12s 6ms/step - loss: 1.1500 - accuracy: 0.5028 - val_loss: 488.4360 - val_accuracy: 0.2000 - lr: 0.0891\n"
     ]
    }
   ],
   "source": [
    "tf.random.set_seed(42)\n",
    "model = tf.keras.Sequential([\n",
    "    tf.keras.layers.Flatten(input_shape=(28,28)),\n",
    "    tf.keras.layers.Dense(4,activation=\"relu\"),\n",
    "    tf.keras.layers.Dense(4,activation=\"relu\"),\n",
    "    tf.keras.layers.Dense(10,activation=\"softmax\")\n",
    "])\n",
    "model.compile(loss=tf.keras.losses.SparseCategoricalCrossentropy(),\n",
    "             optimizer=tf.keras.optimizers.Adam(),\n",
    "             metrics=[\"accuracy\"])\n",
    "lr_scheduler = tf.keras.callbacks.LearningRateScheduler(lambda epoch: 1e-3 *10**(epoch/20))\n",
    "lr_history = model.fit(train_data_norm,train_labels,epochs=40,validation_data=(test_data_norm,test_labels),callbacks=[lr_scheduler])\n"
   ]
  },
  {
   "cell_type": "code",
   "execution_count": 71,
   "id": "401190e6",
   "metadata": {},
   "outputs": [
    {
     "data": {
      "text/plain": [
       "Text(0.5, 1.0, 'finding the ideal learning rate')"
      ]
     },
     "execution_count": 71,
     "metadata": {},
     "output_type": "execute_result"
    },
    {
     "data": {
      "image/png": "[encoded data removed]",
      "text/plain": [
       "<Figure size 432x288 with 1 Axes>"
      ]
     },
     "metadata": {
      "needs_background": "light"
     },
     "output_type": "display_data"
    }
   ],
   "source": [
    "import numpy as np\n",
    "import matplotlib.pyplot as plt\n",
    "lrs = 1e-3 *(10**(tf.range(40)/20))\n",
    "plt.semilogx(lrs,lr_history.history[\"loss\"])\n",
    "plt.xlabel(\"learning rate\")\n",
    "plt.ylabel(\"Loss\")\n",
    "plt.title(\"finding the ideal learning rate\")"
   ]
  },
  {
   "cell_type": "markdown",
   "id": "020c07f2",
   "metadata": {},
   "source": [
    "#  trained without normalizing"
   ]
  },
  {
   "cell_type": "code",
   "execution_count": 90,
   "id": "b9646655",
   "metadata": {},
   "outputs": [
    {
     "name": "stderr",
     "output_type": "stream",
     "text": [
      "C:\\Users\\Dell\\AppData\\Local\\Programs\\Python\\Python310\\lib\\site-packages\\keras\\optimizers\\optimizer_v2\\adam.py:110: UserWarning: The `lr` argument is deprecated, use `learning_rate` instead.\n",
      "  super(Adam, self).__init__(name, **kwargs)\n"
     ]
    },
    {
     "name": "stdout",
     "output_type": "stream",
     "text": [
      "Epoch 1/10\n",
      "1875/1875 [==============================] - 7s 4ms/step - loss: 1.0348 - accuracy: 0.6474 - val_loss: 99.9192 - val_accuracy: 0.7298 - lr: 0.0010\n",
      "Epoch 2/10\n",
      "1875/1875 [==============================] - 7s 4ms/step - loss: 0.6366 - accuracy: 0.7759 - val_loss: 108.5675 - val_accuracy: 0.7350 - lr: 0.0011\n",
      "Epoch 3/10\n",
      "1875/1875 [==============================] - 6s 3ms/step - loss: 0.5934 - accuracy: 0.7911 - val_loss: 104.2177 - val_accuracy: 0.7335 - lr: 0.0013\n",
      "Epoch 4/10\n",
      "1875/1875 [==============================] - 6s 3ms/step - loss: 0.5749 - accuracy: 0.7969 - val_loss: 143.8113 - val_accuracy: 0.6955 - lr: 0.0014\n",
      "Epoch 5/10\n",
      "1875/1875 [==============================] - 6s 3ms/step - loss: 0.5655 - accuracy: 0.7987 - val_loss: 154.3259 - val_accuracy: 0.6986 - lr: 0.0016\n",
      "Epoch 6/10\n",
      "1875/1875 [==============================] - 6s 3ms/step - loss: 0.5569 - accuracy: 0.8022 - val_loss: 134.0122 - val_accuracy: 0.7042 - lr: 0.0018\n",
      "Epoch 7/10\n",
      "1875/1875 [==============================] - 6s 3ms/step - loss: 0.5542 - accuracy: 0.8036 - val_loss: 128.8285 - val_accuracy: 0.7151 - lr: 0.0020\n",
      "Epoch 8/10\n",
      "1875/1875 [==============================] - 6s 3ms/step - loss: 0.5509 - accuracy: 0.8039 - val_loss: 145.7937 - val_accuracy: 0.6908 - lr: 0.0022\n",
      "Epoch 9/10\n",
      "1875/1875 [==============================] - 6s 3ms/step - loss: 0.5468 - accuracy: 0.8047 - val_loss: 164.5607 - val_accuracy: 0.6787 - lr: 0.0025\n",
      "Epoch 10/10\n",
      "1875/1875 [==============================] - 6s 3ms/step - loss: 0.5478 - accuracy: 0.8058 - val_loss: 188.1086 - val_accuracy: 0.6638 - lr: 0.0028\n"
     ]
    }
   ],
   "source": [
    "tf.random.set_seed(42)\n",
    "model = tf.keras.Sequential([\n",
    "    tf.keras.layers.Flatten(input_shape=(28,28)),\n",
    "    tf.keras.layers.Dense(4,activation=\"relu\"),\n",
    "    tf.keras.layers.Dense(4,activation=\"relu\"),\n",
    "    tf.keras.layers.Dense(10,activation=\"softmax\")\n",
    "])\n",
    "model.compile(loss=tf.keras.losses.SparseCategoricalCrossentropy(),\n",
    "             optimizer=tf.keras.optimizers.Adam(lr=0.001),\n",
    "             metrics=[\"accuracy\"])\n",
    "lr_scheduler = tf.keras.callbacks.LearningRateScheduler(lambda epoch: 1e-3 *10**(epoch/20))\n",
    "\n",
    "lr_history = model.fit(train_data,train_labels,epochs=10,validation_data=(test_data,test_labels),callbacks=[lr_scheduler])\n",
    "\n",
    "\n"
   ]
  },
  {
   "cell_type": "code",
   "execution_count": 104,
   "id": "7039d766",
   "metadata": {},
   "outputs": [
    {
     "data": {
      "text/plain": [
       "Text(0.5, 1.0, 'finding the ideal learning rate')"
      ]
     },
     "execution_count": 104,
     "metadata": {},
     "output_type": "execute_result"
    },
    {
     "data": {
      "image/png": "[encoded data removed]",
      "text/plain": [
       "<Figure size 432x288 with 1 Axes>"
      ]
     },
     "metadata": {
      "needs_background": "light"
     },
     "output_type": "display_data"
    }
   ],
   "source": [
    "import numpy as np\n",
    "import matplotlib.pyplot as plt\n",
    "lrs = 1e-3 *(10**(tf.range(10)/20))\n",
    "plt.semilogx(lrs,lr_history.history[\"loss\"])\n",
    "plt.xlabel(\"learning rate\")\n",
    "plt.ylabel(\"Loss\")\n",
    "plt.title(\"finding the ideal learning rate\")\n"
   ]
  },
  {
   "cell_type": "code",
   "execution_count": 73,
   "id": "6a9d80bd",
   "metadata": {},
   "outputs": [],
   "source": [
    "import itertools\n",
    "from sklearn.metrics import confusion_matrix\n",
    "\n",
    "def make_confusion_matrix(y_true,y_pred,classes=None):\n",
    "    # create the confusion matrix\n",
    "    cm=confusion_matrix(y_true,y_pred)\n",
    "    cm_norm = cm.astype(\"float\")/cm.sum(axis=1)[:,np.newaxis]#normalize the confusion matrix\n",
    "    n_classes = cm.shape[0]\n",
    "\n",
    "    # lets prettry fy it \n",
    "    fig,ax = plt.subplots(figsize=(10,10))\n",
    "    cax = ax.matshow(cm,cmap=plt.cm.Blues)\n",
    "    fig.colorbar(cax)\n",
    "    # create classes\n",
    "    if classes:\n",
    "        labels=classes\n",
    "    else:\n",
    "        labels = np.arange(cm.shape[0])\n",
    "    #label the axis\n",
    "    ax.set(title=\"confusion matrix\",\n",
    "            xlabel = \"predicted label\",\n",
    "            ylabel = \"True label\",\n",
    "            xticks = np.arange(n_classes),\n",
    "            yticks = np.arange(n_classes),\n",
    "            xticklabels = labels,\n",
    "            yticklabels = labels\n",
    "          )\n",
    "    threeshold = (cm.max()+cm.min())/2. \n",
    "    # plot the text on each cell\n",
    "    for i,j in itertools.product(range(cm.shape[0]),range(cm.shape[1])):\n",
    "        plt.text(j,i,f\"{cm[i,j]}({cm_norm[i,j]*100:.1f}%)\",\n",
    "                horizontalalignment =\"center\",\n",
    "                color = \"white\" if cm[i,j]>threeshold else \"black\",\n",
    "                size = 15\n",
    "                )\n"
   ]
  },
  {
   "cell_type": "code",
   "execution_count": 94,
   "id": "a3862921",
   "metadata": {},
   "outputs": [
    {
     "name": "stdout",
     "output_type": "stream",
     "text": [
      "313/313 [==============================] - 1s 2ms/step\n"
     ]
    },
    {
     "data": {
      "text/plain": [
       "array([[0.0000000e+00, 0.0000000e+00, 0.0000000e+00, 0.0000000e+00,\n",
       "        0.0000000e+00, 0.0000000e+00, 0.0000000e+00, 0.0000000e+00,\n",
       "        0.0000000e+00, 1.0000000e+00],\n",
       "       [0.0000000e+00, 0.0000000e+00, 1.0000000e+00, 0.0000000e+00,\n",
       "        0.0000000e+00, 0.0000000e+00, 0.0000000e+00, 0.0000000e+00,\n",
       "        0.0000000e+00, 0.0000000e+00],\n",
       "       [0.0000000e+00, 1.0000000e+00, 0.0000000e+00, 0.0000000e+00,\n",
       "        0.0000000e+00, 0.0000000e+00, 0.0000000e+00, 0.0000000e+00,\n",
       "        0.0000000e+00, 0.0000000e+00],\n",
       "       [0.0000000e+00, 1.0000000e+00, 0.0000000e+00, 0.0000000e+00,\n",
       "        0.0000000e+00, 0.0000000e+00, 0.0000000e+00, 0.0000000e+00,\n",
       "        0.0000000e+00, 0.0000000e+00],\n",
       "       [0.0000000e+00, 0.0000000e+00, 0.0000000e+00, 0.0000000e+00,\n",
       "        4.0932692e-22, 0.0000000e+00, 1.0000000e+00, 0.0000000e+00,\n",
       "        0.0000000e+00, 0.0000000e+00]], dtype=float32)"
      ]
     },
     "execution_count": 94,
     "metadata": {},
     "output_type": "execute_result"
    }
   ],
   "source": [
    "y_probs = model.predict(test_data)\n",
    "y_probs[:5]"
   ]
  },
  {
   "cell_type": "code",
   "execution_count": 95,
   "id": "655dd8ef",
   "metadata": {},
   "outputs": [
    {
     "data": {
      "text/plain": [
       "(array([0., 0., 0., 0., 0., 0., 0., 0., 0., 1.], dtype=float32),\n",
       " array([9, 0, 0, 3, 0, 2, 7, 2, 5, 5], dtype=uint8))"
      ]
     },
     "execution_count": 95,
     "metadata": {},
     "output_type": "execute_result"
    }
   ],
   "source": [
    "y_probs[0],train_labels[:10]"
   ]
  },
  {
   "cell_type": "code",
   "execution_count": 97,
   "id": "0033d028",
   "metadata": {},
   "outputs": [
    {
     "data": {
      "text/plain": [
       "array([9, 2, 1, 1, 6, 1, 4, 4, 8, 7], dtype=int64)"
      ]
     },
     "execution_count": 97,
     "metadata": {},
     "output_type": "execute_result"
    }
   ],
   "source": [
    "y_preds = y_probs.argmax(axis = 1)\n",
    "y_preds[:10]"
   ]
  },
  {
   "cell_type": "code",
   "execution_count": null,
   "id": "70acca02",
   "metadata": {},
   "outputs": [],
   "source": []
  },
  {
   "cell_type": "code",
   "execution_count": 98,
   "id": "c708a5f1",
   "metadata": {},
   "outputs": [
    {
     "data": {
      "text/plain": [
       "array([[670,  11,  21,  75,  72,   0, 138,   0,  13,   0],\n",
       "       [  3, 942,   2,  25,  21,   0,   7,   0,   0,   0],\n",
       "       [ 18,   1, 421,   5, 496,   0,  39,   0,  19,   1],\n",
       "       [ 34,  21,   6, 693, 203,   0,  14,   0,  28,   1],\n",
       "       [  0,   0,  21,   3, 964,   0,   6,   0,   3,   3],\n",
       "       [  0,   0,   1,   0,   1, 150,   0,  76, 113, 659],\n",
       "       [110,   4,  91,  34, 586,   0, 151,   0,  23,   1],\n",
       "       [  0,   0,   0,   0,   0,   0,   0, 758,   3, 239],\n",
       "       [  2,   1,  15,   9,  45,   0,   2,   3, 902,  21],\n",
       "       [  0,   0,   1,   0,   1,   0,   0,  11,   0, 987]], dtype=int64)"
      ]
     },
     "execution_count": 98,
     "metadata": {},
     "output_type": "execute_result"
    }
   ],
   "source": [
    "from sklearn.metrics import confusion_matrix\n",
    "confusion_matrix(y_true=test_labels,y_pred=y_preds)"
   ]
  },
  {
   "cell_type": "code",
   "execution_count": 100,
   "id": "e9acc9e9",
   "metadata": {},
   "outputs": [
    {
     "ename": "ValueError",
     "evalue": "The number of FixedLocator locations (10), usually from a call to set_ticks, does not match the number of ticklabels (4).",
     "output_type": "error",
     "traceback": [
      "\u001b[1;31m---------------------------------------------------------------------------\u001b[0m",
      "\u001b[1;31mValueError\u001b[0m                                Traceback (most recent call last)",
      "Input \u001b[1;32mIn [100]\u001b[0m, in \u001b[0;36m<cell line: 1>\u001b[1;34m()\u001b[0m\n\u001b[1;32m----> 1\u001b[0m \u001b[43mmake_confusion_matrix\u001b[49m\u001b[43m(\u001b[49m\u001b[43my_true\u001b[49m\u001b[38;5;241;43m=\u001b[39;49m\u001b[43mtest_labels\u001b[49m\u001b[43m,\u001b[49m\u001b[43my_pred\u001b[49m\u001b[38;5;241;43m=\u001b[39;49m\u001b[43my_preds\u001b[49m\u001b[43m,\u001b[49m\u001b[43mclasses\u001b[49m\u001b[38;5;241;43m=\u001b[39;49m\u001b[43mclass_names\u001b[49m\u001b[43m)\u001b[49m\n",
      "Input \u001b[1;32mIn [73]\u001b[0m, in \u001b[0;36mmake_confusion_matrix\u001b[1;34m(y_true, y_pred, classes)\u001b[0m\n\u001b[0;32m     18\u001b[0m     labels \u001b[38;5;241m=\u001b[39m np\u001b[38;5;241m.\u001b[39marange(cm\u001b[38;5;241m.\u001b[39mshape[\u001b[38;5;241m0\u001b[39m])\n\u001b[0;32m     19\u001b[0m \u001b[38;5;66;03m#label the axis\u001b[39;00m\n\u001b[1;32m---> 20\u001b[0m \u001b[43max\u001b[49m\u001b[38;5;241;43m.\u001b[39;49m\u001b[43mset\u001b[49m\u001b[43m(\u001b[49m\u001b[43mtitle\u001b[49m\u001b[38;5;241;43m=\u001b[39;49m\u001b[38;5;124;43m\"\u001b[39;49m\u001b[38;5;124;43mconfusion matrix\u001b[39;49m\u001b[38;5;124;43m\"\u001b[39;49m\u001b[43m,\u001b[49m\n\u001b[0;32m     21\u001b[0m \u001b[43m        \u001b[49m\u001b[43mxlabel\u001b[49m\u001b[43m \u001b[49m\u001b[38;5;241;43m=\u001b[39;49m\u001b[43m \u001b[49m\u001b[38;5;124;43m\"\u001b[39;49m\u001b[38;5;124;43mpredicted label\u001b[39;49m\u001b[38;5;124;43m\"\u001b[39;49m\u001b[43m,\u001b[49m\n\u001b[0;32m     22\u001b[0m \u001b[43m        \u001b[49m\u001b[43mylabel\u001b[49m\u001b[43m \u001b[49m\u001b[38;5;241;43m=\u001b[39;49m\u001b[43m \u001b[49m\u001b[38;5;124;43m\"\u001b[39;49m\u001b[38;5;124;43mTrue label\u001b[39;49m\u001b[38;5;124;43m\"\u001b[39;49m\u001b[43m,\u001b[49m\n\u001b[0;32m     23\u001b[0m \u001b[43m        \u001b[49m\u001b[43mxticks\u001b[49m\u001b[43m \u001b[49m\u001b[38;5;241;43m=\u001b[39;49m\u001b[43m \u001b[49m\u001b[43mnp\u001b[49m\u001b[38;5;241;43m.\u001b[39;49m\u001b[43marange\u001b[49m\u001b[43m(\u001b[49m\u001b[43mn_classes\u001b[49m\u001b[43m)\u001b[49m\u001b[43m,\u001b[49m\n\u001b[0;32m     24\u001b[0m \u001b[43m        \u001b[49m\u001b[43myticks\u001b[49m\u001b[43m \u001b[49m\u001b[38;5;241;43m=\u001b[39;49m\u001b[43m \u001b[49m\u001b[43mnp\u001b[49m\u001b[38;5;241;43m.\u001b[39;49m\u001b[43marange\u001b[49m\u001b[43m(\u001b[49m\u001b[43mn_classes\u001b[49m\u001b[43m)\u001b[49m\u001b[43m,\u001b[49m\n\u001b[0;32m     25\u001b[0m \u001b[43m        \u001b[49m\u001b[43mxticklabels\u001b[49m\u001b[43m \u001b[49m\u001b[38;5;241;43m=\u001b[39;49m\u001b[43m \u001b[49m\u001b[43mlabels\u001b[49m\u001b[43m,\u001b[49m\n\u001b[0;32m     26\u001b[0m \u001b[43m        \u001b[49m\u001b[43myticklabels\u001b[49m\u001b[43m \u001b[49m\u001b[38;5;241;43m=\u001b[39;49m\u001b[43m \u001b[49m\u001b[43mlabels\u001b[49m\n\u001b[0;32m     27\u001b[0m \u001b[43m      \u001b[49m\u001b[43m)\u001b[49m\n\u001b[0;32m     28\u001b[0m threeshold \u001b[38;5;241m=\u001b[39m (cm\u001b[38;5;241m.\u001b[39mmax()\u001b[38;5;241m+\u001b[39mcm\u001b[38;5;241m.\u001b[39mmin())\u001b[38;5;241m/\u001b[39m\u001b[38;5;241m2.\u001b[39m \n\u001b[0;32m     29\u001b[0m \u001b[38;5;66;03m# plot the text on each cell\u001b[39;00m\n",
      "File \u001b[1;32m~\\AppData\\Local\\Programs\\Python\\Python310\\lib\\site-packages\\matplotlib\\artist.py:116\u001b[0m, in \u001b[0;36mArtist.__init_subclass__.<locals>.<lambda>\u001b[1;34m(self, **kwargs)\u001b[0m\n\u001b[0;32m    108\u001b[0m \u001b[38;5;28;01mif\u001b[39;00m \u001b[38;5;129;01mnot\u001b[39;00m \u001b[38;5;28mhasattr\u001b[39m(\u001b[38;5;28mcls\u001b[39m\u001b[38;5;241m.\u001b[39mset, \u001b[38;5;124m'\u001b[39m\u001b[38;5;124m_autogenerated_signature\u001b[39m\u001b[38;5;124m'\u001b[39m):\n\u001b[0;32m    109\u001b[0m     \u001b[38;5;66;03m# Don't overwrite cls.set if the subclass or one of its parents\u001b[39;00m\n\u001b[0;32m    110\u001b[0m     \u001b[38;5;66;03m# has defined a set method set itself.\u001b[39;00m\n\u001b[0;32m    111\u001b[0m     \u001b[38;5;66;03m# If there was no explicit definition, cls.set is inherited from\u001b[39;00m\n\u001b[0;32m    112\u001b[0m     \u001b[38;5;66;03m# the hierarchy of auto-generated set methods, which hold the\u001b[39;00m\n\u001b[0;32m    113\u001b[0m     \u001b[38;5;66;03m# flag _autogenerated_signature.\u001b[39;00m\n\u001b[0;32m    114\u001b[0m     \u001b[38;5;28;01mreturn\u001b[39;00m\n\u001b[1;32m--> 116\u001b[0m \u001b[38;5;28mcls\u001b[39m\u001b[38;5;241m.\u001b[39mset \u001b[38;5;241m=\u001b[39m \u001b[38;5;28;01mlambda\u001b[39;00m \u001b[38;5;28mself\u001b[39m, \u001b[38;5;241m*\u001b[39m\u001b[38;5;241m*\u001b[39mkwargs: Artist\u001b[38;5;241m.\u001b[39mset(\u001b[38;5;28mself\u001b[39m, \u001b[38;5;241m*\u001b[39m\u001b[38;5;241m*\u001b[39mkwargs)\n\u001b[0;32m    117\u001b[0m \u001b[38;5;28mcls\u001b[39m\u001b[38;5;241m.\u001b[39mset\u001b[38;5;241m.\u001b[39m\u001b[38;5;18m__name__\u001b[39m \u001b[38;5;241m=\u001b[39m \u001b[38;5;124m\"\u001b[39m\u001b[38;5;124mset\u001b[39m\u001b[38;5;124m\"\u001b[39m\n\u001b[0;32m    118\u001b[0m \u001b[38;5;28mcls\u001b[39m\u001b[38;5;241m.\u001b[39mset\u001b[38;5;241m.\u001b[39m\u001b[38;5;18m__qualname__\u001b[39m \u001b[38;5;241m=\u001b[39m \u001b[38;5;124mf\u001b[39m\u001b[38;5;124m\"\u001b[39m\u001b[38;5;132;01m{\u001b[39;00m\u001b[38;5;28mcls\u001b[39m\u001b[38;5;241m.\u001b[39m\u001b[38;5;18m__qualname__\u001b[39m\u001b[38;5;132;01m}\u001b[39;00m\u001b[38;5;124m.set\u001b[39m\u001b[38;5;124m\"\u001b[39m\n",
      "File \u001b[1;32m~\\AppData\\Local\\Programs\\Python\\Python310\\lib\\site-packages\\matplotlib\\artist.py:1164\u001b[0m, in \u001b[0;36mArtist.set\u001b[1;34m(self, **kwargs)\u001b[0m\n\u001b[0;32m   1159\u001b[0m \u001b[38;5;28;01mdef\u001b[39;00m \u001b[38;5;21mset\u001b[39m(\u001b[38;5;28mself\u001b[39m, \u001b[38;5;241m*\u001b[39m\u001b[38;5;241m*\u001b[39mkwargs):\n\u001b[0;32m   1160\u001b[0m     \u001b[38;5;66;03m# docstring and signature are auto-generated via\u001b[39;00m\n\u001b[0;32m   1161\u001b[0m     \u001b[38;5;66;03m# Artist._update_set_signature_and_docstring() at the end of the\u001b[39;00m\n\u001b[0;32m   1162\u001b[0m     \u001b[38;5;66;03m# module.\u001b[39;00m\n\u001b[0;32m   1163\u001b[0m     kwargs \u001b[38;5;241m=\u001b[39m cbook\u001b[38;5;241m.\u001b[39mnormalize_kwargs(kwargs, \u001b[38;5;28mself\u001b[39m)\n\u001b[1;32m-> 1164\u001b[0m     \u001b[38;5;28;01mreturn\u001b[39;00m \u001b[38;5;28;43mself\u001b[39;49m\u001b[38;5;241;43m.\u001b[39;49m\u001b[43mupdate\u001b[49m\u001b[43m(\u001b[49m\u001b[43mkwargs\u001b[49m\u001b[43m)\u001b[49m\n",
      "File \u001b[1;32m~\\AppData\\Local\\Programs\\Python\\Python310\\lib\\site-packages\\matplotlib\\artist.py:1066\u001b[0m, in \u001b[0;36mArtist.update\u001b[1;34m(self, props)\u001b[0m\n\u001b[0;32m   1063\u001b[0m             \u001b[38;5;28;01mif\u001b[39;00m \u001b[38;5;129;01mnot\u001b[39;00m callable(func):\n\u001b[0;32m   1064\u001b[0m                 \u001b[38;5;28;01mraise\u001b[39;00m \u001b[38;5;167;01mAttributeError\u001b[39;00m(\u001b[38;5;124mf\u001b[39m\u001b[38;5;124m\"\u001b[39m\u001b[38;5;132;01m{\u001b[39;00m\u001b[38;5;28mtype\u001b[39m(\u001b[38;5;28mself\u001b[39m)\u001b[38;5;241m.\u001b[39m\u001b[38;5;18m__name__\u001b[39m\u001b[38;5;132;01m!r}\u001b[39;00m\u001b[38;5;124m object \u001b[39m\u001b[38;5;124m\"\u001b[39m\n\u001b[0;32m   1065\u001b[0m                                      \u001b[38;5;124mf\u001b[39m\u001b[38;5;124m\"\u001b[39m\u001b[38;5;124mhas no property \u001b[39m\u001b[38;5;132;01m{\u001b[39;00mk\u001b[38;5;132;01m!r}\u001b[39;00m\u001b[38;5;124m\"\u001b[39m)\n\u001b[1;32m-> 1066\u001b[0m             ret\u001b[38;5;241m.\u001b[39mappend(\u001b[43mfunc\u001b[49m\u001b[43m(\u001b[49m\u001b[43mv\u001b[49m\u001b[43m)\u001b[49m)\n\u001b[0;32m   1067\u001b[0m \u001b[38;5;28;01mif\u001b[39;00m ret:\n\u001b[0;32m   1068\u001b[0m     \u001b[38;5;28mself\u001b[39m\u001b[38;5;241m.\u001b[39mpchanged()\n",
      "File \u001b[1;32m~\\AppData\\Local\\Programs\\Python\\Python310\\lib\\site-packages\\matplotlib\\axes\\_base.py:75\u001b[0m, in \u001b[0;36m_axis_method_wrapper.__set_name__.<locals>.wrapper\u001b[1;34m(self, *args, **kwargs)\u001b[0m\n\u001b[0;32m     74\u001b[0m \u001b[38;5;28;01mdef\u001b[39;00m \u001b[38;5;21mwrapper\u001b[39m(\u001b[38;5;28mself\u001b[39m, \u001b[38;5;241m*\u001b[39margs, \u001b[38;5;241m*\u001b[39m\u001b[38;5;241m*\u001b[39mkwargs):\n\u001b[1;32m---> 75\u001b[0m     \u001b[38;5;28;01mreturn\u001b[39;00m get_method(\u001b[38;5;28mself\u001b[39m)(\u001b[38;5;241m*\u001b[39margs, \u001b[38;5;241m*\u001b[39m\u001b[38;5;241m*\u001b[39mkwargs)\n",
      "File \u001b[1;32m~\\AppData\\Local\\Programs\\Python\\Python310\\lib\\site-packages\\matplotlib\\axis.py:1798\u001b[0m, in \u001b[0;36mAxis._set_ticklabels\u001b[1;34m(self, labels, fontdict, minor, **kwargs)\u001b[0m\n\u001b[0;32m   1796\u001b[0m \u001b[38;5;28;01mif\u001b[39;00m fontdict \u001b[38;5;129;01mis\u001b[39;00m \u001b[38;5;129;01mnot\u001b[39;00m \u001b[38;5;28;01mNone\u001b[39;00m:\n\u001b[0;32m   1797\u001b[0m     kwargs\u001b[38;5;241m.\u001b[39mupdate(fontdict)\n\u001b[1;32m-> 1798\u001b[0m \u001b[38;5;28;01mreturn\u001b[39;00m \u001b[38;5;28mself\u001b[39m\u001b[38;5;241m.\u001b[39mset_ticklabels(labels, minor\u001b[38;5;241m=\u001b[39mminor, \u001b[38;5;241m*\u001b[39m\u001b[38;5;241m*\u001b[39mkwargs)\n",
      "File \u001b[1;32m~\\AppData\\Local\\Programs\\Python\\Python310\\lib\\site-packages\\matplotlib\\axis.py:1720\u001b[0m, in \u001b[0;36mAxis.set_ticklabels\u001b[1;34m(self, ticklabels, minor, **kwargs)\u001b[0m\n\u001b[0;32m   1716\u001b[0m \u001b[38;5;28;01mif\u001b[39;00m \u001b[38;5;28misinstance\u001b[39m(locator, mticker\u001b[38;5;241m.\u001b[39mFixedLocator):\n\u001b[0;32m   1717\u001b[0m     \u001b[38;5;66;03m# Passing [] as a list of ticklabels is often used as a way to\u001b[39;00m\n\u001b[0;32m   1718\u001b[0m     \u001b[38;5;66;03m# remove all tick labels, so only error for > 0 ticklabels\u001b[39;00m\n\u001b[0;32m   1719\u001b[0m     \u001b[38;5;28;01mif\u001b[39;00m \u001b[38;5;28mlen\u001b[39m(locator\u001b[38;5;241m.\u001b[39mlocs) \u001b[38;5;241m!=\u001b[39m \u001b[38;5;28mlen\u001b[39m(ticklabels) \u001b[38;5;129;01mand\u001b[39;00m \u001b[38;5;28mlen\u001b[39m(ticklabels) \u001b[38;5;241m!=\u001b[39m \u001b[38;5;241m0\u001b[39m:\n\u001b[1;32m-> 1720\u001b[0m         \u001b[38;5;28;01mraise\u001b[39;00m \u001b[38;5;167;01mValueError\u001b[39;00m(\n\u001b[0;32m   1721\u001b[0m             \u001b[38;5;124m\"\u001b[39m\u001b[38;5;124mThe number of FixedLocator locations\u001b[39m\u001b[38;5;124m\"\u001b[39m\n\u001b[0;32m   1722\u001b[0m             \u001b[38;5;124mf\u001b[39m\u001b[38;5;124m\"\u001b[39m\u001b[38;5;124m (\u001b[39m\u001b[38;5;132;01m{\u001b[39;00m\u001b[38;5;28mlen\u001b[39m(locator\u001b[38;5;241m.\u001b[39mlocs)\u001b[38;5;132;01m}\u001b[39;00m\u001b[38;5;124m), usually from a call to\u001b[39m\u001b[38;5;124m\"\u001b[39m\n\u001b[0;32m   1723\u001b[0m             \u001b[38;5;124m\"\u001b[39m\u001b[38;5;124m set_ticks, does not match\u001b[39m\u001b[38;5;124m\"\u001b[39m\n\u001b[0;32m   1724\u001b[0m             \u001b[38;5;124mf\u001b[39m\u001b[38;5;124m\"\u001b[39m\u001b[38;5;124m the number of ticklabels (\u001b[39m\u001b[38;5;132;01m{\u001b[39;00m\u001b[38;5;28mlen\u001b[39m(ticklabels)\u001b[38;5;132;01m}\u001b[39;00m\u001b[38;5;124m).\u001b[39m\u001b[38;5;124m\"\u001b[39m)\n\u001b[0;32m   1725\u001b[0m     tickd \u001b[38;5;241m=\u001b[39m {loc: lab \u001b[38;5;28;01mfor\u001b[39;00m loc, lab \u001b[38;5;129;01min\u001b[39;00m \u001b[38;5;28mzip\u001b[39m(locator\u001b[38;5;241m.\u001b[39mlocs, ticklabels)}\n\u001b[0;32m   1726\u001b[0m     func \u001b[38;5;241m=\u001b[39m functools\u001b[38;5;241m.\u001b[39mpartial(\u001b[38;5;28mself\u001b[39m\u001b[38;5;241m.\u001b[39m_format_with_dict, tickd)\n",
      "\u001b[1;31mValueError\u001b[0m: The number of FixedLocator locations (10), usually from a call to set_ticks, does not match the number of ticklabels (4)."
     ]
    },
    {
     "data": {
      "image/png": "[encoded data removed]",
      "text/plain": [
       "<Figure size 720x720 with 2 Axes>"
      ]
     },
     "metadata": {
      "needs_background": "light"
     },
     "output_type": "display_data"
    }
   ],
   "source": [
    "make_confusion_matrix(y_true=test_labels,y_pred=y_preds,classes=class_names)"
   ]
  },
  {
   "cell_type": "code",
   "execution_count": 101,
   "id": "65bb4d42",
   "metadata": {},
   "outputs": [],
   "source": [
    "import random\n",
    "def plot_random_image(model,images,true_labels,classes):\n",
    "#     pics a  random image and labels it with a prediciton and truth label\n",
    "    i = random.randint(0,len(images))\n",
    "    target_image = images[i]\n",
    "    pred_probs = model.predict(target_image.reshape(1,28,28))\n",
    "    pred_label = classes[pred_probs.argmax()]\n",
    "    true_label = classes[true_labels[i]]\n",
    "    plt.imshow(target_image,cmap=plt.cm.binary)\n",
    "#     change the color of the titles depending on if the predicyion is right or wrong\n",
    "    if pred_label == true_label:\n",
    "        color = \"green\"\n",
    "    else:\n",
    "        color = \"Red\"\n",
    "    plt.xlabel(\"Pred:{}{:2.0f}%  (True:{})\".format(pred_label,\n",
    "                                                100*tf.reduce_max(pred_probs),\n",
    "                                                true_label)\n",
    "                                                ,color=color)"
   ]
  },
  {
   "cell_type": "code",
   "execution_count": 119,
   "id": "0e4c327a",
   "metadata": {},
   "outputs": [
    {
     "name": "stdout",
     "output_type": "stream",
     "text": [
      "1/1 [==============================] - 0s 38ms/step\n"
     ]
    },
    {
     "data": {
      "image/png": "[encoded data removed]",
      "text/plain": [
       "<Figure size 432x288 with 1 Axes>"
      ]
     },
     "metadata": {
      "needs_background": "light"
     },
     "output_type": "display_data"
    }
   ],
   "source": [
    "plot_random_image(model=model,images=test_data,true_labels=test_labels,classes=class_names)"
   ]
  },
  {
   "cell_type": "code",
   "execution_count": 128,
   "id": "4b9e05ad",
   "metadata": {},
   "outputs": [
    {
     "name": "stdout",
     "output_type": "stream",
     "text": [
      "1/1 [==============================] - 0s 30ms/step\n"
     ]
    },
    {
     "data": {
      "text/plain": [
       "'T-shirt/top'"
      ]
     },
     "execution_count": 128,
     "metadata": {},
     "output_type": "execute_result"
    }
   ],
   "source": []
  },
  {
   "cell_type": "markdown",
   "id": "9be50d68",
   "metadata": {},
   "source": [
    "# weight and biases of our model"
   ]
  },
  {
   "cell_type": "code",
   "execution_count": 131,
   "id": "019047ea",
   "metadata": {},
   "outputs": [
    {
     "data": {
      "text/plain": [
       "(array([[ 0.75063384, -0.27313238, -0.82188463, -0.9127995 ],\n",
       "        [ 0.26917058, -0.4646553 , -0.54879236, -0.06272327],\n",
       "        [ 0.7295087 ,  0.5222194 , -1.0784712 , -0.7401483 ],\n",
       "        ...,\n",
       "        [-0.32873824,  0.6464727 , -0.31933314,  0.20277654],\n",
       "        [-0.34444857,  0.71963626,  0.21344   , -0.55143356],\n",
       "        [ 0.19599338,  0.12751089, -0.16020966,  0.0435261 ]],\n",
       "       dtype=float32),\n",
       " (784, 4))"
      ]
     },
     "execution_count": 131,
     "metadata": {},
     "output_type": "execute_result"
    }
   ],
   "source": [
    "weigths,biases = model.layers[1].get_weights()\n",
    "weigths,weigths.shape"
   ]
  },
  {
   "cell_type": "markdown",
   "id": "36d96b8c",
   "metadata": {},
   "source": [
    "# checking inputs and outputs"
   ]
  },
  {
   "cell_type": "code",
   "execution_count": 139,
   "id": "a5bd19ae",
   "metadata": {},
   "outputs": [
    {
     "name": "stdout",
     "output_type": "stream",
     "text": [
      "You must install pydot (`pip install pydot`) and install graphviz (see instructions at https://graphviz.gitlab.io/download/) for plot_model/model_to_dot to work.\n"
     ]
    }
   ],
   "source": [
    "from tensorflow.keras.utils import plot_model\n",
    "plot_model(model,show_shapes=True)"
   ]
  },
  {
   "cell_type": "code",
   "execution_count": 138,
   "id": "71764d51",
   "metadata": {},
   "outputs": [
    {
     "name": "stdout",
     "output_type": "stream",
     "text": [
      "Requirement already satisfied: pydot in c:\\users\\dell\\appdata\\local\\programs\\python\\python310\\lib\\site-packages (1.4.2)\n",
      "Requirement already satisfied: pyparsing>=2.1.4 in c:\\users\\dell\\appdata\\local\\programs\\python\\python310\\lib\\site-packages (from pydot) (3.0.8)\n",
      "\n",
      "[notice] A new release of pip available: 22.1.2 -> 22.2.2\n",
      "[notice] To update, run: python.exe -m pip install --upgrade pip\n"
     ]
    },
    {
     "name": "stderr",
     "output_type": "stream",
     "text": [
      "WARNING: Ignoring invalid distribution -ensorflow-cpu (c:\\users\\dell\\appdata\\local\\programs\\python\\python310\\lib\\site-packages)\n",
      "WARNING: Ignoring invalid distribution -ensorflow-cpu (c:\\users\\dell\\appdata\\local\\programs\\python\\python310\\lib\\site-packages)\n",
      "WARNING: Ignoring invalid distribution -ensorflow-cpu (c:\\users\\dell\\appdata\\local\\programs\\python\\python310\\lib\\site-packages)\n",
      "WARNING: Ignoring invalid distribution -ensorflow-cpu (c:\\users\\dell\\appdata\\local\\programs\\python\\python310\\lib\\site-packages)\n",
      "WARNING: Ignoring invalid distribution -ensorflow-cpu (c:\\users\\dell\\appdata\\local\\programs\\python\\python310\\lib\\site-packages)\n",
      "WARNING: Ignoring invalid distribution -ensorflow-cpu (c:\\users\\dell\\appdata\\local\\programs\\python\\python310\\lib\\site-packages)\n"
     ]
    }
   ],
   "source": [
    "!pip install pydot"
   ]
  },
  {
   "cell_type": "code",
   "execution_count": null,
   "id": "3d7ea6be",
   "metadata": {},
   "outputs": [],
   "source": []
  }
 ],
 "metadata": {
  "kernelspec": {
   "display_name": "Python 3 (ipykernel)",
   "language": "python",
   "name": "python3"
  },
  "language_info": {
   "codemirror_mode": {
    "name": "ipython",
    "version": 3
   },
   "file_extension": ".py",
   "mimetype": "text/x-python",
   "name": "python",
   "nbconvert_exporter": "python",
   "pygments_lexer": "ipython3",
   "version": "3.10.4"
  },
  "varInspector": {
   "cols": {
    "lenName": 16,
    "lenType": 16,
    "lenVar": 40
   },
   "kernels_config": {
    "python": {
     "delete_cmd_postfix": "",
     "delete_cmd_prefix": "del ",
     "library": "var_list.py",
     "varRefreshCmd": "print(var_dic_list())"
    },
    "r": {
     "delete_cmd_postfix": ") ",
     "delete_cmd_prefix": "rm(",
     "library": "var_list.r",
     "varRefreshCmd": "cat(var_dic_list()) "
    }
   },
   "types_to_exclude": [
    "module",
    "function",
    "builtin_function_or_method",
    "instance",
    "_Feature"
   ],
   "window_display": false
  }
 },
 "nbformat": 4,
 "nbformat_minor": 5
}
