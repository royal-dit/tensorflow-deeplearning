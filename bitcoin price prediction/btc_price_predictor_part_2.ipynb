{
  "nbformat": 4,
  "nbformat_minor": 0,
  "metadata": {
    "colab": {
      "provenance": []
    },
    "kernelspec": {
      "name": "python3",
      "display_name": "Python 3"
    },
    "language_info": {
      "name": "python"
    }
  },
  "cells": [
    {
      "cell_type": "code",
      "execution_count": null,
      "metadata": {
        "id": "ZDgechZOY2VS"
      },
      "outputs": [],
      "source": [
        " import pandas as pd\n",
        " import numpy as np\n",
        " import matplotlib.pyplot as plt\n",
        " from sklearn.preprocessing import MinMaxScaler\n",
        " from tensorflow.keras.layers import Dense,Dropout,LSTM\n",
        " from tensorflow.keras.models import Sequential\n",
        " import requests\n"
      ]
    },
    {
      "cell_type": "code",
      "source": [
        "! wget https://raw.githubusercontent.com/mrdbourke/tensorflow-deep-learning/main/extras/BTC_USD_2013-10-01_2021-05-18-CoinDesk.csv\n"
      ],
      "metadata": {
        "id": "IQVjSWA3Y9qy"
      },
      "execution_count": null,
      "outputs": []
    },
    {
      "cell_type": "code",
      "source": [
        "df=pd.read_csv('/content/BTC_USD_2013-10-01_2021-05-18-CoinDesk.csv',parse_dates=['Date'],index_col=['Date'])\n",
        "df.head(2)"
      ],
      "metadata": {
        "colab": {
          "base_uri": "https://localhost:8080/",
          "height": 240
        },
        "id": "eU3zGg2SZEvm",
        "outputId": "38940cc0-28e3-4783-fc24-18742ae190d6"
      },
      "execution_count": null,
      "outputs": [
        {
          "output_type": "execute_result",
          "data": {
            "text/plain": [
              "           Currency  Closing Price (USD)  24h Open (USD)  24h High (USD)  \\\n",
              "Date                                                                       \n",
              "2013-10-01      BTC            123.65499       124.30466       124.75166   \n",
              "2013-10-02      BTC            125.45500       123.65499       125.75850   \n",
              "\n",
              "            24h Low (USD)  \n",
              "Date                       \n",
              "2013-10-01      122.56349  \n",
              "2013-10-02      123.63383  "
            ],
            "text/html": [
              "\n",
              "  <div id=\"df-85548421-395f-4445-b993-f806ccea7437\">\n",
              "    <div class=\"colab-df-container\">\n",
              "      <div>\n",
              "<style scoped>\n",
              "    .dataframe tbody tr th:only-of-type {\n",
              "        vertical-align: middle;\n",
              "    }\n",
              "\n",
              "    .dataframe tbody tr th {\n",
              "        vertical-align: top;\n",
              "    }\n",
              "\n",
              "    .dataframe thead th {\n",
              "        text-align: right;\n",
              "    }\n",
              "</style>\n",
              "<table border=\"1\" class=\"dataframe\">\n",
              "  <thead>\n",
              "    <tr style=\"text-align: right;\">\n",
              "      <th></th>\n",
              "      <th>Currency</th>\n",
              "      <th>Closing Price (USD)</th>\n",
              "      <th>24h Open (USD)</th>\n",
              "      <th>24h High (USD)</th>\n",
              "      <th>24h Low (USD)</th>\n",
              "    </tr>\n",
              "    <tr>\n",
              "      <th>Date</th>\n",
              "      <th></th>\n",
              "      <th></th>\n",
              "      <th></th>\n",
              "      <th></th>\n",
              "      <th></th>\n",
              "    </tr>\n",
              "  </thead>\n",
              "  <tbody>\n",
              "    <tr>\n",
              "      <th>2013-10-01</th>\n",
              "      <td>BTC</td>\n",
              "      <td>123.65499</td>\n",
              "      <td>124.30466</td>\n",
              "      <td>124.75166</td>\n",
              "      <td>122.56349</td>\n",
              "    </tr>\n",
              "    <tr>\n",
              "      <th>2013-10-02</th>\n",
              "      <td>BTC</td>\n",
              "      <td>125.45500</td>\n",
              "      <td>123.65499</td>\n",
              "      <td>125.75850</td>\n",
              "      <td>123.63383</td>\n",
              "    </tr>\n",
              "  </tbody>\n",
              "</table>\n",
              "</div>\n",
              "      <button class=\"colab-df-convert\" onclick=\"convertToInteractive('df-85548421-395f-4445-b993-f806ccea7437')\"\n",
              "              title=\"Convert this dataframe to an interactive table.\"\n",
              "              style=\"display:none;\">\n",
              "        \n",
              "  <svg xmlns=\"http://www.w3.org/2000/svg\" height=\"24px\"viewBox=\"0 0 24 24\"\n",
              "       width=\"24px\">\n",
              "    <path d=\"M0 0h24v24H0V0z\" fill=\"none\"/>\n",
              "    <path d=\"M18.56 5.44l.94 2.06.94-2.06 2.06-.94-2.06-.94-.94-2.06-.94 2.06-2.06.94zm-11 1L8.5 8.5l.94-2.06 2.06-.94-2.06-.94L8.5 2.5l-.94 2.06-2.06.94zm10 10l.94 2.06.94-2.06 2.06-.94-2.06-.94-.94-2.06-.94 2.06-2.06.94z\"/><path d=\"M17.41 7.96l-1.37-1.37c-.4-.4-.92-.59-1.43-.59-.52 0-1.04.2-1.43.59L10.3 9.45l-7.72 7.72c-.78.78-.78 2.05 0 2.83L4 21.41c.39.39.9.59 1.41.59.51 0 1.02-.2 1.41-.59l7.78-7.78 2.81-2.81c.8-.78.8-2.07 0-2.86zM5.41 20L4 18.59l7.72-7.72 1.47 1.35L5.41 20z\"/>\n",
              "  </svg>\n",
              "      </button>\n",
              "      \n",
              "  <style>\n",
              "    .colab-df-container {\n",
              "      display:flex;\n",
              "      flex-wrap:wrap;\n",
              "      gap: 12px;\n",
              "    }\n",
              "\n",
              "    .colab-df-convert {\n",
              "      background-color: #E8F0FE;\n",
              "      border: none;\n",
              "      border-radius: 50%;\n",
              "      cursor: pointer;\n",
              "      display: none;\n",
              "      fill: #1967D2;\n",
              "      height: 32px;\n",
              "      padding: 0 0 0 0;\n",
              "      width: 32px;\n",
              "    }\n",
              "\n",
              "    .colab-df-convert:hover {\n",
              "      background-color: #E2EBFA;\n",
              "      box-shadow: 0px 1px 2px rgba(60, 64, 67, 0.3), 0px 1px 3px 1px rgba(60, 64, 67, 0.15);\n",
              "      fill: #174EA6;\n",
              "    }\n",
              "\n",
              "    [theme=dark] .colab-df-convert {\n",
              "      background-color: #3B4455;\n",
              "      fill: #D2E3FC;\n",
              "    }\n",
              "\n",
              "    [theme=dark] .colab-df-convert:hover {\n",
              "      background-color: #434B5C;\n",
              "      box-shadow: 0px 1px 3px 1px rgba(0, 0, 0, 0.15);\n",
              "      filter: drop-shadow(0px 1px 2px rgba(0, 0, 0, 0.3));\n",
              "      fill: #FFFFFF;\n",
              "    }\n",
              "  </style>\n",
              "\n",
              "      <script>\n",
              "        const buttonEl =\n",
              "          document.querySelector('#df-85548421-395f-4445-b993-f806ccea7437 button.colab-df-convert');\n",
              "        buttonEl.style.display =\n",
              "          google.colab.kernel.accessAllowed ? 'block' : 'none';\n",
              "\n",
              "        async function convertToInteractive(key) {\n",
              "          const element = document.querySelector('#df-85548421-395f-4445-b993-f806ccea7437');\n",
              "          const dataTable =\n",
              "            await google.colab.kernel.invokeFunction('convertToInteractive',\n",
              "                                                     [key], {});\n",
              "          if (!dataTable) return;\n",
              "\n",
              "          const docLinkHtml = 'Like what you see? Visit the ' +\n",
              "            '<a target=\"_blank\" href=https://colab.research.google.com/notebooks/data_table.ipynb>data table notebook</a>'\n",
              "            + ' to learn more about interactive tables.';\n",
              "          element.innerHTML = '';\n",
              "          dataTable['output_type'] = 'display_data';\n",
              "          await google.colab.output.renderOutput(dataTable, element);\n",
              "          const docLink = document.createElement('div');\n",
              "          docLink.innerHTML = docLinkHtml;\n",
              "          element.appendChild(docLink);\n",
              "        }\n",
              "      </script>\n",
              "    </div>\n",
              "  </div>\n",
              "  "
            ]
          },
          "metadata": {},
          "execution_count": 4
        }
      ]
    },
    {
      "cell_type": "code",
      "source": [
        "#only want closing price for each day\n",
        "bitcoin_prices = pd.DataFrame(df['Closing Price (USD)']).rename(columns={'Closing Price (USD)':\"Price\"})\n",
        "bitcoin_prices.head()"
      ],
      "metadata": {
        "colab": {
          "base_uri": "https://localhost:8080/",
          "height": 238
        },
        "id": "XEA3FavhZHPW",
        "outputId": "a88aacea-f70b-4b2c-f65d-a982f9e05af7"
      },
      "execution_count": null,
      "outputs": [
        {
          "output_type": "execute_result",
          "data": {
            "text/plain": [
              "                Price\n",
              "Date                 \n",
              "2013-10-01  123.65499\n",
              "2013-10-02  125.45500\n",
              "2013-10-03  108.58483\n",
              "2013-10-04  118.67466\n",
              "2013-10-05  121.33866"
            ],
            "text/html": [
              "\n",
              "  <div id=\"df-66a1ae6e-03be-4b4c-a4d9-5b27b8997ad1\">\n",
              "    <div class=\"colab-df-container\">\n",
              "      <div>\n",
              "<style scoped>\n",
              "    .dataframe tbody tr th:only-of-type {\n",
              "        vertical-align: middle;\n",
              "    }\n",
              "\n",
              "    .dataframe tbody tr th {\n",
              "        vertical-align: top;\n",
              "    }\n",
              "\n",
              "    .dataframe thead th {\n",
              "        text-align: right;\n",
              "    }\n",
              "</style>\n",
              "<table border=\"1\" class=\"dataframe\">\n",
              "  <thead>\n",
              "    <tr style=\"text-align: right;\">\n",
              "      <th></th>\n",
              "      <th>Price</th>\n",
              "    </tr>\n",
              "    <tr>\n",
              "      <th>Date</th>\n",
              "      <th></th>\n",
              "    </tr>\n",
              "  </thead>\n",
              "  <tbody>\n",
              "    <tr>\n",
              "      <th>2013-10-01</th>\n",
              "      <td>123.65499</td>\n",
              "    </tr>\n",
              "    <tr>\n",
              "      <th>2013-10-02</th>\n",
              "      <td>125.45500</td>\n",
              "    </tr>\n",
              "    <tr>\n",
              "      <th>2013-10-03</th>\n",
              "      <td>108.58483</td>\n",
              "    </tr>\n",
              "    <tr>\n",
              "      <th>2013-10-04</th>\n",
              "      <td>118.67466</td>\n",
              "    </tr>\n",
              "    <tr>\n",
              "      <th>2013-10-05</th>\n",
              "      <td>121.33866</td>\n",
              "    </tr>\n",
              "  </tbody>\n",
              "</table>\n",
              "</div>\n",
              "      <button class=\"colab-df-convert\" onclick=\"convertToInteractive('df-66a1ae6e-03be-4b4c-a4d9-5b27b8997ad1')\"\n",
              "              title=\"Convert this dataframe to an interactive table.\"\n",
              "              style=\"display:none;\">\n",
              "        \n",
              "  <svg xmlns=\"http://www.w3.org/2000/svg\" height=\"24px\"viewBox=\"0 0 24 24\"\n",
              "       width=\"24px\">\n",
              "    <path d=\"M0 0h24v24H0V0z\" fill=\"none\"/>\n",
              "    <path d=\"M18.56 5.44l.94 2.06.94-2.06 2.06-.94-2.06-.94-.94-2.06-.94 2.06-2.06.94zm-11 1L8.5 8.5l.94-2.06 2.06-.94-2.06-.94L8.5 2.5l-.94 2.06-2.06.94zm10 10l.94 2.06.94-2.06 2.06-.94-2.06-.94-.94-2.06-.94 2.06-2.06.94z\"/><path d=\"M17.41 7.96l-1.37-1.37c-.4-.4-.92-.59-1.43-.59-.52 0-1.04.2-1.43.59L10.3 9.45l-7.72 7.72c-.78.78-.78 2.05 0 2.83L4 21.41c.39.39.9.59 1.41.59.51 0 1.02-.2 1.41-.59l7.78-7.78 2.81-2.81c.8-.78.8-2.07 0-2.86zM5.41 20L4 18.59l7.72-7.72 1.47 1.35L5.41 20z\"/>\n",
              "  </svg>\n",
              "      </button>\n",
              "      \n",
              "  <style>\n",
              "    .colab-df-container {\n",
              "      display:flex;\n",
              "      flex-wrap:wrap;\n",
              "      gap: 12px;\n",
              "    }\n",
              "\n",
              "    .colab-df-convert {\n",
              "      background-color: #E8F0FE;\n",
              "      border: none;\n",
              "      border-radius: 50%;\n",
              "      cursor: pointer;\n",
              "      display: none;\n",
              "      fill: #1967D2;\n",
              "      height: 32px;\n",
              "      padding: 0 0 0 0;\n",
              "      width: 32px;\n",
              "    }\n",
              "\n",
              "    .colab-df-convert:hover {\n",
              "      background-color: #E2EBFA;\n",
              "      box-shadow: 0px 1px 2px rgba(60, 64, 67, 0.3), 0px 1px 3px 1px rgba(60, 64, 67, 0.15);\n",
              "      fill: #174EA6;\n",
              "    }\n",
              "\n",
              "    [theme=dark] .colab-df-convert {\n",
              "      background-color: #3B4455;\n",
              "      fill: #D2E3FC;\n",
              "    }\n",
              "\n",
              "    [theme=dark] .colab-df-convert:hover {\n",
              "      background-color: #434B5C;\n",
              "      box-shadow: 0px 1px 3px 1px rgba(0, 0, 0, 0.15);\n",
              "      filter: drop-shadow(0px 1px 2px rgba(0, 0, 0, 0.3));\n",
              "      fill: #FFFFFF;\n",
              "    }\n",
              "  </style>\n",
              "\n",
              "      <script>\n",
              "        const buttonEl =\n",
              "          document.querySelector('#df-66a1ae6e-03be-4b4c-a4d9-5b27b8997ad1 button.colab-df-convert');\n",
              "        buttonEl.style.display =\n",
              "          google.colab.kernel.accessAllowed ? 'block' : 'none';\n",
              "\n",
              "        async function convertToInteractive(key) {\n",
              "          const element = document.querySelector('#df-66a1ae6e-03be-4b4c-a4d9-5b27b8997ad1');\n",
              "          const dataTable =\n",
              "            await google.colab.kernel.invokeFunction('convertToInteractive',\n",
              "                                                     [key], {});\n",
              "          if (!dataTable) return;\n",
              "\n",
              "          const docLinkHtml = 'Like what you see? Visit the ' +\n",
              "            '<a target=\"_blank\" href=https://colab.research.google.com/notebooks/data_table.ipynb>data table notebook</a>'\n",
              "            + ' to learn more about interactive tables.';\n",
              "          element.innerHTML = '';\n",
              "          dataTable['output_type'] = 'display_data';\n",
              "          await google.colab.output.renderOutput(dataTable, element);\n",
              "          const docLink = document.createElement('div');\n",
              "          docLink.innerHTML = docLinkHtml;\n",
              "          element.appendChild(docLink);\n",
              "        }\n",
              "      </script>\n",
              "    </div>\n",
              "  </div>\n",
              "  "
            ]
          },
          "metadata": {},
          "execution_count": 5
        }
      ]
    },
    {
      "cell_type": "code",
      "source": [
        "timesteps = bitcoin_prices.index.to_numpy()\n",
        "prices = bitcoin_prices['Price'].to_numpy()\n",
        "timesteps[:5],prices[:5]"
      ],
      "metadata": {
        "colab": {
          "base_uri": "https://localhost:8080/"
        },
        "id": "UGMsjz55Z5aC",
        "outputId": "0e6abff1-37a1-43ce-8ec4-cd192b3b1bed"
      },
      "execution_count": null,
      "outputs": [
        {
          "output_type": "execute_result",
          "data": {
            "text/plain": [
              "(array(['2013-10-01T00:00:00.000000000', '2013-10-02T00:00:00.000000000',\n",
              "        '2013-10-03T00:00:00.000000000', '2013-10-04T00:00:00.000000000',\n",
              "        '2013-10-05T00:00:00.000000000'], dtype='datetime64[ns]'),\n",
              " array([123.65499, 125.455  , 108.58483, 118.67466, 121.33866]))"
            ]
          },
          "metadata": {},
          "execution_count": 18
        }
      ]
    },
    {
      "cell_type": "code",
      "source": [
        "import csv\n",
        "import tensorflow as tf\n",
        "from datetime import datetime"
      ],
      "metadata": {
        "id": "x3CftXuIZJuS"
      },
      "execution_count": null,
      "outputs": []
    },
    {
      "cell_type": "code",
      "source": [
        "timesteps=[]\n",
        "btc_price = []\n",
        "with open('/content/BTC_USD_2013-10-01_2021-05-18-CoinDesk.csv','r') as f:\n",
        "  csv_reader = csv.reader(f,delimiter=\",\")\n",
        "  next(csv_reader) #skip first line (get rid of the column titles)\n",
        "  for line in csv_reader:\n",
        "    timesteps.append(datetime.strptime(line[1],\"%Y-%m-%d\")) # get the dates as date not string\n",
        "    btc_price.append(float(line[2])) # get the closing price as float\n"
      ],
      "metadata": {
        "id": "Azk_dTJ1ZNZj"
      },
      "execution_count": null,
      "outputs": []
    },
    {
      "cell_type": "code",
      "source": [
        "len(timesteps),len(btc_price)"
      ],
      "metadata": {
        "colab": {
          "base_uri": "https://localhost:8080/"
        },
        "id": "B5F9coJQrEkS",
        "outputId": "60b013c5-af4a-49f3-fe33-c3140908f9b6"
      },
      "execution_count": null,
      "outputs": [
        {
          "output_type": "execute_result",
          "data": {
            "text/plain": [
              "(2787, 2787)"
            ]
          },
          "metadata": {},
          "execution_count": 74
        }
      ]
    },
    {
      "cell_type": "markdown",
      "source": [
        "**making windows and labels**"
      ],
      "metadata": {
        "id": "naAPRKu6ajNB"
      }
    },
    {
      "cell_type": "code",
      "source": [
        "HORIZON = 1    # predict next 1 day\n",
        "WINDOW_SIZE =7  #use the past week of btc data to make this prediction\n"
      ],
      "metadata": {
        "id": "etnTeHZeZO4m"
      },
      "execution_count": null,
      "outputs": []
    },
    {
      "cell_type": "code",
      "source": [
        "def get_labelled_window(x,horizon=HORIZON):\n",
        "  return x[:,:-horizon],x[:,-horizon]\n"
      ],
      "metadata": {
        "id": "ljrhD0fKZZUb"
      },
      "execution_count": null,
      "outputs": []
    },
    {
      "cell_type": "code",
      "source": [
        "#test out the window labeling function\n",
        "test_window , test_label, = get_labelled_window(tf.expand_dims(tf.range(8),axis=0))\n",
        "print(f\"Window:{tf.squeeze(test_window).numpy()}->Label:{tf.squeeze(test_label).numpy()}\")"
      ],
      "metadata": {
        "colab": {
          "base_uri": "https://localhost:8080/"
        },
        "id": "de34rHiSZbLO",
        "outputId": "492601d6-3747-416d-ede8-fce5dda0b1dd"
      },
      "execution_count": null,
      "outputs": [
        {
          "output_type": "stream",
          "name": "stdout",
          "text": [
            "Window:[0 1 2 3 4 5 6]->Label:7\n"
          ]
        }
      ]
    },
    {
      "cell_type": "code",
      "source": [
        " #create a function to view numpy arrays as windows\n",
        " def make_windows(x,window_size = WINDOW_SIZE,horizon = HORIZON):\n",
        "   \"\"\"\n",
        "   turns 1d array into 2d array of seq labbeled windows\n",
        "   \"\"\"\n",
        "   windows_step = np.expand_dims(np.arange(window_size+horizon),axis=0)\n",
        "   #create a 2d array of multiple windows\n",
        "   window_indexes = windows_step + np.expand_dims(np.arange(len(x)-(window_size+horizon-1)),axis = 0).T\n",
        "  #  print(f\"window indexes:\\n{window_indexes,window_indexes.shape}\")\n",
        "\n",
        "   #index on the target array with 2d array of multiple windows steps\n",
        "   windowed_array=x[window_indexes]\n",
        "   print(windowed_array)\n",
        "\n",
        "   #get the labeled windows\n",
        "   windows,labels = get_labelled_window(windowed_array,horizon=horizon)\n",
        "   return windows, labels\n",
        "\n"
      ],
      "metadata": {
        "id": "iyP3JQliZdUx"
      },
      "execution_count": null,
      "outputs": []
    },
    {
      "cell_type": "code",
      "source": [
        "full_windows,full_labels = make_windows(prices,window_size = WINDOW_SIZE,horizon = HORIZON)\n",
        "len(full_windows),len(full_labels)"
      ],
      "metadata": {
        "colab": {
          "base_uri": "https://localhost:8080/"
        },
        "id": "FB_0NfkKZj1R",
        "outputId": "82368513-0950-417c-9697-e7a0af983df0"
      },
      "execution_count": null,
      "outputs": [
        {
          "output_type": "stream",
          "name": "stdout",
          "text": [
            "[[  123.65499      125.455        108.58483    ...   120.65533\n",
            "    121.795        123.033     ]\n",
            " [  125.455        108.58483      118.67466    ...   121.795\n",
            "    123.033        124.049     ]\n",
            " [  108.58483      118.67466      121.33866    ...   123.033\n",
            "    124.049        125.96116   ]\n",
            " ...\n",
            " [58788.20967893 58102.19142623 55715.54665129 ... 49764.1320816\n",
            "  50032.69313676 47885.62525472]\n",
            " [58102.19142623 55715.54665129 56573.5554719  ... 50032.69313676\n",
            "  47885.62525472 45604.61575361]\n",
            " [55715.54665129 56573.5554719  52147.82118698 ... 47885.62525472\n",
            "  45604.61575361 43144.47129086]]\n"
          ]
        },
        {
          "output_type": "execute_result",
          "data": {
            "text/plain": [
              "(2780, 2780)"
            ]
          },
          "metadata": {},
          "execution_count": 20
        }
      ]
    },
    {
      "cell_type": "code",
      "source": [
        "#view first 3 windows/labels\n",
        "for i in range(3):\n",
        "  print(f\"Window:{full_windows[i]} -> Label {full_labels[i]}\")"
      ],
      "metadata": {
        "colab": {
          "base_uri": "https://localhost:8080/"
        },
        "id": "wJQJLrVFZlyJ",
        "outputId": "a66b0608-f2f9-4fc3-cf3c-8940ecd4672f"
      },
      "execution_count": null,
      "outputs": [
        {
          "output_type": "stream",
          "name": "stdout",
          "text": [
            "Window:[123.65499 125.455   108.58483 118.67466 121.33866 120.65533 121.795  ] -> Label 123.033\n",
            "Window:[125.455   108.58483 118.67466 121.33866 120.65533 121.795   123.033  ] -> Label 124.049\n",
            "Window:[108.58483 118.67466 121.33866 120.65533 121.795   123.033   124.049  ] -> Label 125.96116\n"
          ]
        }
      ]
    },
    {
      "cell_type": "code",
      "source": [
        "#view first 3 windows/labels\n",
        "for i in range(3):\n",
        "  print(f\"Window:{full_windows[i-3]} -> Label {full_labels[i-3]}\")\n",
        "  "
      ],
      "metadata": {
        "colab": {
          "base_uri": "https://localhost:8080/"
        },
        "id": "gOpfaGLOZ-jb",
        "outputId": "296057af-3de4-4ae2-fa4d-27d90b0918e0"
      },
      "execution_count": null,
      "outputs": [
        {
          "output_type": "stream",
          "name": "stdout",
          "text": [
            "Window:[58788.20967893 58102.19142623 55715.54665129 56573.5554719\n",
            " 52147.82118698 49764.1320816  50032.69313676] -> Label 47885.6252547166\n",
            "Window:[58102.19142623 55715.54665129 56573.5554719  52147.82118698\n",
            " 49764.1320816  50032.69313676 47885.62525472] -> Label 45604.6157536131\n",
            "Window:[55715.54665129 56573.5554719  52147.82118698 49764.1320816\n",
            " 50032.69313676 47885.62525472 45604.61575361] -> Label 43144.4712908603\n"
          ]
        }
      ]
    },
    {
      "cell_type": "code",
      "source": [
        "#make train/test splits\n",
        "def make_train_test_splits(windows,labels,test_split=0.2):\n",
        "   split_size = int(len(windows)*(1-test_split)) #this seperate data in 80 20 \n",
        "   train_windows = windows[:split_size]\n",
        "   train_labels = labels[:split_size] \n",
        "   test_windows = windows[split_size:]\n",
        "   test_labels = labels[split_size:]\n",
        "\n",
        "   return train_windows,test_windows,train_labels,test_labels\n"
      ],
      "metadata": {
        "id": "D4IILXToaBJj"
      },
      "execution_count": null,
      "outputs": []
    },
    {
      "cell_type": "code",
      "source": [
        "#create train and test windows\n",
        "train_windows , test_windows,train_labels,test_labels = make_train_test_splits(full_windows,full_labels)"
      ],
      "metadata": {
        "id": "tg6OYFJlaEFc"
      },
      "execution_count": null,
      "outputs": []
    },
    {
      "cell_type": "code",
      "source": [
        "len(train_windows) , len(test_windows),len(train_labels),len(test_labels)"
      ],
      "metadata": {
        "colab": {
          "base_uri": "https://localhost:8080/"
        },
        "id": "_DugZTAiaGOb",
        "outputId": "51f7d714-73ab-493f-e2e2-b5a04390566b"
      },
      "execution_count": null,
      "outputs": [
        {
          "output_type": "execute_result",
          "data": {
            "text/plain": [
              "(2224, 556, 2224, 556)"
            ]
          },
          "metadata": {},
          "execution_count": 25
        }
      ]
    },
    {
      "cell_type": "code",
      "source": [
        "train_windows[:2],train_labels[:2]"
      ],
      "metadata": {
        "colab": {
          "base_uri": "https://localhost:8080/"
        },
        "id": "FwApZ-tNaIfh",
        "outputId": "bf7a65aa-2c62-4085-bc29-db024815c2d8"
      },
      "execution_count": null,
      "outputs": [
        {
          "output_type": "execute_result",
          "data": {
            "text/plain": [
              "(array([[123.65499, 125.455  , 108.58483, 118.67466, 121.33866, 120.65533,\n",
              "         121.795  ],\n",
              "        [125.455  , 108.58483, 118.67466, 121.33866, 120.65533, 121.795  ,\n",
              "         123.033  ]]), array([123.033, 124.049]))"
            ]
          },
          "metadata": {},
          "execution_count": 26
        }
      ]
    },
    {
      "cell_type": "code",
      "source": [
        "test_windows[:2],test_labels[:2]"
      ],
      "metadata": {
        "colab": {
          "base_uri": "https://localhost:8080/"
        },
        "id": "nSecc3m8aK8T",
        "outputId": "f6f2a981-b819-45bf-8288-b5458bfb9442"
      },
      "execution_count": null,
      "outputs": [
        {
          "output_type": "execute_result",
          "data": {
            "text/plain": [
              "(array([[9290.89660239, 9202.41545055, 9369.62808116, 9326.59962378,\n",
              "         9335.75240233, 9226.48582088, 8794.35864452],\n",
              "        [9202.41545055, 9369.62808116, 9326.59962378, 9335.75240233,\n",
              "         9226.48582088, 8794.35864452, 8798.04205463]]),\n",
              " array([8798.04205463, 9081.18687849]))"
            ]
          },
          "metadata": {},
          "execution_count": 27
        }
      ]
    },
    {
      "cell_type": "markdown",
      "source": [
        "**creating a model checkpoint**"
      ],
      "metadata": {
        "id": "qu328EF_add6"
      }
    },
    {
      "cell_type": "code",
      "source": [
        "import os\n",
        "def create_model_checkpoint(model_name,save_path=\"model_experiment\"):\n",
        "  return tf.keras.callbacks.ModelCheckpoint(filepath=os.path.join(save_path,model_name),verbose=0,save_best_only=True)\n",
        "  \n",
        "\n"
      ],
      "metadata": {
        "id": "u32oaXPAaNKH"
      },
      "execution_count": null,
      "outputs": []
    },
    {
      "cell_type": "markdown",
      "source": [
        "#model 2 : DENSE(window = 30 horizon = 1)"
      ],
      "metadata": {
        "id": "B3fUAbv8azYc"
      }
    },
    {
      "cell_type": "code",
      "source": [
        "split_size = int(0.8*len(prices)) #80% train and 20% test \n",
        "\n",
        "X_train,y_train = timesteps [:split_size],prices[:split_size]\n",
        "X_test,y_test = timesteps[split_size:],prices[split_size:]"
      ],
      "metadata": {
        "id": "gQkSCJcjhWQL"
      },
      "execution_count": null,
      "outputs": []
    },
    {
      "cell_type": "code",
      "source": [
        "HORIZON = 1 #predict one step at time (one day of bitcoin prices )\n",
        "WINDOW_SIZE  =30"
      ],
      "metadata": {
        "id": "9_FuUpTsaXbG"
      },
      "execution_count": null,
      "outputs": []
    },
    {
      "cell_type": "code",
      "source": [
        "full_windows,full_labels = make_windows(prices,window_size=WINDOW_SIZE,horizon=HORIZON)"
      ],
      "metadata": {
        "colab": {
          "base_uri": "https://localhost:8080/"
        },
        "id": "y173_EUbbd6Y",
        "outputId": "8a2fcf32-57af-4847-b464-b4afe25c60d0"
      },
      "execution_count": null,
      "outputs": [
        {
          "output_type": "stream",
          "name": "stdout",
          "text": [
            "[[  123.65499      125.455        108.58483    ...   192.75666\n",
            "    197.4          196.02499   ]\n",
            " [  125.455        108.58483      118.67466    ...   197.4\n",
            "    196.02499      198.04883   ]\n",
            " [  108.58483      118.67466      121.33866    ...   196.02499\n",
            "    198.04883      198.93233   ]\n",
            " ...\n",
            " [63346.78903511 61965.7825981  60574.44472823 ... 49764.1320816\n",
            "  50032.69313676 47885.62525472]\n",
            " [61965.7825981  60574.44472823 56850.83016569 ... 50032.69313676\n",
            "  47885.62525472 45604.61575361]\n",
            " [60574.44472823 56850.83016569 56224.10158771 ... 47885.62525472\n",
            "  45604.61575361 43144.47129086]]\n"
          ]
        }
      ]
    },
    {
      "cell_type": "code",
      "source": [
        "len(full_windows),len(full_labels)"
      ],
      "metadata": {
        "colab": {
          "base_uri": "https://localhost:8080/"
        },
        "id": "EU9l3FxobuF2",
        "outputId": "13fdd477-62d7-4e10-9764-42329471a580"
      },
      "execution_count": null,
      "outputs": [
        {
          "output_type": "execute_result",
          "data": {
            "text/plain": [
              "(2757, 2757)"
            ]
          },
          "metadata": {},
          "execution_count": 32
        }
      ]
    },
    {
      "cell_type": "code",
      "source": [
        "#making a train and testing windows\n",
        "train_windows,test_windows,train_labels,test_labels = make_train_test_splits(windows=full_windows,\n",
        "                                                                             labels=full_labels,\n",
        "                                                                             test_split=0.2\n",
        "                                                                             )\n",
        "len(train_windows),len(train_labels),len(test_windows),len(test_labels)"
      ],
      "metadata": {
        "colab": {
          "base_uri": "https://localhost:8080/"
        },
        "id": "ytrXPW0_b4Zu",
        "outputId": "c9e6a531-926c-47ed-f043-8eeff7abfd66"
      },
      "execution_count": null,
      "outputs": [
        {
          "output_type": "execute_result",
          "data": {
            "text/plain": [
              "(2205, 2205, 552, 552)"
            ]
          },
          "metadata": {},
          "execution_count": 36
        }
      ]
    },
    {
      "cell_type": "code",
      "source": [
        "train_windows[:1],train_labels[:1]"
      ],
      "metadata": {
        "colab": {
          "base_uri": "https://localhost:8080/"
        },
        "id": "Y_AGrIaIb-Nb",
        "outputId": "5f7eaf63-0f09-48a4-e266-289d70a68da1"
      },
      "execution_count": null,
      "outputs": [
        {
          "output_type": "execute_result",
          "data": {
            "text/plain": [
              "(array([[123.65499, 125.455  , 108.58483, 118.67466, 121.33866, 120.65533,\n",
              "         121.795  , 123.033  , 124.049  , 125.96116, 125.27966, 125.9275 ,\n",
              "         126.38333, 135.24199, 133.20333, 142.76333, 137.92333, 142.95166,\n",
              "         152.55183, 160.33883, 164.31499, 177.63333, 188.29716, 200.70166,\n",
              "         180.355  , 175.03166, 177.6965 , 187.15983, 192.75666, 197.4    ]]),\n",
              " array([196.02499]))"
            ]
          },
          "metadata": {},
          "execution_count": 39
        }
      ]
    },
    {
      "cell_type": "code",
      "source": [
        "tf.random.set_seed(42)\n",
        "model_1 = tf.keras.Sequential([\n",
        "    tf.keras.layers.Dense(128,activation='relu'),\n",
        "    tf.keras.layers.Dense(1)\n",
        "],name=\"model_1_dense\")\n",
        "model_1.compile(loss='mae',\n",
        "                optimizer='adam',\n",
        "                metrics=['mae'])\n",
        "history = model_1.fit(train_windows,train_labels,epochs=100,batch_size = 128,validation_data = (test_windows,test_labels),callbacks= [create_model_checkpoint(model_name=model_1.name)])\n",
        "\n",
        "\n"
      ],
      "metadata": {
        "id": "hC2j8vZicvME"
      },
      "execution_count": null,
      "outputs": []
    },
    {
      "cell_type": "code",
      "source": [
        "#eavaluate model on test data\n",
        "model_1.evaluate(test_windows,test_labels)"
      ],
      "metadata": {
        "colab": {
          "base_uri": "https://localhost:8080/"
        },
        "id": "A9cOONL3c6zs",
        "outputId": "7f86477d-85fa-4523-d9f1-0f2dd3068c62"
      },
      "execution_count": null,
      "outputs": [
        {
          "output_type": "stream",
          "name": "stdout",
          "text": [
            "18/18 [==============================] - 0s 2ms/step - loss: 658.0281 - mae: 658.0281\n"
          ]
        },
        {
          "output_type": "execute_result",
          "data": {
            "text/plain": [
              "[658.028076171875, 658.028076171875]"
            ]
          },
          "metadata": {},
          "execution_count": 41
        }
      ]
    },
    {
      "cell_type": "code",
      "source": [
        "#load in the save best model_1 and evaluate it ontest data\n",
        "model_2 = tf.keras.models.load_model(\"model_experiment/model_1_dense\")\n",
        "model_2.evaluate(test_windows,test_labels)"
      ],
      "metadata": {
        "colab": {
          "base_uri": "https://localhost:8080/"
        },
        "id": "YBueNbSBd2ha",
        "outputId": "b279faea-e202-4131-a7ab-f95ee2465dd3"
      },
      "execution_count": null,
      "outputs": [
        {
          "output_type": "stream",
          "name": "stdout",
          "text": [
            "18/18 [==============================] - 0s 2ms/step - loss: 608.8478 - mae: 608.8478\n"
          ]
        },
        {
          "output_type": "execute_result",
          "data": {
            "text/plain": [
              "[608.8478393554688, 608.8478393554688]"
            ]
          },
          "metadata": {},
          "execution_count": 57
        }
      ]
    },
    {
      "cell_type": "code",
      "source": [
        "#making forecast on the model\n",
        "def make_preds(model,input_data):\n",
        "   forecast = model.predict(input_data)\n",
        "   return tf.squeeze(forecast) #return 1d array of prediction\n",
        "   "
      ],
      "metadata": {
        "id": "ELqbSrrGe6Kc"
      },
      "execution_count": null,
      "outputs": []
    },
    {
      "cell_type": "code",
      "source": [
        "#get forecast prediction\n",
        "model_2_preds = make_preds(model_2,input_data = test_windows)\n"
      ],
      "metadata": {
        "colab": {
          "base_uri": "https://localhost:8080/"
        },
        "id": "MqHqKAS9d4mO",
        "outputId": "d9524a5e-7702-41b2-c418-fa9b013a9aba"
      },
      "execution_count": null,
      "outputs": [
        {
          "output_type": "stream",
          "name": "stdout",
          "text": [
            "18/18 [==============================] - 0s 3ms/step\n"
          ]
        }
      ]
    },
    {
      "cell_type": "code",
      "source": [
        "model_2_preds.shape"
      ],
      "metadata": {
        "colab": {
          "base_uri": "https://localhost:8080/"
        },
        "id": "LIxTybr_ez9M",
        "outputId": "3c0cd333-f386-4049-888d-0899f0e824fc"
      },
      "execution_count": null,
      "outputs": [
        {
          "output_type": "execute_result",
          "data": {
            "text/plain": [
              "TensorShape([552])"
            ]
          },
          "metadata": {},
          "execution_count": 49
        }
      ]
    },
    {
      "cell_type": "code",
      "source": [
        "def mean_absolute_scaled_error(y_true,y_pred):\n",
        "  mae = tf.reduce_mean(tf.abs(y_true-y_pred))\n",
        "  mae_naive_no_season=tf.reduce_mean(tf.abs(y_true[1:]-y_true[:-1]))\n",
        "  return mae/mae_naive_no_season\n",
        "\n",
        "def evaluate_preds(y_true,y_pred):\n",
        "  #make sure floar32 datatype\n",
        "  y_true = tf.cast(y_true,dtype = tf.float32)\n",
        "  y_pred = tf.cast(y_pred,dtype = tf.float32)\n",
        "\n",
        "  #calcuate the various evaluation metrics\n",
        "  mae = tf.keras.metrics.mean_absolute_error(y_true,y_pred)\n",
        "  mse = tf.keras.metrics.mean_squared_error(y_true,y_pred)\n",
        "  rmse =tf.sqrt(mse)\n",
        "  mape = tf.keras.metrics.mean_absolute_percentage_error(y_true,y_pred)\n",
        "  mase=mean_absolute_scaled_error(y_true,y_pred)\n",
        "  return{\"mae\":mae.numpy(),\n",
        "          \"mse\":mse.numpy(),\n",
        "          \"rmse\": rmse.numpy(),\n",
        "          \"mape\":mape.numpy(),\n",
        "           \"mase\":mase.numpy() }"
      ],
      "metadata": {
        "id": "sBQEH7Jafecc"
      },
      "execution_count": null,
      "outputs": []
    },
    {
      "cell_type": "code",
      "source": [
        "model_2_results = evaluate_preds(y_true=test_labels,y_pred = model_2_preds)\n",
        "model_2_results"
      ],
      "metadata": {
        "colab": {
          "base_uri": "https://localhost:8080/"
        },
        "id": "1t2wz3TmfE3A",
        "outputId": "2d4f7ab1-a0fa-48b6-8fd5-d0e19b24b68e"
      },
      "execution_count": null,
      "outputs": [
        {
          "output_type": "execute_result",
          "data": {
            "text/plain": [
              "{'mae': 608.84796,\n",
              " 'mse': 1284313.5,\n",
              " 'rmse': 1133.2755,\n",
              " 'mape': 2.7680647,\n",
              " 'mase': 1.0642722}"
            ]
          },
          "metadata": {},
          "execution_count": 56
        }
      ]
    },
    {
      "cell_type": "code",
      "source": [
        "#creating a plot function\n",
        "def plot_time_series(timesteps,values,format='.',start=0,end=None,label=None):\n",
        "  \"\"\"\n",
        "  timesteps: array pf timestpes values\n",
        "  values: array of values across time\n",
        "  format: style of plot,defalult\n",
        "  start: where to start the plot\n",
        "  end: where to end the plot\n",
        "  label : label to show on plot about values , defalut is none\n",
        "\n",
        "  \"\"\"\n",
        "  plt.plot(timesteps[start:end],values[start:end],format,label=label)\n",
        "  plt.xlabel(\"Time\")\n",
        "  plt.ylabel('Btc price')\n",
        "  if label:\n",
        "    plt.legend(fontsize=14)\n",
        "  plt.grid(True)"
      ],
      "metadata": {
        "id": "JI_Mq1VffRFi"
      },
      "execution_count": null,
      "outputs": []
    },
    {
      "cell_type": "code",
      "source": [
        "offset = 400\n",
        "plt.figure(figsize = (10,7))\n",
        "plot_time_series(timesteps=X_test[-len(test_windows):],values=test_labels[:,],start=offset,label=\"test data\")\n",
        "plot_time_series(timesteps=X_test[-len(test_windows):],values=model_2_preds,start=offset,format='-',label='model_2_preds')\n"
      ],
      "metadata": {
        "colab": {
          "base_uri": "https://localhost:8080/",
          "height": 442
        },
        "id": "jNrSv4augbj8",
        "outputId": "5a3c65cb-dccd-4d5b-ad56-ff549c56771b"
      },
      "execution_count": null,
      "outputs": [
        {
          "output_type": "display_data",
          "data": {
            "text/plain": [
              "<Figure size 720x504 with 1 Axes>"
            ],
            "image/png": "[encoded data removed]"
          },
          "metadata": {
            "needs_background": "light"
          }
        }
      ]
    },
    {
      "cell_type": "markdown",
      "source": [
        "#Model 3 DENSE(windows=30,horizon=7)"
      ],
      "metadata": {
        "id": "_kZVFvrIiRBS"
      }
    },
    {
      "cell_type": "code",
      "source": [
        "HORIZON = 7 #predict one step at time (one day of bitcoin prices )\n",
        "WINDOW_SIZE  =30"
      ],
      "metadata": {
        "id": "G8Z5DZK2hMfb"
      },
      "execution_count": null,
      "outputs": []
    },
    {
      "cell_type": "code",
      "source": [
        "full_windows,full_labels = make_windows(prices,window_size=WINDOW_SIZE,horizon=HORIZON)"
      ],
      "metadata": {
        "colab": {
          "base_uri": "https://localhost:8080/"
        },
        "id": "EI5i0E-xpHDh",
        "outputId": "513625a0-4e69-4d57-9ae5-69840ef530d0"
      },
      "execution_count": null,
      "outputs": [
        {
          "output_type": "stream",
          "name": "stdout",
          "text": [
            "[[  123.65499      125.455        108.58483    ...   210.3075\n",
            "    225.02         248.25333   ]\n",
            " [  125.455        108.58483      118.67466    ...   225.02\n",
            "    248.25333      262.32666   ]\n",
            " [  108.58483      118.67466      121.33866    ...   248.25333\n",
            "    262.32666      294.48699   ]\n",
            " ...\n",
            " [58171.9090187  59295.95004401 59822.90167743 ... 49764.1320816\n",
            "  50032.69313676 47885.62525472]\n",
            " [59295.95004401 59822.90167743 59853.19724227 ... 50032.69313676\n",
            "  47885.62525472 45604.61575361]\n",
            " [59822.90167743 59853.19724227 63223.88439079 ... 47885.62525472\n",
            "  45604.61575361 43144.47129086]]\n"
          ]
        }
      ]
    },
    {
      "cell_type": "code",
      "source": [
        "len(full_windows),len(full_labels)"
      ],
      "metadata": {
        "colab": {
          "base_uri": "https://localhost:8080/"
        },
        "id": "Bw6impOlpM6j",
        "outputId": "4a009bd3-3885-4923-fb1e-787364c0bde4"
      },
      "execution_count": null,
      "outputs": [
        {
          "output_type": "execute_result",
          "data": {
            "text/plain": [
              "(2751, 2751)"
            ]
          },
          "metadata": {},
          "execution_count": 67
        }
      ]
    },
    {
      "cell_type": "code",
      "source": [
        "train_windows,test_window,train_labels,test_labels=make_train_test_splits(windows=full_windows,\n",
        "                                                                          labels=full_labels)\n",
        "len( train_windows),len(test_window),len(train_labels),len(test_labels)                                                                         \n"
      ],
      "metadata": {
        "colab": {
          "base_uri": "https://localhost:8080/"
        },
        "id": "M8UTCNnkpVQI",
        "outputId": "1addef6a-c0b2-4826-b339-d179abe728c5"
      },
      "execution_count": null,
      "outputs": [
        {
          "output_type": "execute_result",
          "data": {
            "text/plain": [
              "(2200, 551, 2200, 551)"
            ]
          },
          "metadata": {},
          "execution_count": 73
        }
      ]
    },
    {
      "cell_type": "code",
      "source": [
        "\n",
        "tf.random.set_seed(42)\n",
        "model_3 = tf.keras.Sequential([\n",
        "    tf.keras.layers.Dense(128,activation='relu'),\n",
        "    tf.keras.layers.Dense(7)\n",
        "],name=\"model_3_dense\")\n",
        "model_3.compile(loss='MAE',\n",
        "                optimizer='adam',\n",
        "                metrics=['mae'])\n",
        "history_2 = model_3.fit(train_windows,\n",
        "                        train_labels,\n",
        "                        epochs=100,\n",
        "                        batch_size = 128,\n",
        "                        validation_data = (test_window,test_labels),\n",
        "                        callbacks= [create_model_checkpoint(model_name=model_3.name)],\n",
        "                        verbose=0)\n",
        "\n",
        "\n"
      ],
      "metadata": {
        "id": "xZaveUXjpuW4"
      },
      "execution_count": null,
      "outputs": []
    },
    {
      "cell_type": "code",
      "source": [
        "model_3.evaluate(test_window,test_labels)"
      ],
      "metadata": {
        "colab": {
          "base_uri": "https://localhost:8080/"
        },
        "id": "FtIJrjXIqbWy",
        "outputId": "090e56e6-bf96-4e99-d9cf-9d3fd8d63461"
      },
      "execution_count": null,
      "outputs": [
        {
          "output_type": "stream",
          "name": "stdout",
          "text": [
            "18/18 [==============================] - 0s 2ms/step - loss: 609.4731 - mae: 609.4731\n"
          ]
        },
        {
          "output_type": "execute_result",
          "data": {
            "text/plain": [
              "[609.4730834960938, 609.4730834960938]"
            ]
          },
          "metadata": {},
          "execution_count": 128
        }
      ]
    },
    {
      "cell_type": "code",
      "source": [
        "#load the best model\n",
        "model_3 = tf.keras.models.load_model(\"model_experiment/model_3_dense\")\n",
        "model_3.evaluate(test_window,test_labels)"
      ],
      "metadata": {
        "colab": {
          "base_uri": "https://localhost:8080/"
        },
        "id": "3Vl9SceJsp93",
        "outputId": "18e3fc64-e293-4fe8-f0fb-a73d2184715a"
      },
      "execution_count": null,
      "outputs": [
        {
          "output_type": "stream",
          "name": "stdout",
          "text": [
            "18/18 [==============================] - 0s 3ms/step - loss: 602.0563 - mae: 602.0563\n"
          ]
        },
        {
          "output_type": "execute_result",
          "data": {
            "text/plain": [
              "[602.0563354492188, 602.0563354492188]"
            ]
          },
          "metadata": {},
          "execution_count": 129
        }
      ]
    },
    {
      "cell_type": "code",
      "source": [
        "#make prediciton with model 3\n",
        "model_3_preds = make_preds(model_3,input_data=test_window)\n",
        "model_3_preds[:3]"
      ],
      "metadata": {
        "colab": {
          "base_uri": "https://localhost:8080/"
        },
        "id": "DixN2ZGOs-dN",
        "outputId": "7f481e0f-5af1-49ae-c877-6cbd334135da"
      },
      "execution_count": null,
      "outputs": [
        {
          "output_type": "stream",
          "name": "stdout",
          "text": [
            "18/18 [==============================] - 0s 2ms/step\n"
          ]
        },
        {
          "output_type": "execute_result",
          "data": {
            "text/plain": [
              "<tf.Tensor: shape=(3, 7), dtype=float32, numpy=\n",
              "array([[9188.418, 9269.789, 9398.374, 9311.184, 9303.162, 9319.819,\n",
              "        9338.406],\n",
              "       [8929.789, 8955.408, 9158.057, 8936.429, 8893.285, 8905.505,\n",
              "        9016.58 ],\n",
              "       [8947.181, 8820.201, 9038.075, 8844.681, 8775.781, 8752.289,\n",
              "        8877.895]], dtype=float32)>"
            ]
          },
          "metadata": {},
          "execution_count": 130
        }
      ]
    },
    {
      "cell_type": "code",
      "source": [
        "model_2_preds[:3]"
      ],
      "metadata": {
        "colab": {
          "base_uri": "https://localhost:8080/"
        },
        "id": "3pwCP5RktT5K",
        "outputId": "3d5358ee-ce89-4349-b414-1c76bc32fe20"
      },
      "execution_count": null,
      "outputs": [
        {
          "output_type": "execute_result",
          "data": {
            "text/plain": [
              "<tf.Tensor: shape=(3,), dtype=float32, numpy=array([8903.55 , 8932.77 , 8792.954], dtype=float32)>"
            ]
          },
          "metadata": {},
          "execution_count": 131
        }
      ]
    },
    {
      "cell_type": "code",
      "source": [
        "\n",
        "\n"
      ],
      "metadata": {
        "id": "-tVF32QmzByV"
      },
      "execution_count": null,
      "outputs": []
    },
    {
      "cell_type": "code",
      "source": [
        "def evaluate_preds(y_true,y_pred):\n",
        "  #make sure floar32 datatype\n",
        "  y_true = tf.cast(y_true,dtype = tf.float32)\n",
        "  y_pred = tf.cast(y_pred,dtype = tf.float32)\n",
        "\n",
        "  #calcuate the various evaluation metrics\n",
        "  mae = tf.keras.metrics.mean_absolute_error(y_true,y_pred)\n",
        "  mse = tf.keras.metrics.mean_squared_error(y_true,y_pred)\n",
        "  rmse =tf.sqrt(mse)\n",
        "  mape = tf.keras.metrics.mean_absolute_percentage_error(y_true,y_pred)\n",
        "  mase=mean_absolute_scaled_error(y_true,y_pred)\n",
        "  # if mae.ndim>0:\n",
        "  #   mae = tf.reduce_mean(mae)\n",
        "  #   mse = tf.reduce_mean(mse)\n",
        "  #   rmse = tf.reduce_mean(rmse)\n",
        "  #   mape = tf.reduce_mean(mape)\n",
        "  #   mase = tf.reduce_mean(mase)\n",
        "  return{\"mae\":mae.numpy(),\n",
        "          \"mse\":mse.numpy(),\n",
        "          \"rmse\": rmse.numpy(),\n",
        "          \"mape\":mape.numpy(),\n",
        "           \"mase\":mase.numpy() }"
      ],
      "metadata": {
        "id": "px0Gl9oa0j1S"
      },
      "execution_count": null,
      "outputs": []
    },
    {
      "cell_type": "code",
      "source": [
        "model_3_pred = tf.reduce_mean(model_3_preds)\n",
        "model_3_results = evaluate_preds(y_true=test_labels,y_pred=model_3_pred)\n",
        "model_3_results"
      ],
      "metadata": {
        "colab": {
          "base_uri": "https://localhost:8080/"
        },
        "id": "NVELM73J2VFo",
        "outputId": "2d39d159-1ffd-4725-b7e2-62a5b43a4152"
      },
      "execution_count": null,
      "outputs": [
        {
          "output_type": "execute_result",
          "data": {
            "text/plain": [
              "{'mae': 14182.255,\n",
              " 'mse': 301476380.0,\n",
              " 'rmse': 17363.076,\n",
              " 'mape': 96.08799,\n",
              " 'mase': 25.831463}"
            ]
          },
          "metadata": {},
          "execution_count": 133
        }
      ]
    },
    {
      "cell_type": "code",
      "source": [
        "offset = 300\n",
        "plt.figure(figsize = (10,7))\n",
        "plot_time_series(timesteps=X_test[-len(test_window):],values=test_labels[:,], start=offset, label=\"test data\")\n",
        "plot_time_series(timesteps=X_test[-len(test_window):],values=tf.reduce_mean(model_3_preds,axis=1),format='-', start=offset, label=\"model_3_preds\")\n"
      ],
      "metadata": {
        "colab": {
          "base_uri": "https://localhost:8080/",
          "height": 442
        },
        "id": "MVlwYgO3y2VF",
        "outputId": "4d60d13f-ab33-40ff-dbc0-f10084695976"
      },
      "execution_count": null,
      "outputs": [
        {
          "output_type": "display_data",
          "data": {
            "text/plain": [
              "<Figure size 720x504 with 1 Axes>"
            ],
            "image/png": "[encoded data removed]"
          },
          "metadata": {
            "needs_background": "light"
          }
        }
      ]
    },
    {
      "cell_type": "markdown",
      "source": [
        "#which of out model performed better"
      ],
      "metadata": {
        "id": "u_9jt_-37luq"
      }
    },
    {
      "cell_type": "code",
      "source": [
        " pd.DataFrame({\n",
        "    \"horizon_1_window_30\":model_2_results,\n",
        "    \"horizon_7_window_30\":model_3_results\n",
        " },\n",
        " index=['mae']\n",
        " ).plot(figsize = (10,7),kind='bar')"
      ],
      "metadata": {
        "colab": {
          "base_uri": "https://localhost:8080/",
          "height": 457
        },
        "id": "FAA5waKN2zqX",
        "outputId": "0a742de5-c471-48b2-9683-535ead85d5c1"
      },
      "execution_count": null,
      "outputs": [
        {
          "output_type": "execute_result",
          "data": {
            "text/plain": [
              "<matplotlib.axes._subplots.AxesSubplot at 0x7f90d47da850>"
            ]
          },
          "metadata": {},
          "execution_count": 145
        },
        {
          "output_type": "display_data",
          "data": {
            "text/plain": [
              "<Figure size 720x504 with 1 Axes>"
            ],
            "image/png": "[encoded data removed]"
          },
          "metadata": {
            "needs_background": "light"
          }
        }
      ]
    },
    {
      "cell_type": "code",
      "source": [],
      "metadata": {
        "id": "xnF2IAjX76Tk"
      },
      "execution_count": null,
      "outputs": []
    }
  ]
}