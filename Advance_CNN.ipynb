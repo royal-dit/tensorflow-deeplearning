{
  "nbformat": 4,
  "nbformat_minor": 0,
  "metadata": {
    "colab": {
      "provenance": [],
      "toc_visible": true,
      "collapsed_sections": [
        "izWm-_fEul00",
        "6BSgZ1zlpvWJ",
        "zpfZ4pS8P93V",
        "A_knjKueq_Zo"
      ],
      "mount_file_id": "1q8IjhqS0ERxA-Z9qn69VuwWy9dcO-Vpp",
      "authorship_tag": "ABX9TyOR9ZMpWOk0cEIZxXQzalrB",
      "include_colab_link": true
    },
    "kernelspec": {
      "name": "python3",
      "display_name": "Python 3"
    },
    "language_info": {
      "name": "python"
    },
    "accelerator": "GPU",
    "gpuClass": "standard"
  },
  "cells": [
    {
      "cell_type": "markdown",
      "metadata": {
        "id": "view-in-github",
        "colab_type": "text"
      },
      "source": [
        "<a href=\"https://colab.research.google.com/github/royal-dit/tensorflow-deeplearning/blob/main/Advance_CNN.ipynb\" target=\"_parent\"><img src=\"https://colab.research.google.com/assets/colab-badge.svg\" alt=\"Open In Colab\"/></a>"
      ]
    },
    {
      "cell_type": "markdown",
      "source": [
        "#upsampling vs Conv2D Transpose"
      ],
      "metadata": {
        "id": "izWm-_fEul00"
      }
    },
    {
      "cell_type": "code",
      "source": [
        "import numpy as np \n",
        "import tensorflow as tf\n"
      ],
      "metadata": {
        "id": "YgKC-GaEura6"
      },
      "execution_count": null,
      "outputs": []
    },
    {
      "cell_type": "code",
      "source": [
        "X = np.asarray([[1,2,3],\n",
        "                [4,5,6],\n",
        "                [7,8,9]\n",
        "                ])"
      ],
      "metadata": {
        "id": "prykOaWfuxKo"
      },
      "execution_count": null,
      "outputs": []
    },
    {
      "cell_type": "code",
      "source": [
        "X_reshape = X.reshape(1,3,3,1)"
      ],
      "metadata": {
        "id": "cFwhAHK_uxHE"
      },
      "execution_count": null,
      "outputs": []
    },
    {
      "cell_type": "code",
      "source": [
        "X_reshape.shape"
      ],
      "metadata": {
        "colab": {
          "base_uri": "https://localhost:8080/"
        },
        "id": "OFlWgHl6uxEh",
        "outputId": "64401736-26c6-48f6-e654-078062268099"
      },
      "execution_count": null,
      "outputs": [
        {
          "output_type": "execute_result",
          "data": {
            "text/plain": [
              "(1, 3, 3, 1)"
            ]
          },
          "metadata": {},
          "execution_count": 95
        }
      ]
    },
    {
      "cell_type": "code",
      "source": [
        "model = tf.keras.Sequential([\n",
        "    tf.keras.layers.Input(shape=(3,3,1)),\n",
        "    tf.keras.layers.UpSampling2D(size = (2,2))\n",
        "])"
      ],
      "metadata": {
        "id": "Xl9YhjaPuxCO"
      },
      "execution_count": null,
      "outputs": []
    },
    {
      "cell_type": "code",
      "source": [
        "model.summary()"
      ],
      "metadata": {
        "colab": {
          "base_uri": "https://localhost:8080/"
        },
        "id": "8Y-vC1Wbuw_5",
        "outputId": "530b0c2c-ec2f-4b79-be00-fd6e6e6e05b4"
      },
      "execution_count": null,
      "outputs": [
        {
          "output_type": "stream",
          "name": "stdout",
          "text": [
            "Model: \"sequential_1\"\n",
            "_________________________________________________________________\n",
            " Layer (type)                Output Shape              Param #   \n",
            "=================================================================\n",
            " up_sampling2d (UpSampling2D  (None, 6, 6, 1)          0         \n",
            " )                                                               \n",
            "                                                                 \n",
            "=================================================================\n",
            "Total params: 0\n",
            "Trainable params: 0\n",
            "Non-trainable params: 0\n",
            "_________________________________________________________________\n"
          ]
        }
      ]
    },
    {
      "cell_type": "code",
      "source": [
        "upsampled_x = model.predict(X_reshape)"
      ],
      "metadata": {
        "colab": {
          "base_uri": "https://localhost:8080/"
        },
        "id": "sf7ou7c0v2gt",
        "outputId": "3c965a08-645c-486e-f210-8d950325117e"
      },
      "execution_count": null,
      "outputs": [
        {
          "output_type": "stream",
          "name": "stdout",
          "text": [
            "1/1 [==============================] - 0s 118ms/step\n"
          ]
        }
      ]
    },
    {
      "cell_type": "code",
      "source": [
        "upsampled_x = upsampled_x.reshape(upsampled_x.shape[1],upsampled_x.shape[2])"
      ],
      "metadata": {
        "id": "mXFUowsAv2dU"
      },
      "execution_count": null,
      "outputs": []
    },
    {
      "cell_type": "code",
      "source": [
        "upsampled_x"
      ],
      "metadata": {
        "colab": {
          "base_uri": "https://localhost:8080/"
        },
        "id": "EWarcJ3Sv2ax",
        "outputId": "ffb53fe6-4ae6-4431-ed70-7e85b1d1775c"
      },
      "execution_count": null,
      "outputs": [
        {
          "output_type": "execute_result",
          "data": {
            "text/plain": [
              "array([[1., 1., 2., 2., 3., 3.],\n",
              "       [1., 1., 2., 2., 3., 3.],\n",
              "       [4., 4., 5., 5., 6., 6.],\n",
              "       [4., 4., 5., 5., 6., 6.],\n",
              "       [7., 7., 8., 8., 9., 9.],\n",
              "       [7., 7., 8., 8., 9., 9.]], dtype=float32)"
            ]
          },
          "metadata": {},
          "execution_count": 101
        }
      ]
    },
    {
      "cell_type": "markdown",
      "source": [
        "**Conv2Dtranspose**"
      ],
      "metadata": {
        "id": "kdXSbbnA2VfH"
      }
    },
    {
      "cell_type": "code",
      "source": [
        "model1 = tf.keras.Sequential([\n",
        "    tf.keras.layers.Input(shape=(3,3,1)),\n",
        "    tf.keras.layers.Conv2DTranspose(1,(1,1),strides=(2,2),kernel_initializer='ones' )\n",
        "])"
      ],
      "metadata": {
        "id": "lT2y-E6Xv2Yd"
      },
      "execution_count": null,
      "outputs": []
    },
    {
      "cell_type": "code",
      "source": [
        "model1.summary()"
      ],
      "metadata": {
        "colab": {
          "base_uri": "https://localhost:8080/"
        },
        "id": "CD82vr5G2syK",
        "outputId": "af278719-caa5-4e92-80f7-e86cd80b65e9"
      },
      "execution_count": null,
      "outputs": [
        {
          "output_type": "stream",
          "name": "stdout",
          "text": [
            "Model: \"sequential_3\"\n",
            "_________________________________________________________________\n",
            " Layer (type)                Output Shape              Param #   \n",
            "=================================================================\n",
            " conv2d_transpose_1 (Conv2DT  (None, 6, 6, 1)          2         \n",
            " ranspose)                                                       \n",
            "                                                                 \n",
            "=================================================================\n",
            "Total params: 2\n",
            "Trainable params: 2\n",
            "Non-trainable params: 0\n",
            "_________________________________________________________________\n"
          ]
        }
      ]
    },
    {
      "cell_type": "code",
      "source": [
        "X_conv2dtrans = model1.predict(X_reshape)\n",
        "X_conv2dtrans = X_conv2dtrans.reshape(X_conv2dtrans.shape[1],X_conv2dtrans.shape[2])\n",
        "X_conv2dtrans"
      ],
      "metadata": {
        "colab": {
          "base_uri": "https://localhost:8080/"
        },
        "id": "ehNNxVNh2sun",
        "outputId": "783e96eb-0185-48f5-9f69-01e98cbe9d1f"
      },
      "execution_count": null,
      "outputs": [
        {
          "output_type": "stream",
          "name": "stdout",
          "text": [
            "1/1 [==============================] - 0s 49ms/step\n"
          ]
        },
        {
          "output_type": "execute_result",
          "data": {
            "text/plain": [
              "array([[1., 0., 2., 0., 3., 0.],\n",
              "       [0., 0., 0., 0., 0., 0.],\n",
              "       [4., 0., 5., 0., 6., 0.],\n",
              "       [0., 0., 0., 0., 0., 0.],\n",
              "       [7., 0., 8., 0., 9., 0.],\n",
              "       [0., 0., 0., 0., 0., 0.]], dtype=float32)"
            ]
          },
          "metadata": {},
          "execution_count": 105
        }
      ]
    },
    {
      "cell_type": "code",
      "source": [],
      "metadata": {
        "id": "as3dpeXi2ssM"
      },
      "execution_count": null,
      "outputs": []
    },
    {
      "cell_type": "markdown",
      "source": [
        "#Higest accuracy in lowest dataset(dog vs cat)\n"
      ],
      "metadata": {
        "id": "6BSgZ1zlpvWJ"
      }
    },
    {
      "cell_type": "markdown",
      "source": [
        "**Using Logistic Regression**"
      ],
      "metadata": {
        "id": "hM6VvbIfpz_e"
      }
    },
    {
      "cell_type": "code",
      "execution_count": null,
      "metadata": {
        "id": "erzJJ5wiYVJD"
      },
      "outputs": [],
      "source": [
        "import pandas as pd \n",
        "import numpy as np \n",
        "import matplotlib.pyplot as plt\n",
        "from keras.preprocessing.image import ImageDataGenerator\n",
        "import tensorflow as tf\n"
      ]
    },
    {
      "cell_type": "code",
      "source": [
        "train_dir = \"/content/drive/MyDrive/Colab Notebooks/random images/dog vs cat/training_set/training_set\"\n",
        "test_dir = \"/content/drive/MyDrive/Colab Notebooks/random images/dog vs cat/test_set/test_set\""
      ],
      "metadata": {
        "id": "wvWc9Kx3p6_r"
      },
      "execution_count": null,
      "outputs": []
    },
    {
      "cell_type": "code",
      "source": [
        "train_datagen = ImageDataGenerator(rescale=1./255)\n",
        "test_datagen =  ImageDataGenerator(rescale = 1./255)"
      ],
      "metadata": {
        "id": "SOaIdMCCqkJV"
      },
      "execution_count": null,
      "outputs": []
    },
    {
      "cell_type": "code",
      "source": [
        "train_data = tf.keras.preprocessing.image_dataset_from_directory(train_dir,\n",
        "                                                                 shuffle = True,\n",
        "                                                                 image_size = (224,224),\n",
        "                                                                 label_mode = \"binary\",\n",
        "                                                                 batch_size = 50, \n",
        "                                                                 )\n",
        "test_data = tf.keras.preprocessing.image_dataset_from_directory(test_dir,\n",
        "                                                                shuffle = True,\n",
        "                                                                image_size = (224,224),\n",
        "                                                                label_mode = \"binary\",\n",
        "                                                                batch_size = 15\n",
        "                                                                )\n",
        "\n",
        "                                                                \n",
        "                                                                "
      ],
      "metadata": {
        "colab": {
          "base_uri": "https://localhost:8080/"
        },
        "id": "ZoQwrAZdrPwO",
        "outputId": "d595e95a-bc82-45ca-fea7-e3560af4fb2c"
      },
      "execution_count": null,
      "outputs": [
        {
          "output_type": "stream",
          "name": "stdout",
          "text": [
            "Found 8005 files belonging to 2 classes.\n",
            "Found 2023 files belonging to 2 classes.\n"
          ]
        }
      ]
    },
    {
      "cell_type": "code",
      "source": [
        "class_names = train_data.class_names\n",
        "class_names"
      ],
      "metadata": {
        "colab": {
          "base_uri": "https://localhost:8080/"
        },
        "id": "iiSXclREtdn_",
        "outputId": "70e2e678-4c99-4148-89e6-c4fe8dd2359f"
      },
      "execution_count": null,
      "outputs": [
        {
          "output_type": "execute_result",
          "data": {
            "text/plain": [
              "['cats', 'dogs']"
            ]
          },
          "metadata": {},
          "execution_count": 40
        }
      ]
    },
    {
      "cell_type": "code",
      "source": [
        "len(train_data),len(test_data)"
      ],
      "metadata": {
        "colab": {
          "base_uri": "https://localhost:8080/"
        },
        "id": "lEqTE4zWtuM8",
        "outputId": "5f8d183d-d5ba-48a0-d8e9-4f54a5ba52f9"
      },
      "execution_count": null,
      "outputs": [
        {
          "output_type": "execute_result",
          "data": {
            "text/plain": [
              "(161, 135)"
            ]
          },
          "metadata": {},
          "execution_count": 41
        }
      ]
    },
    {
      "cell_type": "code",
      "source": [
        "for image_batch, label_batch in train_data.take(1):\n",
        "  print(image_batch.shape)\n",
        "  print(label_batch.numpy())"
      ],
      "metadata": {
        "colab": {
          "base_uri": "https://localhost:8080/"
        },
        "id": "Zjq_GVyBv3-O",
        "outputId": "8d5e5612-56d5-4a63-9af5-9d01dae39f3c"
      },
      "execution_count": null,
      "outputs": [
        {
          "output_type": "stream",
          "name": "stdout",
          "text": [
            "(50, 224, 224, 3)\n",
            "[[1.]\n",
            " [1.]\n",
            " [0.]\n",
            " [1.]\n",
            " [0.]\n",
            " [1.]\n",
            " [1.]\n",
            " [0.]\n",
            " [1.]\n",
            " [0.]\n",
            " [0.]\n",
            " [1.]\n",
            " [1.]\n",
            " [1.]\n",
            " [0.]\n",
            " [0.]\n",
            " [0.]\n",
            " [1.]\n",
            " [1.]\n",
            " [0.]\n",
            " [0.]\n",
            " [1.]\n",
            " [0.]\n",
            " [1.]\n",
            " [1.]\n",
            " [0.]\n",
            " [1.]\n",
            " [0.]\n",
            " [0.]\n",
            " [0.]\n",
            " [0.]\n",
            " [0.]\n",
            " [1.]\n",
            " [1.]\n",
            " [1.]\n",
            " [0.]\n",
            " [1.]\n",
            " [1.]\n",
            " [0.]\n",
            " [0.]\n",
            " [0.]\n",
            " [0.]\n",
            " [1.]\n",
            " [1.]\n",
            " [0.]\n",
            " [0.]\n",
            " [0.]\n",
            " [1.]\n",
            " [1.]\n",
            " [1.]]\n"
          ]
        }
      ]
    },
    {
      "cell_type": "code",
      "source": [
        "label_batch_zero = [x for x in label_batch if x == 0]\n",
        "label_batch_one = [y for y in label_batch if y == 1]\n",
        "len(label_batch_zero),len(label_batch_one)"
      ],
      "metadata": {
        "colab": {
          "base_uri": "https://localhost:8080/"
        },
        "id": "zwpVN-ACwrb3",
        "outputId": "535dfcbd-82cd-4005-a52f-26587d2812c2"
      },
      "execution_count": null,
      "outputs": [
        {
          "output_type": "execute_result",
          "data": {
            "text/plain": [
              "(25, 25)"
            ]
          },
          "metadata": {},
          "execution_count": 43
        }
      ]
    },
    {
      "cell_type": "code",
      "source": [
        "plt.imshow(image_batch[1].numpy().astype('uint8'))\n"
      ],
      "metadata": {
        "colab": {
          "base_uri": "https://localhost:8080/",
          "height": 286
        },
        "id": "TEBuBuJkxIbf",
        "outputId": "74182ef7-0def-43ad-9fe5-229df29e2a28"
      },
      "execution_count": null,
      "outputs": [
        {
          "output_type": "execute_result",
          "data": {
            "text/plain": [
              "<matplotlib.image.AxesImage at 0x7f857ee00e50>"
            ]
          },
          "metadata": {},
          "execution_count": 44
        },
        {
          "output_type": "display_data",
          "data": {
            "text/plain": [
              "<Figure size 432x288 with 1 Axes>"
            ],
            "image/png": "[encoded data removed]"
          },
          "metadata": {
            "needs_background": "light"
          }
        }
      ]
    },
    {
      "cell_type": "code",
      "source": [
        "def get_partation(ds,train_size =0.01):\n",
        "  ds_size = len(ds)\n",
        "  train_size = int(train_size*ds_size)\n",
        "  train_data = ds.take(train_size)\n",
        "  return train_data\n",
        "  \n",
        "  "
      ],
      "metadata": {
        "id": "8bOWsYCJ0ahi"
      },
      "execution_count": null,
      "outputs": []
    },
    {
      "cell_type": "code",
      "source": [
        "def get_partation_test(ds,test_size = 0.01):\n",
        "  ds_size = len(ds)\n",
        "  test_size = int(test_size*ds_size)\n",
        "  test_data = ds.take(test_size)\n",
        "  return test_data"
      ],
      "metadata": {
        "id": "5MngUO7EBITV"
      },
      "execution_count": null,
      "outputs": []
    },
    {
      "cell_type": "code",
      "source": [
        "train_data = get_partation(ds = train_data)"
      ],
      "metadata": {
        "id": "35Ez-wku1-YJ"
      },
      "execution_count": null,
      "outputs": []
    },
    {
      "cell_type": "code",
      "source": [
        "test_data = get_partation_test(ds = test_data)"
      ],
      "metadata": {
        "id": "AZSHdVedBcZ7"
      },
      "execution_count": null,
      "outputs": []
    },
    {
      "cell_type": "code",
      "source": [
        "len(train_data)"
      ],
      "metadata": {
        "colab": {
          "base_uri": "https://localhost:8080/"
        },
        "id": "SwjPrbK22FEv",
        "outputId": "40ef6be2-553b-4c18-8bce-bc46ff58a0f3"
      },
      "execution_count": null,
      "outputs": [
        {
          "output_type": "execute_result",
          "data": {
            "text/plain": [
              "1"
            ]
          },
          "metadata": {},
          "execution_count": 49
        }
      ]
    },
    {
      "cell_type": "code",
      "source": [
        "len(test_data)"
      ],
      "metadata": {
        "colab": {
          "base_uri": "https://localhost:8080/"
        },
        "id": "k0VvIyiJBrAS",
        "outputId": "d2a746e5-20c9-46ed-97e4-feca620b245f"
      },
      "execution_count": null,
      "outputs": [
        {
          "output_type": "execute_result",
          "data": {
            "text/plain": [
              "1"
            ]
          },
          "metadata": {},
          "execution_count": 50
        }
      ]
    },
    {
      "cell_type": "code",
      "source": [
        "#for train_data\n",
        "for img_batch,lab_batch in train_data:\n",
        "  print(img_batch.shape)\n",
        "  print(lab_batch.numpy())"
      ],
      "metadata": {
        "colab": {
          "base_uri": "https://localhost:8080/"
        },
        "id": "_E9OfYaj2HMd",
        "outputId": "ae095891-e32c-49dd-a119-34db3b96015b"
      },
      "execution_count": null,
      "outputs": [
        {
          "output_type": "stream",
          "name": "stdout",
          "text": [
            "(50, 224, 224, 3)\n",
            "[[0.]\n",
            " [1.]\n",
            " [0.]\n",
            " [1.]\n",
            " [0.]\n",
            " [1.]\n",
            " [1.]\n",
            " [1.]\n",
            " [0.]\n",
            " [0.]\n",
            " [0.]\n",
            " [1.]\n",
            " [1.]\n",
            " [1.]\n",
            " [0.]\n",
            " [1.]\n",
            " [1.]\n",
            " [0.]\n",
            " [1.]\n",
            " [0.]\n",
            " [0.]\n",
            " [1.]\n",
            " [1.]\n",
            " [0.]\n",
            " [1.]\n",
            " [1.]\n",
            " [1.]\n",
            " [0.]\n",
            " [1.]\n",
            " [0.]\n",
            " [0.]\n",
            " [1.]\n",
            " [1.]\n",
            " [0.]\n",
            " [0.]\n",
            " [0.]\n",
            " [1.]\n",
            " [1.]\n",
            " [0.]\n",
            " [1.]\n",
            " [1.]\n",
            " [1.]\n",
            " [0.]\n",
            " [0.]\n",
            " [1.]\n",
            " [0.]\n",
            " [0.]\n",
            " [0.]\n",
            " [1.]\n",
            " [0.]]\n"
          ]
        }
      ]
    },
    {
      "cell_type": "code",
      "source": [
        "label_batch_zero = [x for x in lab_batch if x == 0]\n",
        "label_batch_one = [y for y in lab_batch if y == 1]\n",
        "len(label_batch_zero),len(label_batch_one)"
      ],
      "metadata": {
        "colab": {
          "base_uri": "https://localhost:8080/"
        },
        "id": "OOAjuLf12eDA",
        "outputId": "2f910497-8bd2-48df-e361-9acedbc745c8"
      },
      "execution_count": null,
      "outputs": [
        {
          "output_type": "execute_result",
          "data": {
            "text/plain": [
              "(24, 26)"
            ]
          },
          "metadata": {},
          "execution_count": 52
        }
      ]
    },
    {
      "cell_type": "code",
      "source": [
        "#for test data \n",
        "for img_batch_test,lab_batch_test in test_data:\n",
        "  print(img_batch_test.shape)\n",
        "  print(lab_batch_test.numpy())"
      ],
      "metadata": {
        "colab": {
          "base_uri": "https://localhost:8080/"
        },
        "id": "ULHBdoe7CtaE",
        "outputId": "876b245f-0de4-4e67-df04-58c56fbfd978"
      },
      "execution_count": null,
      "outputs": [
        {
          "output_type": "stream",
          "name": "stdout",
          "text": [
            "(15, 224, 224, 3)\n",
            "[[0.]\n",
            " [1.]\n",
            " [1.]\n",
            " [0.]\n",
            " [0.]\n",
            " [1.]\n",
            " [1.]\n",
            " [0.]\n",
            " [1.]\n",
            " [1.]\n",
            " [1.]\n",
            " [0.]\n",
            " [0.]\n",
            " [0.]\n",
            " [1.]]\n"
          ]
        }
      ]
    },
    {
      "cell_type": "markdown",
      "source": [
        "**Logistic regression**"
      ],
      "metadata": {
        "id": "avPhRL5V4R7l"
      }
    },
    {
      "cell_type": "code",
      "source": [
        "X_train = img_batch.numpy()\n",
        "y_train = label_batch.numpy()"
      ],
      "metadata": {
        "id": "V23jHNeB8qtM"
      },
      "execution_count": null,
      "outputs": []
    },
    {
      "cell_type": "code",
      "source": [
        "X_test = img_batch_test.numpy()\n",
        "y_test = lab_batch_test.numpy()"
      ],
      "metadata": {
        "id": "yeaTosqPC6-R"
      },
      "execution_count": null,
      "outputs": []
    },
    {
      "cell_type": "code",
      "source": [
        "X_train_reshaped = X_train.reshape(50,224*224*3)\n",
        "y_train = y_train.reshape(50,1)"
      ],
      "metadata": {
        "id": "EI-tyCejAZKz"
      },
      "execution_count": null,
      "outputs": []
    },
    {
      "cell_type": "code",
      "source": [
        "X_test_reshape = X_test.reshape(15,224*224*3)\n",
        "y_test = y_test.reshape(15,1)"
      ],
      "metadata": {
        "id": "YamPGRg1DH7q"
      },
      "execution_count": null,
      "outputs": []
    },
    {
      "cell_type": "code",
      "source": [
        "X_train.shape,y_train.shape"
      ],
      "metadata": {
        "colab": {
          "base_uri": "https://localhost:8080/"
        },
        "id": "g2lqxIn38zMI",
        "outputId": "3984cd69-7f0d-447a-9f74-dfc46697cd2d"
      },
      "execution_count": null,
      "outputs": [
        {
          "output_type": "execute_result",
          "data": {
            "text/plain": [
              "((50, 224, 224, 3), (50, 1))"
            ]
          },
          "metadata": {},
          "execution_count": 58
        }
      ]
    },
    {
      "cell_type": "code",
      "source": [
        "X_test_reshape.shape,y_test.shape"
      ],
      "metadata": {
        "colab": {
          "base_uri": "https://localhost:8080/"
        },
        "id": "Fsg1mo2ODW9o",
        "outputId": "5e8b1902-ff7b-4500-b563-e841618e606e"
      },
      "execution_count": null,
      "outputs": [
        {
          "output_type": "execute_result",
          "data": {
            "text/plain": [
              "((15, 150528), (15, 1))"
            ]
          },
          "metadata": {},
          "execution_count": 59
        }
      ]
    },
    {
      "cell_type": "code",
      "source": [
        "X_train_reshaped.shape"
      ],
      "metadata": {
        "colab": {
          "base_uri": "https://localhost:8080/"
        },
        "id": "c7QWcyVAAqwA",
        "outputId": "89351a1a-ae7c-4103-9fb1-ee83d2529adc"
      },
      "execution_count": null,
      "outputs": [
        {
          "output_type": "execute_result",
          "data": {
            "text/plain": [
              "(50, 150528)"
            ]
          },
          "metadata": {},
          "execution_count": 60
        }
      ]
    },
    {
      "cell_type": "code",
      "source": [
        "from sklearn.linear_model import LogisticRegression\n",
        "from sklearn.metrics import confusion_matrix,accuracy_score"
      ],
      "metadata": {
        "id": "lBW96Bsl2mIf"
      },
      "execution_count": null,
      "outputs": []
    },
    {
      "cell_type": "code",
      "source": [
        "lr = LogisticRegression()\n",
        "lr.fit(X_train_reshaped,y_train)"
      ],
      "metadata": {
        "colab": {
          "base_uri": "https://localhost:8080/"
        },
        "id": "FQYt8f2I4Xio",
        "outputId": "de51077f-89df-4c14-c62e-b23468cf21ab"
      },
      "execution_count": null,
      "outputs": [
        {
          "output_type": "stream",
          "name": "stderr",
          "text": [
            "/usr/local/lib/python3.8/dist-packages/sklearn/utils/validation.py:993: DataConversionWarning: A column-vector y was passed when a 1d array was expected. Please change the shape of y to (n_samples, ), for example using ravel().\n",
            "  y = column_or_1d(y, warn=True)\n"
          ]
        },
        {
          "output_type": "execute_result",
          "data": {
            "text/plain": [
              "LogisticRegression()"
            ]
          },
          "metadata": {},
          "execution_count": 62
        }
      ]
    },
    {
      "cell_type": "code",
      "source": [
        "y_pred = lr.predict(X_test_reshape)"
      ],
      "metadata": {
        "id": "J3ZXMmyZ4zgF"
      },
      "execution_count": null,
      "outputs": []
    },
    {
      "cell_type": "code",
      "source": [
        "y_pred[:5]"
      ],
      "metadata": {
        "colab": {
          "base_uri": "https://localhost:8080/"
        },
        "id": "kqKPfQRQD1_R",
        "outputId": "2307f4c1-713f-4f30-8d50-bdf3d6fe73c8"
      },
      "execution_count": null,
      "outputs": [
        {
          "output_type": "execute_result",
          "data": {
            "text/plain": [
              "array([0., 0., 1., 1., 1.], dtype=float32)"
            ]
          },
          "metadata": {},
          "execution_count": 64
        }
      ]
    },
    {
      "cell_type": "code",
      "source": [
        "y_test[:5]"
      ],
      "metadata": {
        "colab": {
          "base_uri": "https://localhost:8080/"
        },
        "id": "lwlTolW5D5H6",
        "outputId": "73319656-f923-4c2a-84f1-3b2d7091b3c4"
      },
      "execution_count": null,
      "outputs": [
        {
          "output_type": "execute_result",
          "data": {
            "text/plain": [
              "array([[0.],\n",
              "       [1.],\n",
              "       [1.],\n",
              "       [0.],\n",
              "       [0.]], dtype=float32)"
            ]
          },
          "metadata": {},
          "execution_count": 65
        }
      ]
    },
    {
      "cell_type": "code",
      "source": [
        "print(accuracy_score(y_test,y_pred))"
      ],
      "metadata": {
        "colab": {
          "base_uri": "https://localhost:8080/"
        },
        "id": "w4D-gwc7Dcot",
        "outputId": "8e9629c3-1af7-46a6-b3cc-3383202e8b74"
      },
      "execution_count": null,
      "outputs": [
        {
          "output_type": "stream",
          "name": "stdout",
          "text": [
            "0.3333333333333333\n"
          ]
        }
      ]
    },
    {
      "cell_type": "code",
      "source": [
        "print(confusion_matrix(y_test,y_pred))"
      ],
      "metadata": {
        "colab": {
          "base_uri": "https://localhost:8080/"
        },
        "id": "b7Ue8am3Dzxb",
        "outputId": "317d9cef-12a6-4ada-fb69-63709f32402c"
      },
      "execution_count": null,
      "outputs": [
        {
          "output_type": "stream",
          "name": "stdout",
          "text": [
            "[[2 5]\n",
            " [5 3]]\n"
          ]
        }
      ]
    },
    {
      "cell_type": "code",
      "source": [],
      "metadata": {
        "id": "f3akF8eREGSx"
      },
      "execution_count": null,
      "outputs": []
    },
    {
      "cell_type": "markdown",
      "source": [
        "**KNN**"
      ],
      "metadata": {
        "id": "bjG3lo0tEQr9"
      }
    },
    {
      "cell_type": "code",
      "source": [
        "from sklearn.neighbors import KNeighborsClassifier\n",
        "knn = KNeighborsClassifier(n_neighbors = 3)\n",
        "knn.fit(X_train_reshaped,y_train)"
      ],
      "metadata": {
        "colab": {
          "base_uri": "https://localhost:8080/"
        },
        "id": "30t11v5uERnc",
        "outputId": "7efd14b2-ca2d-44f5-f33b-e5f3e94f8158"
      },
      "execution_count": null,
      "outputs": [
        {
          "output_type": "stream",
          "name": "stderr",
          "text": [
            "/usr/local/lib/python3.8/dist-packages/sklearn/neighbors/_classification.py:198: DataConversionWarning: A column-vector y was passed when a 1d array was expected. Please change the shape of y to (n_samples,), for example using ravel().\n",
            "  return self._fit(X, y)\n"
          ]
        },
        {
          "output_type": "execute_result",
          "data": {
            "text/plain": [
              "KNeighborsClassifier(n_neighbors=3)"
            ]
          },
          "metadata": {},
          "execution_count": 68
        }
      ]
    },
    {
      "cell_type": "code",
      "source": [
        "y_pred = knn.predict(X_test_reshape)"
      ],
      "metadata": {
        "id": "FFXaU55LElxr"
      },
      "execution_count": null,
      "outputs": []
    },
    {
      "cell_type": "code",
      "source": [
        "print(accuracy_score(y_test,y_pred))"
      ],
      "metadata": {
        "colab": {
          "base_uri": "https://localhost:8080/"
        },
        "id": "tolQX_-nE1ju",
        "outputId": "e5e67490-7095-4940-a7c1-37c1ccfa70dc"
      },
      "execution_count": null,
      "outputs": [
        {
          "output_type": "stream",
          "name": "stdout",
          "text": [
            "0.2\n"
          ]
        }
      ]
    },
    {
      "cell_type": "code",
      "source": [],
      "metadata": {
        "id": "egCm_VCrE9a8"
      },
      "execution_count": null,
      "outputs": []
    },
    {
      "cell_type": "markdown",
      "source": [
        "**SVM**"
      ],
      "metadata": {
        "id": "hA8tDt6-fh2A"
      }
    },
    {
      "cell_type": "code",
      "source": [
        "from sklearn import svm\n",
        "sv = svm.SVC(kernel = \"poly\")\n",
        "sv.fit(X_train_reshaped,y_train)"
      ],
      "metadata": {
        "colab": {
          "base_uri": "https://localhost:8080/"
        },
        "id": "9eLFV2Stfjpf",
        "outputId": "c48e407a-4d61-4826-dbe7-77665f6cbd35"
      },
      "execution_count": null,
      "outputs": [
        {
          "output_type": "stream",
          "name": "stderr",
          "text": [
            "/usr/local/lib/python3.8/dist-packages/sklearn/utils/validation.py:993: DataConversionWarning: A column-vector y was passed when a 1d array was expected. Please change the shape of y to (n_samples, ), for example using ravel().\n",
            "  y = column_or_1d(y, warn=True)\n"
          ]
        },
        {
          "output_type": "execute_result",
          "data": {
            "text/plain": [
              "SVC(kernel='poly')"
            ]
          },
          "metadata": {},
          "execution_count": 71
        }
      ]
    },
    {
      "cell_type": "code",
      "source": [
        "y_pred_svm = sv.predict(X_test_reshape)"
      ],
      "metadata": {
        "id": "YGQi8cRJin5H"
      },
      "execution_count": null,
      "outputs": []
    },
    {
      "cell_type": "code",
      "source": [
        "print(accuracy_score(y_test,y_pred_svm))"
      ],
      "metadata": {
        "colab": {
          "base_uri": "https://localhost:8080/"
        },
        "id": "WWLQTPnejHxN",
        "outputId": "224647b7-d6f3-477a-a572-02d714e29415"
      },
      "execution_count": null,
      "outputs": [
        {
          "output_type": "stream",
          "name": "stdout",
          "text": [
            "0.3333333333333333\n"
          ]
        }
      ]
    },
    {
      "cell_type": "code",
      "source": [],
      "metadata": {
        "id": "tapz-ySgjJKk"
      },
      "execution_count": null,
      "outputs": []
    },
    {
      "cell_type": "markdown",
      "source": [
        "**cnn**"
      ],
      "metadata": {
        "id": "kG6d5UGmjQx3"
      }
    },
    {
      "cell_type": "code",
      "source": [
        "model = tf.keras.Sequential([\n",
        "    tf.keras.layers.Conv2D(filters=16,kernel_size=3,activation=\"relu\",input_shape = (224,224,3)),\n",
        "    tf.keras.layers.Conv2D(8,3,activation=\"relu\"),\n",
        "    tf.keras.layers.MaxPool2D(pool_size = 2,padding=\"valid\"),\n",
        "    tf.keras.layers.Conv2D(4,3,activation = \"relu\"),\n",
        "    tf.keras.layers.MaxPool2D(2),\n",
        "    tf.keras.layers.GlobalAveragePooling2D(),\n",
        "    tf.keras.layers.Flatten(),\n",
        "    tf.keras.layers.Dense(1,activation = \"sigmoid\")\n",
        "])"
      ],
      "metadata": {
        "id": "AVumzLdfjQak"
      },
      "execution_count": null,
      "outputs": []
    },
    {
      "cell_type": "code",
      "source": [
        "model.summary()"
      ],
      "metadata": {
        "colab": {
          "base_uri": "https://localhost:8080/"
        },
        "id": "qC7yZcMrlBT4",
        "outputId": "2132b66d-66bd-43de-8fe9-39926dfbf8b5"
      },
      "execution_count": null,
      "outputs": [
        {
          "output_type": "stream",
          "name": "stdout",
          "text": [
            "Model: \"sequential\"\n",
            "_________________________________________________________________\n",
            " Layer (type)                Output Shape              Param #   \n",
            "=================================================================\n",
            " conv2d (Conv2D)             (None, 222, 222, 16)      448       \n",
            "                                                                 \n",
            " conv2d_1 (Conv2D)           (None, 220, 220, 8)       1160      \n",
            "                                                                 \n",
            " max_pooling2d (MaxPooling2D  (None, 110, 110, 8)      0         \n",
            " )                                                               \n",
            "                                                                 \n",
            " conv2d_2 (Conv2D)           (None, 108, 108, 4)       292       \n",
            "                                                                 \n",
            " max_pooling2d_1 (MaxPooling  (None, 54, 54, 4)        0         \n",
            " 2D)                                                             \n",
            "                                                                 \n",
            " global_average_pooling2d (G  (None, 4)                0         \n",
            " lobalAveragePooling2D)                                          \n",
            "                                                                 \n",
            " flatten (Flatten)           (None, 4)                 0         \n",
            "                                                                 \n",
            " dense (Dense)               (None, 1)                 5         \n",
            "                                                                 \n",
            "=================================================================\n",
            "Total params: 1,905\n",
            "Trainable params: 1,905\n",
            "Non-trainable params: 0\n",
            "_________________________________________________________________\n"
          ]
        }
      ]
    },
    {
      "cell_type": "code",
      "source": [
        "model.compile(loss = \"binary_crossentropy\",\n",
        "              optimizer = tf.keras.optimizers.Adam(),\n",
        "              metrics = [\"accuracy\"]\n",
        "              )"
      ],
      "metadata": {
        "id": "HhYuPvMMlLgm"
      },
      "execution_count": null,
      "outputs": []
    },
    {
      "cell_type": "code",
      "source": [
        "history = model.fit(train_data,\n",
        "                    epochs = 5,\n",
        "                    steps_per_epoch = len(train_data),\n",
        "                    validation_data = test_data,\n",
        "                    validation_steps = len(test_data) \n",
        "                    )"
      ],
      "metadata": {
        "colab": {
          "base_uri": "https://localhost:8080/"
        },
        "id": "2dFvDmiImPn-",
        "outputId": "6e59bc0b-271a-4189-ca58-117eaf70c4b5"
      },
      "execution_count": null,
      "outputs": [
        {
          "output_type": "stream",
          "name": "stdout",
          "text": [
            "Epoch 1/5\n",
            "1/1 [==============================] - 8s 8s/step - loss: 1.8095 - accuracy: 0.4200 - val_loss: 0.6546 - val_accuracy: 0.6000\n",
            "Epoch 2/5\n",
            "1/1 [==============================] - 5s 5s/step - loss: 0.7054 - accuracy: 0.5000 - val_loss: 0.7220 - val_accuracy: 0.5333\n",
            "Epoch 3/5\n",
            "1/1 [==============================] - 7s 7s/step - loss: 0.6806 - accuracy: 0.6000 - val_loss: 0.5996 - val_accuracy: 0.7333\n",
            "Epoch 4/5\n",
            "1/1 [==============================] - 5s 5s/step - loss: 0.6564 - accuracy: 0.7000 - val_loss: 0.6916 - val_accuracy: 0.5333\n",
            "Epoch 5/5\n",
            "1/1 [==============================] - 5s 5s/step - loss: 0.7286 - accuracy: 0.6000 - val_loss: 0.7148 - val_accuracy: 0.5333\n"
          ]
        }
      ]
    },
    {
      "cell_type": "code",
      "source": [
        "model.evaluate(test_data)"
      ],
      "metadata": {
        "colab": {
          "base_uri": "https://localhost:8080/"
        },
        "id": "XAcO8gT2mvzm",
        "outputId": "6e23ab4a-c54b-488c-f655-070cc4500597"
      },
      "execution_count": null,
      "outputs": [
        {
          "output_type": "stream",
          "name": "stdout",
          "text": [
            "1/1 [==============================] - 1s 574ms/step - loss: 0.7208 - accuracy: 0.4000\n"
          ]
        },
        {
          "output_type": "execute_result",
          "data": {
            "text/plain": [
              "[0.7207842469215393, 0.4000000059604645]"
            ]
          },
          "metadata": {},
          "execution_count": 78
        }
      ]
    },
    {
      "cell_type": "code",
      "source": [
        "pd.DataFrame(history.history).plot(figsize=(10,7))\n",
        "plt.xlabel(\"loss\")\n",
        "plt.ylabel(\"epochs\")"
      ],
      "metadata": {
        "colab": {
          "base_uri": "https://localhost:8080/",
          "height": 459
        },
        "id": "kZyP2hnnpilx",
        "outputId": "90e7e83f-c350-41c5-d25e-b011b64f2bed"
      },
      "execution_count": null,
      "outputs": [
        {
          "output_type": "execute_result",
          "data": {
            "text/plain": [
              "Text(0, 0.5, 'epochs')"
            ]
          },
          "metadata": {},
          "execution_count": 79
        },
        {
          "output_type": "display_data",
          "data": {
            "text/plain": [
              "<Figure size 720x504 with 1 Axes>"
            ],
            "image/png": "[encoded data removed]"
          },
          "metadata": {
            "needs_background": "light"
          }
        }
      ]
    },
    {
      "cell_type": "code",
      "source": [
        "y_test_pred = model.predict(test_data)\n"
      ],
      "metadata": {
        "colab": {
          "base_uri": "https://localhost:8080/"
        },
        "id": "lgEI-aSBpslR",
        "outputId": "10e2ecc1-fc88-4c70-eea9-b267c07b1f35"
      },
      "execution_count": null,
      "outputs": [
        {
          "output_type": "stream",
          "name": "stdout",
          "text": [
            "1/1 [==============================] - 1s 674ms/step\n"
          ]
        }
      ]
    },
    {
      "cell_type": "code",
      "source": [
        "y_test_pred[:10]"
      ],
      "metadata": {
        "colab": {
          "base_uri": "https://localhost:8080/"
        },
        "id": "9xUb_abj7QBU",
        "outputId": "eef859da-1c44-40f4-da89-82e0c0250a94"
      },
      "execution_count": null,
      "outputs": [
        {
          "output_type": "execute_result",
          "data": {
            "text/plain": [
              "array([[0.40812862],\n",
              "       [0.41919684],\n",
              "       [0.3832982 ],\n",
              "       [0.48239937],\n",
              "       [0.4868644 ],\n",
              "       [0.22050582],\n",
              "       [0.43200395],\n",
              "       [0.33980027],\n",
              "       [0.2989171 ],\n",
              "       [0.44683328]], dtype=float32)"
            ]
          },
          "metadata": {},
          "execution_count": 81
        }
      ]
    },
    {
      "cell_type": "code",
      "source": [
        "import matplotlib.image as mpimg"
      ],
      "metadata": {
        "id": "XD-lNisAqXi5"
      },
      "execution_count": null,
      "outputs": []
    },
    {
      "cell_type": "code",
      "source": [
        "cat = mpimg.imread(\"/content/cat.jpg\")\n",
        "dog = mpimg.imread(\"//content/drive/MyDrive/Colab Notebooks/random images/dog vs cat/training_set/training_set/dogs/dog.1.jpg\")"
      ],
      "metadata": {
        "id": "-4EswduurAaf"
      },
      "execution_count": null,
      "outputs": []
    },
    {
      "cell_type": "code",
      "source": [
        "plt.imshow(dog)"
      ],
      "metadata": {
        "colab": {
          "base_uri": "https://localhost:8080/",
          "height": 286
        },
        "id": "5rxic-qxrMry",
        "outputId": "25c7589d-7d4f-4a6e-d02a-6403ca1caadb"
      },
      "execution_count": null,
      "outputs": [
        {
          "output_type": "execute_result",
          "data": {
            "text/plain": [
              "<matplotlib.image.AxesImage at 0x7f8585c13b50>"
            ]
          },
          "metadata": {},
          "execution_count": 85
        },
        {
          "output_type": "display_data",
          "data": {
            "text/plain": [
              "<Figure size 432x288 with 1 Axes>"
            ],
            "image/png": "[encoded data removed]"
          },
          "metadata": {
            "needs_background": "light"
          }
        }
      ]
    },
    {
      "cell_type": "code",
      "source": [
        "img = tf.io.read_file(\"/content/drive/MyDrive/Colab Notebooks/random images/dog vs cat/training_set/training_set/dogs/dog.1004.jpg\")\n",
        "img = tf.image.decode_image(img)\n",
        "img = tf.image.resize(img,size=[224,224])\n",
        "img = img/255"
      ],
      "metadata": {
        "id": "ueR2RsoRrUUJ"
      },
      "execution_count": null,
      "outputs": []
    },
    {
      "cell_type": "code",
      "source": [
        "new_img = tf.expand_dims(img,axis = 0)"
      ],
      "metadata": {
        "id": "0umzWcufrwVi"
      },
      "execution_count": null,
      "outputs": []
    },
    {
      "cell_type": "code",
      "source": [
        "new_img.shape"
      ],
      "metadata": {
        "colab": {
          "base_uri": "https://localhost:8080/"
        },
        "id": "ugdvC_rTsD4O",
        "outputId": "9f5e55d1-1194-45df-f424-1b05624de2af"
      },
      "execution_count": null,
      "outputs": [
        {
          "output_type": "execute_result",
          "data": {
            "text/plain": [
              "TensorShape([1, 224, 224, 3])"
            ]
          },
          "metadata": {},
          "execution_count": 88
        }
      ]
    },
    {
      "cell_type": "code",
      "source": [
        "\n",
        "image_pred = model.predict(new_img)\n",
        "# pred_img = tf.argmax(image_pred,axis = 1)\n",
        "pred_class_name = class_names[int(tf.round(image_pred))]\n",
        "print(pred_class_name)\n",
        "plt.imshow(img)"
      ],
      "metadata": {
        "colab": {
          "base_uri": "https://localhost:8080/",
          "height": 321
        },
        "id": "zrHbKdggsFG_",
        "outputId": "0b88beeb-fcd1-468f-e241-0475b35077b7"
      },
      "execution_count": null,
      "outputs": [
        {
          "output_type": "stream",
          "name": "stdout",
          "text": [
            "1/1 [==============================] - 0s 109ms/step\n",
            "cats\n"
          ]
        },
        {
          "output_type": "execute_result",
          "data": {
            "text/plain": [
              "<matplotlib.image.AxesImage at 0x7f8585b2cb50>"
            ]
          },
          "metadata": {},
          "execution_count": 89
        },
        {
          "output_type": "display_data",
          "data": {
            "text/plain": [
              "<Figure size 432x288 with 1 Axes>"
            ],
            "image/png": "[encoded data removed]"
          },
          "metadata": {
            "needs_background": "light"
          }
        }
      ]
    },
    {
      "cell_type": "code",
      "source": [
        "print(image_pred)"
      ],
      "metadata": {
        "colab": {
          "base_uri": "https://localhost:8080/"
        },
        "id": "M-VS8ai7slBx",
        "outputId": "bc7b577c-709d-48bb-882b-a63cd9844bdd"
      },
      "execution_count": null,
      "outputs": [
        {
          "output_type": "stream",
          "name": "stdout",
          "text": [
            "[[0.49871698]]\n"
          ]
        }
      ]
    },
    {
      "cell_type": "code",
      "source": [],
      "metadata": {
        "id": "j17SqNtWuG9n"
      },
      "execution_count": null,
      "outputs": []
    },
    {
      "cell_type": "markdown",
      "source": [
        "#extracting patches from large images and mask"
      ],
      "metadata": {
        "id": "zpfZ4pS8P93V"
      }
    },
    {
      "cell_type": "code",
      "source": [],
      "metadata": {
        "id": "EN8sNVYAQFQY"
      },
      "execution_count": null,
      "outputs": []
    },
    {
      "cell_type": "markdown",
      "source": [
        "#image segmentation using unet (Malaria dataset)"
      ],
      "metadata": {
        "id": "A_knjKueq_Zo"
      }
    },
    {
      "cell_type": "markdown",
      "source": [
        "**Malaria detection**"
      ],
      "metadata": {
        "id": "kRN6ix8P7HSf"
      }
    },
    {
      "cell_type": "code",
      "source": [
        "import numpy as np\n",
        "import matplotlib.pyplot as plt\n",
        "from keras.preprocessing.image import ImageDataGenerator\n",
        "import tensorflow as tf\n",
        "import os\n",
        "from PIL import Image\n",
        "import cv2"
      ],
      "metadata": {
        "id": "-y23k7Er7z9L"
      },
      "execution_count": 1,
      "outputs": []
    },
    {
      "cell_type": "code",
      "source": [
        "#calling helper func from github \n",
        "!wget https://raw.githubusercontent.com/royal-dit/tensorflow-deeplearning/main/helper_func.py \n"
      ],
      "metadata": {
        "colab": {
          "base_uri": "https://localhost:8080/"
        },
        "id": "LDubmXWyYblF",
        "outputId": "1038855a-165c-44ac-941f-7c86014d06b2"
      },
      "execution_count": 15,
      "outputs": [
        {
          "output_type": "stream",
          "name": "stdout",
          "text": [
            "--2023-02-23 17:47:03--  https://raw.githubusercontent.com/royal-dit/tensorflow-deeplearning/main/helper_func.py\n",
            "Resolving raw.githubusercontent.com (raw.githubusercontent.com)... 185.199.108.133, 185.199.109.133, 185.199.110.133, ...\n",
            "Connecting to raw.githubusercontent.com (raw.githubusercontent.com)|185.199.108.133|:443... connected.\n",
            "HTTP request sent, awaiting response... 200 OK\n",
            "Length: 12051 (12K) [text/plain]\n",
            "Saving to: ‘helper_func.py’\n",
            "\n",
            "\rhelper_func.py        0%[                    ]       0  --.-KB/s               \rhelper_func.py      100%[===================>]  11.77K  --.-KB/s    in 0s      \n",
            "\n",
            "2023-02-23 17:47:04 (96.4 MB/s) - ‘helper_func.py’ saved [12051/12051]\n",
            "\n"
          ]
        }
      ]
    },
    {
      "cell_type": "code",
      "source": [
        "from helper_func import plot_loss_curves,make_confusion_matrix"
      ],
      "metadata": {
        "id": "oLjOPM2MYt3D"
      },
      "execution_count": 25,
      "outputs": []
    },
    {
      "cell_type": "code",
      "source": [
        "from google.colab import drive\n",
        "drive.mount('/content/drive')"
      ],
      "metadata": {
        "colab": {
          "base_uri": "https://localhost:8080/"
        },
        "id": "vH387ZJD7ZSy",
        "outputId": "0f8a928c-6d85-43e1-a6ed-40e6e5b9de18"
      },
      "execution_count": 2,
      "outputs": [
        {
          "output_type": "stream",
          "name": "stdout",
          "text": [
            "Drive already mounted at /content/drive; to attempt to forcibly remount, call drive.mount(\"/content/drive\", force_remount=True).\n"
          ]
        }
      ]
    },
    {
      "cell_type": "code",
      "source": [
        "dir = \"/content/drive/MyDrive/Colab Notebooks/random images/malaria_pred/\""
      ],
      "metadata": {
        "id": "7gmNWsZQ7w53"
      },
      "execution_count": 3,
      "outputs": []
    },
    {
      "cell_type": "code",
      "source": [
        "SIZE = 64\n",
        "dataset = []\n",
        "label = []\n",
        "\n"
      ],
      "metadata": {
        "id": "ph7Ni1_ZFYf6"
      },
      "execution_count": 4,
      "outputs": []
    },
    {
      "cell_type": "code",
      "source": [
        "parasitized_images = os.listdir(dir+'Parasitized/')\n",
        "for i, image_name in enumerate(parasitized_images):\n",
        "  if (image_name.split('.')[1]=='png'):\n",
        "    image = cv2.imread(dir+\"Parasitized/\"+image_name)\n",
        "    image =  Image.fromarray(image,'RGB')\n",
        "    image = image.resize((SIZE,SIZE))\n",
        "    dataset.append(np.array(image))\n",
        "    label.append(0)\n",
        "\n",
        "\n"
      ],
      "metadata": {
        "id": "1driBovuFzqq"
      },
      "execution_count": 5,
      "outputs": []
    },
    {
      "cell_type": "code",
      "source": [
        "uninfected_images  = os.listdir(dir+\"Uninfected/\")\n",
        "for i ,image_name in enumerate(uninfected_images):\n",
        "  if(image_name.split('.')[1]=='png'):\n",
        "    image = cv2.imread(dir+\"Uninfected/\"+image_name)\n",
        "    image = Image.fromarray(image,\"RGB\")\n",
        "    image = image.resize((SIZE,SIZE))\n",
        "    dataset.append(np.array(image))\n",
        "    label.append(1)\n"
      ],
      "metadata": {
        "id": "g3Hm4tqqFzm2"
      },
      "execution_count": 6,
      "outputs": []
    },
    {
      "cell_type": "code",
      "source": [
        "from sklearn.model_selection import train_test_split\n",
        "from keras.utils import to_categorical"
      ],
      "metadata": {
        "id": "9nTARZq4KRWt"
      },
      "execution_count": 7,
      "outputs": []
    },
    {
      "cell_type": "code",
      "source": [
        "X_train,X_test,y_train,y_test = train_test_split(dataset,to_categorical(np.array(label)),test_size = 0.2,random_state = 42)"
      ],
      "metadata": {
        "id": "XYq9vKmCL1IK"
      },
      "execution_count": 8,
      "outputs": []
    },
    {
      "cell_type": "code",
      "source": [
        "from keras.utils import to_categorical\n",
        "\n",
        "# Create a class vector with 3 samples and 4 classes\n",
        "y = [0, 1, 2, 2]\n",
        "\n",
        "# Convert the class vector to a binary matrix\n",
        "y_binary = to_categorical(y, num_classes=4)\n",
        "\n",
        "print(y_binary)\n"
      ],
      "metadata": {
        "colab": {
          "base_uri": "https://localhost:8080/"
        },
        "id": "cpTRDFdphZyt",
        "outputId": "8ac8aa66-2d13-4b48-82d8-c3471f52bf01"
      },
      "execution_count": 41,
      "outputs": [
        {
          "output_type": "stream",
          "name": "stdout",
          "text": [
            "[[1. 0. 0. 0.]\n",
            " [0. 1. 0. 0.]\n",
            " [0. 0. 1. 0.]\n",
            " [0. 0. 1. 0.]]\n"
          ]
        }
      ]
    },
    {
      "cell_type": "code",
      "source": [
        "X_train,X_val,y_train,y_val = train_test_split(X_train,y_train,test_size = 0.2,random_state = 42)"
      ],
      "metadata": {
        "id": "Bj85B4H_Zt3y"
      },
      "execution_count": 18,
      "outputs": []
    },
    {
      "cell_type": "code",
      "source": [
        "from tensorflow.keras.applications import ResNet50\n"
      ],
      "metadata": {
        "id": "Cfy7EEMoL1E6"
      },
      "execution_count": 9,
      "outputs": []
    },
    {
      "cell_type": "code",
      "source": [
        "resnet = ResNet50(include_top = False,weights = \"imagenet\") #fully connected layers of last layer will be not included"
      ],
      "metadata": {
        "colab": {
          "base_uri": "https://localhost:8080/"
        },
        "id": "eBbRm_0pL1Ao",
        "outputId": "4ab132d2-e542-45bd-b052-0e3a230b3b91"
      },
      "execution_count": 10,
      "outputs": [
        {
          "output_type": "stream",
          "name": "stdout",
          "text": [
            "Downloading data from https://storage.googleapis.com/tensorflow/keras-applications/resnet/resnet50_weights_tf_dim_ordering_tf_kernels_notop.h5\n",
            "94765736/94765736 [==============================] - 0s 0us/step\n"
          ]
        }
      ]
    },
    {
      "cell_type": "markdown",
      "source": [
        "**Using functional api**"
      ],
      "metadata": {
        "id": "KBvAl2lYN6on"
      }
    },
    {
      "cell_type": "code",
      "source": [
        "resnet.trainable = False\n",
        "inputs  = tf.keras.layers.Input(shape = (64,64,3))\n",
        "x = tf.keras.layers.experimental.preprocessing.Rescaling(1./255)(inputs)\n",
        "x = resnet(inputs,training=False)\n",
        "x = tf.keras.layers.GlobalAveragePooling2D()(x)\n",
        "x = tf.keras.layers.Dense(2)(x)\n",
        "outputs = tf.keras.layers.Activation(\"softmax\",dtype = tf.float32)(x)\n",
        "model = tf.keras.Model(inputs,outputs)\n",
        "\n",
        "\n"
      ],
      "metadata": {
        "id": "kHUbhKYbN0dG"
      },
      "execution_count": 30,
      "outputs": []
    },
    {
      "cell_type": "code",
      "source": [
        "model.summary()"
      ],
      "metadata": {
        "colab": {
          "base_uri": "https://localhost:8080/"
        },
        "id": "a47pc7OmN0Y2",
        "outputId": "24762e67-7197-404d-c5a5-913fe60ef85f"
      },
      "execution_count": 31,
      "outputs": [
        {
          "output_type": "stream",
          "name": "stdout",
          "text": [
            "Model: \"model_1\"\n",
            "_________________________________________________________________\n",
            " Layer (type)                Output Shape              Param #   \n",
            "=================================================================\n",
            " input_3 (InputLayer)        [(None, 64, 64, 3)]       0         \n",
            "                                                                 \n",
            " resnet50 (Functional)       (None, None, None, 2048)  23587712  \n",
            "                                                                 \n",
            " global_average_pooling2d_1   (None, 2048)             0         \n",
            " (GlobalAveragePooling2D)                                        \n",
            "                                                                 \n",
            " dense_1 (Dense)             (None, 2)                 4098      \n",
            "                                                                 \n",
            " activation_1 (Activation)   (None, 2)                 0         \n",
            "                                                                 \n",
            "=================================================================\n",
            "Total params: 23,591,810\n",
            "Trainable params: 4,098\n",
            "Non-trainable params: 23,587,712\n",
            "_________________________________________________________________\n"
          ]
        }
      ]
    },
    {
      "cell_type": "code",
      "source": [
        "model.compile(loss = \"categorical_crossentropy\",\n",
        "              optimizer = tf.keras.optimizers.Adam(),\n",
        "              metrics = ['accuracy']\n",
        "              \n",
        "              )"
      ],
      "metadata": {
        "id": "Or00zk-EQuPQ"
      },
      "execution_count": 32,
      "outputs": []
    },
    {
      "cell_type": "code",
      "source": [
        "history  = model.fit(np.array(X_train),y_train,epochs = 10,batch_size = 64)\n",
        "                     "
      ],
      "metadata": {
        "colab": {
          "base_uri": "https://localhost:8080/"
        },
        "id": "yv64uRfNQuMJ",
        "outputId": "2d3147b6-b8a6-42a6-9bb2-de21e4c309a2"
      },
      "execution_count": 34,
      "outputs": [
        {
          "output_type": "stream",
          "name": "stdout",
          "text": [
            "Epoch 1/10\n",
            "276/276 [==============================] - 7s 24ms/step - loss: 0.2081 - accuracy: 0.9200\n",
            "Epoch 2/10\n",
            "276/276 [==============================] - 7s 24ms/step - loss: 0.2169 - accuracy: 0.9154\n",
            "Epoch 3/10\n",
            "276/276 [==============================] - 6s 23ms/step - loss: 0.2026 - accuracy: 0.9206\n",
            "Epoch 4/10\n",
            "276/276 [==============================] - 7s 24ms/step - loss: 0.1962 - accuracy: 0.9220\n",
            "Epoch 5/10\n",
            "276/276 [==============================] - 6s 23ms/step - loss: 0.1984 - accuracy: 0.9204\n",
            "Epoch 6/10\n",
            "276/276 [==============================] - 7s 24ms/step - loss: 0.1843 - accuracy: 0.9269\n",
            "Epoch 7/10\n",
            "276/276 [==============================] - 6s 23ms/step - loss: 0.1889 - accuracy: 0.9258\n",
            "Epoch 8/10\n",
            "276/276 [==============================] - 7s 24ms/step - loss: 0.1949 - accuracy: 0.9228\n",
            "Epoch 9/10\n",
            "276/276 [==============================] - 6s 23ms/step - loss: 0.1933 - accuracy: 0.9244\n",
            "Epoch 10/10\n",
            "276/276 [==============================] - 7s 24ms/step - loss: 0.1839 - accuracy: 0.9269\n"
          ]
        }
      ]
    },
    {
      "cell_type": "code",
      "source": [
        "model.save(\"resnet_malarai_pred.h5\")"
      ],
      "metadata": {
        "id": "iuyhuSG-QuJf"
      },
      "execution_count": 59,
      "outputs": []
    },
    {
      "cell_type": "code",
      "source": [
        "def plot_loss_curves(history):\n",
        "    \"\"\"\n",
        "    Returns separate loss curves for training and validation metrics.\n",
        "    Args:\n",
        "      history: TensorFlow model History object (see: https://www.tensorflow.org/api_docs/python/tf/keras/callbacks/History)\n",
        "    \"\"\"\n",
        "    loss = history.history['loss']\n",
        "    # val_loss = history.history['val_loss']\n",
        "\n",
        "    accuracy = history.history['accuracy']\n",
        "    # val_accuracy = history.history['val_accuracy']\n",
        "\n",
        "    epochs = range(len(history.history['loss']))\n",
        "\n",
        "    # Plot loss\n",
        "    plt.plot(epochs, loss, label='training_loss')\n",
        "    # plt.plot(epochs, val_loss, label='val_loss')\n",
        "    plt.title('Loss')\n",
        "    plt.xlabel('Epochs')\n",
        "    plt.legend()\n",
        "\n",
        "    # Plot accuracy\n",
        "    plt.figure()\n",
        "    plt.plot(epochs, accuracy, label='training_accuracy')\n",
        "    # plt.plot(epochs, val_accuracy, label='val_accuracy')\n",
        "    plt.title('Accuracy')\n",
        "    plt.xlabel('Epochs')\n",
        "    plt.legend();\n"
      ],
      "metadata": {
        "id": "gecyKWb0_ftp"
      },
      "execution_count": 35,
      "outputs": []
    },
    {
      "cell_type": "code",
      "source": [
        "plot_loss_curves(history)"
      ],
      "metadata": {
        "colab": {
          "base_uri": "https://localhost:8080/",
          "height": 573
        },
        "id": "XQDxBvvcZfls",
        "outputId": "bb269542-ecb7-4ff1-b4e3-fdab8b4329e6"
      },
      "execution_count": 36,
      "outputs": [
        {
          "output_type": "display_data",
          "data": {
            "text/plain": [
              "<Figure size 432x288 with 1 Axes>"
            ],
            "image/png": "[encoded data removed]"
          },
          "metadata": {
            "needs_background": "light"
          }
        },
        {
          "output_type": "display_data",
          "data": {
            "text/plain": [
              "<Figure size 432x288 with 1 Axes>"
            ],
            "image/png": "[encoded data removed]"
          },
          "metadata": {
            "needs_background": "light"
          }
        }
      ]
    },
    {
      "cell_type": "code",
      "source": [
        "y_pred = model.predict(np.array(X_test))"
      ],
      "metadata": {
        "colab": {
          "base_uri": "https://localhost:8080/"
        },
        "id": "a1JtTr8uao-V",
        "outputId": "88bafd34-f5be-47de-e60e-df80202eb831"
      },
      "execution_count": 37,
      "outputs": [
        {
          "output_type": "stream",
          "name": "stdout",
          "text": [
            "173/173 [==============================] - 3s 14ms/step\n"
          ]
        }
      ]
    },
    {
      "cell_type": "code",
      "source": [
        "y_pred[:5]"
      ],
      "metadata": {
        "colab": {
          "base_uri": "https://localhost:8080/"
        },
        "id": "CCfYwQkXaxEo",
        "outputId": "363d21a5-2ad4-4912-c997-0e641f29dbb0"
      },
      "execution_count": 38,
      "outputs": [
        {
          "output_type": "execute_result",
          "data": {
            "text/plain": [
              "array([[7.2301960e-01, 2.7698040e-01],\n",
              "       [2.4385008e-03, 9.9756145e-01],\n",
              "       [2.3260318e-04, 9.9976736e-01],\n",
              "       [2.1765491e-02, 9.7823447e-01],\n",
              "       [3.5090219e-02, 9.6490973e-01]], dtype=float32)"
            ]
          },
          "metadata": {},
          "execution_count": 38
        }
      ]
    },
    {
      "cell_type": "code",
      "source": [
        "y_pred = np.argmax(y_pred,axis = 1)\n",
        "y_pred[:5]"
      ],
      "metadata": {
        "colab": {
          "base_uri": "https://localhost:8080/"
        },
        "id": "jMvUBIfphkEq",
        "outputId": "0f4fc8fb-a43b-4898-9641-d7054dcb6a1f"
      },
      "execution_count": 42,
      "outputs": [
        {
          "output_type": "execute_result",
          "data": {
            "text/plain": [
              "array([0, 1, 1, 1, 1])"
            ]
          },
          "metadata": {},
          "execution_count": 42
        }
      ]
    },
    {
      "cell_type": "code",
      "source": [
        "from tensorflow.keras.preprocessing import image\n",
        "img = image.load_img(\"/content/malaria infected.jpg\",target_size = (64,64))"
      ],
      "metadata": {
        "id": "70xllpuWbf6g"
      },
      "execution_count": 45,
      "outputs": []
    },
    {
      "cell_type": "code",
      "source": [
        "x = image.img_to_array(img)"
      ],
      "metadata": {
        "id": "M3NDdDCtlo24"
      },
      "execution_count": 46,
      "outputs": []
    },
    {
      "cell_type": "code",
      "source": [
        "x.shape"
      ],
      "metadata": {
        "colab": {
          "base_uri": "https://localhost:8080/"
        },
        "id": "4cAz2UdNl_sz",
        "outputId": "15bd3e85-d04e-4984-e9b2-dc37bdcc6355"
      },
      "execution_count": 47,
      "outputs": [
        {
          "output_type": "execute_result",
          "data": {
            "text/plain": [
              "(64, 64, 3)"
            ]
          },
          "metadata": {},
          "execution_count": 47
        }
      ]
    },
    {
      "cell_type": "code",
      "source": [
        "x=x/255"
      ],
      "metadata": {
        "id": "0maJTvcYmCA6"
      },
      "execution_count": 48,
      "outputs": []
    },
    {
      "cell_type": "code",
      "source": [
        "x = tf.expand_dims(x,axis = 0)"
      ],
      "metadata": {
        "id": "vUkq3V5emC1Q"
      },
      "execution_count": 49,
      "outputs": []
    },
    {
      "cell_type": "code",
      "source": [
        "x.shape"
      ],
      "metadata": {
        "colab": {
          "base_uri": "https://localhost:8080/"
        },
        "id": "CVZDQJcMmFWA",
        "outputId": "801edb0d-b6f5-4f83-8668-6523746718f9"
      },
      "execution_count": 50,
      "outputs": [
        {
          "output_type": "execute_result",
          "data": {
            "text/plain": [
              "TensorShape([1, 64, 64, 3])"
            ]
          },
          "metadata": {},
          "execution_count": 50
        }
      ]
    },
    {
      "cell_type": "code",
      "source": [
        "model.predict(x)"
      ],
      "metadata": {
        "colab": {
          "base_uri": "https://localhost:8080/"
        },
        "id": "K6jgWN0PmF-a",
        "outputId": "a97f9c18-24aa-4e49-b7b8-4b423f1c543f"
      },
      "execution_count": 55,
      "outputs": [
        {
          "output_type": "stream",
          "name": "stdout",
          "text": [
            "1/1 [==============================] - 0s 27ms/step\n"
          ]
        },
        {
          "output_type": "execute_result",
          "data": {
            "text/plain": [
              "array([[0.69060063, 0.30939934]], dtype=float32)"
            ]
          },
          "metadata": {},
          "execution_count": 55
        }
      ]
    },
    {
      "cell_type": "code",
      "source": [
        "x_pred = tf.argmax(X_pred,axis =1)"
      ],
      "metadata": {
        "id": "JwmZ1zjQmJl9"
      },
      "execution_count": 56,
      "outputs": []
    },
    {
      "cell_type": "code",
      "source": [
        "x_pred"
      ],
      "metadata": {
        "colab": {
          "base_uri": "https://localhost:8080/"
        },
        "id": "9G0oGPhnmNI2",
        "outputId": "c4486927-cc8f-44b5-9f08-1400c65b555c"
      },
      "execution_count": 57,
      "outputs": [
        {
          "output_type": "execute_result",
          "data": {
            "text/plain": [
              "<tf.Tensor: shape=(1,), dtype=int64, numpy=array([0])>"
            ]
          },
          "metadata": {},
          "execution_count": 57
        }
      ]
    },
    {
      "cell_type": "code",
      "source": [
        "if x_pred == 0:\n",
        "  print('parasitized')\n",
        "else:\n",
        "  print('uninfected')"
      ],
      "metadata": {
        "colab": {
          "base_uri": "https://localhost:8080/"
        },
        "id": "q7rJygWmmOcW",
        "outputId": "e3aa073e-bf47-472f-e147-02c6656e6ea7"
      },
      "execution_count": 58,
      "outputs": [
        {
          "output_type": "stream",
          "name": "stdout",
          "text": [
            "parasitized\n"
          ]
        }
      ]
    },
    {
      "cell_type": "code",
      "source": [],
      "metadata": {
        "id": "FgPvH8Wbmjcl"
      },
      "execution_count": null,
      "outputs": []
    }
  ]
}