{
  "nbformat": 4,
  "nbformat_minor": 0,
  "metadata": {
    "colab": {
      "provenance": [],
      "authorship_tag": "ABX9TyNax9DsQxKrRQM+R5PNQbea",
      "include_colab_link": true
    },
    "kernelspec": {
      "name": "python3",
      "display_name": "Python 3"
    },
    "language_info": {
      "name": "python"
    },
    "gpuClass": "standard",
    "accelerator": "GPU"
  },
  "cells": [
    {
      "cell_type": "markdown",
      "metadata": {
        "id": "view-in-github",
        "colab_type": "text"
      },
      "source": [
        "<a href=\"https://colab.research.google.com/github/royal-dit/tensorflow-deeplearning/blob/main/mnist_Gans.ipynb\" target=\"_parent\"><img src=\"https://colab.research.google.com/assets/colab-badge.svg\" alt=\"Open In Colab\"/></a>"
      ]
    },
    {
      "cell_type": "code",
      "execution_count": 1,
      "metadata": {
        "id": "9OharxAIYAHG"
      },
      "outputs": [],
      "source": [
        "import tensorflow as tf\n",
        "import glob\n",
        "import imageio\n",
        "import matplotlib.pyplot as plt\n",
        "import numpy as np \n",
        "import os\n",
        "import PIL\n",
        "from tensorflow.keras import layers\n",
        "import time\n",
        "from tqdm import tqdm\n",
        "from IPython import display"
      ]
    },
    {
      "cell_type": "markdown",
      "source": [
        "** *import and preprocess the dataset* **\n",
        "\n",
        "\n",
        "\n",
        "\n"
      ],
      "metadata": {
        "id": "mybKa6qbZgDO"
      }
    },
    {
      "cell_type": "code",
      "source": [],
      "metadata": {
        "id": "yC3F0xGXn1JW"
      },
      "execution_count": null,
      "outputs": []
    },
    {
      "cell_type": "code",
      "source": [
        "(train_images,train_labels),(_,_) = tf.keras.datasets.mnist.load_data()\n",
        "train_image = train_images.reshape(train_images.shape[0],28,28,1).astype('float32')\n",
        "train_images = (train_images-127.5)/127.5 #normalize the images to [-1.1]"
      ],
      "metadata": {
        "colab": {
          "base_uri": "https://localhost:8080/"
        },
        "id": "Q9tVKAFcY750",
        "outputId": "275dee80-b705-485a-ef23-fdebd32f67c4"
      },
      "execution_count": 2,
      "outputs": [
        {
          "output_type": "stream",
          "name": "stdout",
          "text": [
            "Downloading data from https://storage.googleapis.com/tensorflow/tf-keras-datasets/mnist.npz\n",
            "11490434/11490434 [==============================] - 0s 0us/step\n"
          ]
        }
      ]
    },
    {
      "cell_type": "code",
      "source": [
        "# train_images = tf.image.resize(train_images,[20,20])\n",
        "train_images.shape"
      ],
      "metadata": {
        "colab": {
          "base_uri": "https://localhost:8080/"
        },
        "id": "-NPhMQTDltqe",
        "outputId": "eeb8cc13-3b58-40c7-c577-27a54d501264"
      },
      "execution_count": 3,
      "outputs": [
        {
          "output_type": "execute_result",
          "data": {
            "text/plain": [
              "(60000, 28, 28)"
            ]
          },
          "metadata": {},
          "execution_count": 3
        }
      ]
    },
    {
      "cell_type": "code",
      "source": [
        "import matplotlib.pyplot as plt\n",
        "plt.imshow(train_images[0])"
      ],
      "metadata": {
        "colab": {
          "base_uri": "https://localhost:8080/",
          "height": 282
        },
        "id": "u_XiNMq3nbuz",
        "outputId": "6f842123-175e-4c79-ae05-240fa00f42cb"
      },
      "execution_count": 4,
      "outputs": [
        {
          "output_type": "execute_result",
          "data": {
            "text/plain": [
              "<matplotlib.image.AxesImage at 0x7f7b46030910>"
            ]
          },
          "metadata": {},
          "execution_count": 4
        },
        {
          "output_type": "display_data",
          "data": {
            "text/plain": [
              "<Figure size 432x288 with 1 Axes>"
            ],
            "image/png": "[encoded data removed]"
          },
          "metadata": {
            "needs_background": "light"
          }
        }
      ]
    },
    {
      "cell_type": "code",
      "source": [
        "BUFFER_SIZE = 60000\n",
        "BATCH_SIZE = 256"
      ],
      "metadata": {
        "id": "815FZnHto3Mn"
      },
      "execution_count": 5,
      "outputs": []
    },
    {
      "cell_type": "code",
      "source": [
        "#batch and suffle the data\n",
        "train_dataset = tf.data.Dataset.from_tensor_slices(train_images)\n",
        "train_dataset = train_dataset.shuffle(BUFFER_SIZE)\n",
        "train_dataset = train_dataset.batch(BATCH_SIZE)\n",
        "\n"
      ],
      "metadata": {
        "id": "_d-92gSNpcV1"
      },
      "execution_count": 6,
      "outputs": []
    },
    {
      "cell_type": "markdown",
      "source": [
        "#build generator model"
      ],
      "metadata": {
        "id": "P6zuqrow6Jdt"
      }
    },
    {
      "cell_type": "code",
      "source": [
        "def make_generator_model():\n",
        "  model = tf.keras.Sequential()\n",
        "  model.add(layers.Dense(7*7*256,use_bias = False,input_shape=(100,)))\n",
        "  model.add(layers.BatchNormalization())\n",
        "  model.add(layers.LeakyReLU())\n",
        "\n",
        "  model.add(layers.Reshape((7,7,256)))\n",
        "  assert model.output_shape == (None,7,7,256) # none is the batch size\n",
        "\n",
        "  model.add(layers.Conv2DTranspose(128,(5,5),strides = (1,1),padding = 'same',use_bias = False))\n",
        "  assert model.output_shape==(None,7,7,128)\n",
        "  model.add(layers.BatchNormalization())\n",
        "  model.add(layers.LeakyReLU())\n",
        "\n",
        "  model.add(layers.Conv2DTranspose(64,(5,5),strides = (2,2),padding = 'same',use_bias = False))\n",
        "  assert model.output_shape ==(None,14,14,64)\n",
        "  model.add(layers.BatchNormalization())\n",
        "  model.add(layers.LeakyReLU())\n",
        "\n",
        "  model.add(layers.Conv2DTranspose(1,(5,5),strides = (2,2),padding='same',use_bias=False,activation='tanh'))\n",
        "  assert model.output_shape==(None,28,28,1)\n",
        "  \n",
        "  return model\n",
        "  "
      ],
      "metadata": {
        "id": "jKnX7X6upxLP"
      },
      "execution_count": 7,
      "outputs": []
    },
    {
      "cell_type": "code",
      "source": [
        "generator = make_generator_model()\n",
        "noise = tf.random.normal([1,100])\n",
        "generated_image = generator(noise,training=False)\n",
        "plt.imshow(generated_image[0,:,:,0],cmap='gray')\n"
      ],
      "metadata": {
        "colab": {
          "base_uri": "https://localhost:8080/",
          "height": 282
        },
        "id": "u1jlKMxhp7o-",
        "outputId": "42d96ed1-7e46-4f7c-917b-e956cba9e58a"
      },
      "execution_count": 8,
      "outputs": [
        {
          "output_type": "execute_result",
          "data": {
            "text/plain": [
              "<matplotlib.image.AxesImage at 0x7f7ae24ff0d0>"
            ]
          },
          "metadata": {},
          "execution_count": 8
        },
        {
          "output_type": "display_data",
          "data": {
            "text/plain": [
              "<Figure size 432x288 with 1 Axes>"
            ],
            "image/png": "[encoded data removed]"
          },
          "metadata": {
            "needs_background": "light"
          }
        }
      ]
    },
    {
      "cell_type": "code",
      "source": [
        "generator.summary()"
      ],
      "metadata": {
        "colab": {
          "base_uri": "https://localhost:8080/"
        },
        "id": "HdeZXJhm_TDJ",
        "outputId": "1c47bc3f-b281-44ca-e409-2aea66c20158"
      },
      "execution_count": 9,
      "outputs": [
        {
          "output_type": "stream",
          "name": "stdout",
          "text": [
            "Model: \"sequential\"\n",
            "_________________________________________________________________\n",
            " Layer (type)                Output Shape              Param #   \n",
            "=================================================================\n",
            " dense (Dense)               (None, 12544)             1254400   \n",
            "                                                                 \n",
            " batch_normalization (BatchN  (None, 12544)            50176     \n",
            " ormalization)                                                   \n",
            "                                                                 \n",
            " leaky_re_lu (LeakyReLU)     (None, 12544)             0         \n",
            "                                                                 \n",
            " reshape (Reshape)           (None, 7, 7, 256)         0         \n",
            "                                                                 \n",
            " conv2d_transpose (Conv2DTra  (None, 7, 7, 128)        819200    \n",
            " nspose)                                                         \n",
            "                                                                 \n",
            " batch_normalization_1 (Batc  (None, 7, 7, 128)        512       \n",
            " hNormalization)                                                 \n",
            "                                                                 \n",
            " leaky_re_lu_1 (LeakyReLU)   (None, 7, 7, 128)         0         \n",
            "                                                                 \n",
            " conv2d_transpose_1 (Conv2DT  (None, 14, 14, 64)       204800    \n",
            " ranspose)                                                       \n",
            "                                                                 \n",
            " batch_normalization_2 (Batc  (None, 14, 14, 64)       256       \n",
            " hNormalization)                                                 \n",
            "                                                                 \n",
            " leaky_re_lu_2 (LeakyReLU)   (None, 14, 14, 64)        0         \n",
            "                                                                 \n",
            " conv2d_transpose_2 (Conv2DT  (None, 28, 28, 1)        1600      \n",
            " ranspose)                                                       \n",
            "                                                                 \n",
            "=================================================================\n",
            "Total params: 2,330,944\n",
            "Trainable params: 2,305,472\n",
            "Non-trainable params: 25,472\n",
            "_________________________________________________________________\n"
          ]
        }
      ]
    },
    {
      "cell_type": "markdown",
      "source": [
        "#Discriminator model"
      ],
      "metadata": {
        "id": "OZexuVneAAbN"
      }
    },
    {
      "cell_type": "code",
      "source": [
        "def make_discriminator_mode():\n",
        "  model = tf.keras.Sequential()\n",
        "  model.add(layers.Conv2D(64,(5,5),strides = (2,2),padding = 'same',input_shape=[28,28,1]))\n",
        "\n",
        "  model.add(layers.LeakyReLU())\n",
        "  model.add(layers.Dropout(0.3))\n",
        "\n",
        "  model.add(layers.Conv2D(128,(5,5),strides = (2,2),padding='same'))\n",
        "  model.add(layers.LeakyReLU())\n",
        "  model.add(layers.Dropout(0.3))\n",
        "\n",
        "  model.add(layers.Flatten())\n",
        "  model.add(layers.Dense(1,activation = 'sigmoid'))\n",
        "  return model\n"
      ],
      "metadata": {
        "id": "2rWInSvV_oiT"
      },
      "execution_count": 10,
      "outputs": []
    },
    {
      "cell_type": "code",
      "source": [
        "discriminator = make_discriminator_mode()\n",
        "decision = discriminator(generated_image)\n",
        "print(decision)"
      ],
      "metadata": {
        "colab": {
          "base_uri": "https://localhost:8080/"
        },
        "id": "zuXHhWgAA8DZ",
        "outputId": "a33a357e-556e-46c0-e2ac-d97ad9a890eb"
      },
      "execution_count": 11,
      "outputs": [
        {
          "output_type": "stream",
          "name": "stdout",
          "text": [
            "tf.Tensor([[0.5002593]], shape=(1, 1), dtype=float32)\n"
          ]
        }
      ]
    },
    {
      "cell_type": "code",
      "source": [
        "discriminator.summary()"
      ],
      "metadata": {
        "colab": {
          "base_uri": "https://localhost:8080/"
        },
        "id": "4z6qLMDLBIue",
        "outputId": "cccc9d5d-e63d-4be0-c3f0-ad77424a80c0"
      },
      "execution_count": 12,
      "outputs": [
        {
          "output_type": "stream",
          "name": "stdout",
          "text": [
            "Model: \"sequential_1\"\n",
            "_________________________________________________________________\n",
            " Layer (type)                Output Shape              Param #   \n",
            "=================================================================\n",
            " conv2d (Conv2D)             (None, 14, 14, 64)        1664      \n",
            "                                                                 \n",
            " leaky_re_lu_3 (LeakyReLU)   (None, 14, 14, 64)        0         \n",
            "                                                                 \n",
            " dropout (Dropout)           (None, 14, 14, 64)        0         \n",
            "                                                                 \n",
            " conv2d_1 (Conv2D)           (None, 7, 7, 128)         204928    \n",
            "                                                                 \n",
            " leaky_re_lu_4 (LeakyReLU)   (None, 7, 7, 128)         0         \n",
            "                                                                 \n",
            " dropout_1 (Dropout)         (None, 7, 7, 128)         0         \n",
            "                                                                 \n",
            " flatten (Flatten)           (None, 6272)              0         \n",
            "                                                                 \n",
            " dense_1 (Dense)             (None, 1)                 6273      \n",
            "                                                                 \n",
            "=================================================================\n",
            "Total params: 212,865\n",
            "Trainable params: 212,865\n",
            "Non-trainable params: 0\n",
            "_________________________________________________________________\n"
          ]
        }
      ]
    },
    {
      "cell_type": "markdown",
      "source": [
        "#create loss function"
      ],
      "metadata": {
        "id": "X89h-OMqBvTM"
      }
    },
    {
      "cell_type": "code",
      "source": [
        "# this method returns a helper function to compute cros entroy loss\n",
        "cross_entropy = tf.keras.losses.BinaryCrossentropy(from_logits=True)\n"
      ],
      "metadata": {
        "id": "ZmllXJ_UBWsI"
      },
      "execution_count": 13,
      "outputs": []
    },
    {
      "cell_type": "code",
      "source": [
        "def discriminator_loss(real_output,fake_output):\n",
        "  real_loss = cross_entropy(tf.ones_like(real_output),real_output)\n",
        "  fake_loss = cross_entropy(tf.zeros_like(fake_output),fake_output)\n",
        "  total_loss = real_loss + fake_loss\n",
        "  return total_loss"
      ],
      "metadata": {
        "id": "n59Rge1YCBNi"
      },
      "execution_count": 14,
      "outputs": []
    },
    {
      "cell_type": "code",
      "source": [
        "def generator_loss(fake_output):\n",
        "  return cross_entropy(tf.ones_like(fake_output),fake_output)\n",
        "  "
      ],
      "metadata": {
        "id": "VnxLJxOrCdG_"
      },
      "execution_count": 15,
      "outputs": []
    },
    {
      "cell_type": "code",
      "source": [
        "generator_optimizer = tf.keras.optimizers.Adam(lr = 0.0004)\n",
        "discriminator_optimizer = tf.keras.optimizers.Adam(lr = 0.0004)"
      ],
      "metadata": {
        "colab": {
          "base_uri": "https://localhost:8080/"
        },
        "id": "UqmQboSXCqAd",
        "outputId": "fbfd79e9-35cd-4728-9954-de9e83d37689"
      },
      "execution_count": 16,
      "outputs": [
        {
          "output_type": "stream",
          "name": "stderr",
          "text": [
            "/usr/local/lib/python3.7/dist-packages/keras/optimizers/optimizer_v2/adam.py:110: UserWarning: The `lr` argument is deprecated, use `learning_rate` instead.\n",
            "  super(Adam, self).__init__(name, **kwargs)\n"
          ]
        }
      ]
    },
    {
      "cell_type": "code",
      "source": [
        "checkpoint_dir = './training_checkpoints'\n",
        "checkpoint_prefix = os.path.join(checkpoint_dir,'ckpt')\n",
        "checkpoint = tf.train.Checkpoint(generator_optimizer = generator_optimizer,\n",
        "                                 discriminator_optimizer=discriminator_optimizer,\n",
        "                                 generator = generator,\n",
        "                                 discriminator=discriminator)\n",
        "\n",
        "                                 \n",
        "                                 "
      ],
      "metadata": {
        "id": "fDiDz5NHDH04"
      },
      "execution_count": 17,
      "outputs": []
    },
    {
      "cell_type": "code",
      "source": [
        "EPOCHS = 50 \n",
        "noise_dim = 100\n",
        "num_example_to_generate = 16\n",
        "seed = tf.random.normal([num_example_to_generate,noise_dim])"
      ],
      "metadata": {
        "id": "cpMCInSAEqHs"
      },
      "execution_count": 18,
      "outputs": []
    },
    {
      "cell_type": "markdown",
      "source": [
        "#create the custom training loop"
      ],
      "metadata": {
        "id": "J6Aln24SFCrO"
      }
    },
    {
      "cell_type": "code",
      "source": [
        "from tensorflow.python.ops.gradients_impl import gradients\n",
        "@tf.function   #should be used when we are using custom training loop\n",
        "def train_step(images):\n",
        "  noise = tf.random.normal([BATCH_SIZE,noise_dim])\n",
        "  with tf.GradientTape() as gen_tape,tf.GradientTape() as disc_tape:\n",
        "    generated_image = generator(noise,training=True)\n",
        "    real_output = discriminator(images,training = True)\n",
        "    fake_output = discriminator(generated_image,training = True)\n",
        "\n",
        "    gen_loss = generator_loss(fake_output)\n",
        "    disc_loss = discriminator_loss(real_output,fake_output)\n",
        "  \n",
        "  gradients_of_generator = gen_tape.gradient(gen_loss,generator.trainable_variables)\n",
        "  gradients_of_discriminator = disc_tape.gradient(disc_loss,discriminator.trainable_variables)\n",
        "  \n",
        "  generator_optimizer.apply_gradients(zip(gradients_of_generator,generator.trainable_variables))\n",
        "  discriminator_optimizer.apply_gradients(zip(gradients_of_discriminator,discriminator.trainable_variables))\n"
      ],
      "metadata": {
        "id": "nSrOQ6IFE5PT"
      },
      "execution_count": 19,
      "outputs": []
    },
    {
      "cell_type": "code",
      "source": [
        "def train(dataset,epochs):\n",
        "  for epoch in range(epochs):\n",
        "    start = time.time()\n",
        "    \n",
        "    for image_batch in tqdm(dataset):\n",
        "      train_step(image_batch)\n",
        "    \n",
        "    #display and clear image after each epoch\n",
        "    display.clear_output(wait = True)\n",
        "    generate_and_save_images(generator,epoch+1,seed)\n",
        "\n",
        "    #save model by every 15 epochs\n",
        "    if (epoch + 1)%15 ==0:\n",
        "      checkpoint.save(file_prefix=checkpoint_prefix)\n",
        "    print('time for epoch {} is {} sec'.format(epoch+1,time.time()-start))\n",
        "  #generate after final epoch\n",
        "  display.clear_output(wait = True)\n",
        "  generate_and_save_images(generator,epochs,seed)"
      ],
      "metadata": {
        "id": "Gb4ovpEmG4g4"
      },
      "execution_count": 23,
      "outputs": []
    },
    {
      "cell_type": "code",
      "source": [
        "def generate_and_save_images(model,epoch,test_input):\n",
        "  #notice training set is set to false\n",
        "  #all the layers run in inference mode\n",
        "  predictions = model(test_input,training=False)\n",
        "  fig = plt.figure(figsize = (4,4))\n",
        "\n",
        "  for i in range(predictions.shape[0]):\n",
        "    plt.subplot(4,4,i+1)\n",
        "    plt.imshow(predictions[i,:,:,0]*127.5+127.5,cmap='gray')\n",
        "    plt.axis('off')\n",
        "  plt.savefig('image_at_epoch{:04d}.png'.format(epoch))\n",
        "  plt.show"
      ],
      "metadata": {
        "id": "MUc4X3n0JJ7X"
      },
      "execution_count": 24,
      "outputs": []
    },
    {
      "cell_type": "code",
      "source": [
        "train(train_dataset,EPOCHS)"
      ],
      "metadata": {
        "id": "y8_SdW1OKXRk"
      },
      "execution_count": null,
      "outputs": []
    },
    {
      "cell_type": "code",
      "source": [],
      "metadata": {
        "id": "VqhMBpLXKaYt"
      },
      "execution_count": null,
      "outputs": []
    }
  ]
}